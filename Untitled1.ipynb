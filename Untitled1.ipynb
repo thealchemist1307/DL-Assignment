{
 "cells": [
  {
   "cell_type": "code",
   "execution_count": 7,
   "metadata": {},
   "outputs": [],
   "source": [
    "import pandas as pd\n",
    "import numpy as np\n",
    "#data visualization packages\n",
    "import matplotlib.pyplot as plt\n",
    "#keras packages\n",
    "import keras\n",
    "from keras.models import Sequential\n",
    "from keras.layers import Convolution2D\n",
    "from keras.layers import MaxPooling2D\n",
    "from keras.layers import Flatten\n",
    "from keras.layers import Dense\n",
    "from keras.wrappers.scikit_learn import KerasClassifier\n",
    "from keras.layers import Dropout\n",
    "#model evaluation packages\n",
    "from sklearn.metrics import f1_score, roc_auc_score, log_loss\n",
    "from sklearn.model_selection import cross_val_score, cross_validate"
   ]
  },
  {
   "cell_type": "code",
   "execution_count": 8,
   "metadata": {},
   "outputs": [],
   "source": [
    "import pandas as pd\n",
    "mnist_train = pd.read_csv('mnist_train.csv', sep=',')\n",
    "mnist_test = pd.read_csv('mnist_test.csv', sep=',')\n",
    "X_train = mnist_train.drop(labels = [\"label\"],axis = 1) \n",
    "y_train = mnist_train[\"label\"]\n",
    "X_test = mnist_test.drop(labels = [\"label\"],axis = 1) \n",
    "y_test=mnist_test[\"label\"]"
   ]
  },
  {
   "cell_type": "code",
   "execution_count": 9,
   "metadata": {},
   "outputs": [
    {
     "name": "stdout",
     "output_type": "stream",
     "text": [
      "Number of unique classes:  10\n",
      "Classes:  [0 1 2 3 4 5 6 7 8 9]\n"
     ]
    }
   ],
   "source": [
    "\n",
    "#reshape data from 3-D to 2-D array\n",
    "X_train = X_train.values.reshape(60000, 784)\n",
    "X_test = X_test.values.reshape(10000, 784)\n",
    "#feature scaling\n",
    "from sklearn.preprocessing import MinMaxScaler\n",
    "minmax = MinMaxScaler()\n",
    "#fit and transform training dataset\n",
    "X_train = minmax.fit_transform(X_train)\n",
    "#transform testing dataset\n",
    "X_test = minmax.transform(X_test)\n",
    "print('Number of unique classes: ', len(np.unique(y_train)))\n",
    "print('Classes: ', np.unique(y_train))"
   ]
  },
  {
   "cell_type": "code",
   "execution_count": 10,
   "metadata": {},
   "outputs": [
    {
     "data": {
      "image/png": "[encoded data removed]",
      "text/plain": [
       "<Figure size 1080x360 with 10 Axes>"
      ]
     },
     "metadata": {
      "needs_background": "light"
     },
     "output_type": "display_data"
    }
   ],
   "source": [
    "\n",
    "fig, axes = plt.subplots(nrows=2, ncols=5,figsize=(15,5))          \n",
    "ax = axes.ravel()\n",
    "for i in range(10):\n",
    "    ax[i].imshow(X_train[i].reshape(28,28))\n",
    "    ax[i].title.set_text('Class: ' + str(y_train[i]))              \n",
    "plt.subplots_adjust(hspace=0.5)                                    \n",
    "plt.show()"
   ]
  },
  {
   "cell_type": "code",
   "execution_count": 11,
   "metadata": {},
   "outputs": [
    {
     "name": "stdout",
     "output_type": "stream",
     "text": [
      "Model: \"sequential_2\"\n",
      "_________________________________________________________________\n",
      "Layer (type)                 Output Shape              Param #   \n",
      "=================================================================\n",
      "dense_4 (Dense)              (None, 256)               200960    \n",
      "_________________________________________________________________\n",
      "dense_5 (Dense)              (None, 256)               65792     \n",
      "_________________________________________________________________\n",
      "dense_6 (Dense)              (None, 10)                2570      \n",
      "=================================================================\n",
      "Total params: 269,322\n",
      "Trainable params: 269,322\n",
      "Non-trainable params: 0\n",
      "_________________________________________________________________\n"
     ]
    }
   ],
   "source": [
    "model = Sequential()\n",
    "#add 1st hidden layer\n",
    "model.add(Dense(input_dim = X_train.shape[1], units = 256, kernel_initializer='uniform', activation='relu'))\n",
    "#add output layer\n",
    "model.add(Dense(input_dim = X_train.shape[1], units = 256, kernel_initializer='uniform', activation='relu'))\n",
    "model.add(Dense(units = 10, kernel_initializer='uniform', activation='softmax'))\n",
    "#compile the neural network\n",
    "model.compile(optimizer='adam', loss='sparse_categorical_crossentropy', metrics=['accuracy'])\n",
    "#model summary\n",
    "model.summary()"
   ]
  },
  {
   "cell_type": "code",
   "execution_count": 12,
   "metadata": {},
   "outputs": [
    {
     "name": "stdout",
     "output_type": "stream",
     "text": [
      "Train on 54000 samples, validate on 6000 samples\n",
      "Epoch 1/20\n",
      "54000/54000 [==============================] - 10s 187us/step - loss: 0.2473 - accuracy: 0.9257 - val_loss: 0.1101 - val_accuracy: 0.9655\n",
      "Epoch 2/20\n",
      "54000/54000 [==============================] - 10s 193us/step - loss: 0.0994 - accuracy: 0.9689 - val_loss: 0.0819 - val_accuracy: 0.9763\n",
      "Epoch 3/20\n",
      "54000/54000 [==============================] - 8s 148us/step - loss: 0.0669 - accuracy: 0.9787 - val_loss: 0.0903 - val_accuracy: 0.9742\n",
      "Epoch 4/20\n",
      "54000/54000 [==============================] - 8s 153us/step - loss: 0.0497 - accuracy: 0.9836 - val_loss: 0.0634 - val_accuracy: 0.9820\n",
      "Epoch 5/20\n",
      "54000/54000 [==============================] - 8s 154us/step - loss: 0.0384 - accuracy: 0.9875 - val_loss: 0.0677 - val_accuracy: 0.9817\n",
      "Epoch 6/20\n",
      "54000/54000 [==============================] - 7s 136us/step - loss: 0.0311 - accuracy: 0.9899 - val_loss: 0.0829 - val_accuracy: 0.9795\n",
      "Epoch 7/20\n",
      "54000/54000 [==============================] - 8s 154us/step - loss: 0.0254 - accuracy: 0.9916 - val_loss: 0.0873 - val_accuracy: 0.9795\n",
      "Epoch 8/20\n",
      "54000/54000 [==============================] - 8s 147us/step - loss: 0.0231 - accuracy: 0.9926 - val_loss: 0.0827 - val_accuracy: 0.9802\n",
      "Epoch 9/20\n",
      "54000/54000 [==============================] - 8s 140us/step - loss: 0.0199 - accuracy: 0.9936 - val_loss: 0.0864 - val_accuracy: 0.9822\n",
      "Epoch 10/20\n",
      "54000/54000 [==============================] - 8s 139us/step - loss: 0.0183 - accuracy: 0.9944 - val_loss: 0.0897 - val_accuracy: 0.9787\n",
      "Epoch 11/20\n",
      "54000/54000 [==============================] - 7s 137us/step - loss: 0.0171 - accuracy: 0.9943 - val_loss: 0.0890 - val_accuracy: 0.9807\n",
      "Epoch 12/20\n",
      "54000/54000 [==============================] - 8s 142us/step - loss: 0.0163 - accuracy: 0.9949 - val_loss: 0.1080 - val_accuracy: 0.9790\n",
      "Epoch 13/20\n",
      "54000/54000 [==============================] - 10s 177us/step - loss: 0.0124 - accuracy: 0.9963 - val_loss: 0.1018 - val_accuracy: 0.9805\n",
      "Epoch 14/20\n",
      "54000/54000 [==============================] - 10s 177us/step - loss: 0.0166 - accuracy: 0.9946 - val_loss: 0.1172 - val_accuracy: 0.9810\n",
      "Epoch 15/20\n",
      "54000/54000 [==============================] - 10s 193us/step - loss: 0.0111 - accuracy: 0.9965 - val_loss: 0.0982 - val_accuracy: 0.9840\n",
      "Epoch 16/20\n",
      "54000/54000 [==============================] - 9s 158us/step - loss: 0.0122 - accuracy: 0.9966 - val_loss: 0.1164 - val_accuracy: 0.9803\n",
      "Epoch 17/20\n",
      "54000/54000 [==============================] - 10s 191us/step - loss: 0.0116 - accuracy: 0.9960 - val_loss: 0.1124 - val_accuracy: 0.9820\n",
      "Epoch 18/20\n",
      "54000/54000 [==============================] - 9s 169us/step - loss: 0.0106 - accuracy: 0.9965 - val_loss: 0.1001 - val_accuracy: 0.9820\n",
      "Epoch 19/20\n",
      "54000/54000 [==============================] - 9s 159us/step - loss: 0.0124 - accuracy: 0.9962 - val_loss: 0.1339 - val_accuracy: 0.9798\n",
      "Epoch 20/20\n",
      "54000/54000 [==============================] - 10s 179us/step - loss: 0.0097 - accuracy: 0.9972 - val_loss: 0.1144 - val_accuracy: 0.9835\n"
     ]
    }
   ],
   "source": [
    "#fit training dataset into the model\n",
    "model_fit = model.fit(X_train, y_train,validation_split = 0.1,epochs=20, verbose=1)"
   ]
  },
  {
   "cell_type": "code",
   "execution_count": 15,
   "metadata": {},
   "outputs": [
    {
     "name": "stdout",
     "output_type": "stream",
     "text": [
      "dict_keys(['val_loss', 'val_accuracy', 'loss', 'accuracy'])\n"
     ]
    },
    {
     "data": {
      "image/png": "[encoded data removed]",
      "text/plain": [
       "<Figure size 432x288 with 1 Axes>"
      ]
     },
     "metadata": {
      "needs_background": "light"
     },
     "output_type": "display_data"
    }
   ],
   "source": [
    "print(model_fit.history.keys())\n",
    "plt.plot(model_fit.history['accuracy'])\n",
    "plt.plot(model_fit.history['val_accuracy'])\n",
    "plt.title('model accuracy')\n",
    "plt.ylabel('accuracy')\n",
    "plt.xlabel('epoch')\n",
    "plt.legend(['train', 'test'], loc='upper left')\n",
    "plt.show()"
   ]
  },
  {
   "cell_type": "code",
   "execution_count": 16,
   "metadata": {},
   "outputs": [
    {
     "data": {
      "text/html": [
       "<div>\n",
       "<style scoped>\n",
       "    .dataframe tbody tr th:only-of-type {\n",
       "        vertical-align: middle;\n",
       "    }\n",
       "\n",
       "    .dataframe tbody tr th {\n",
       "        vertical-align: top;\n",
       "    }\n",
       "\n",
       "    .dataframe thead th {\n",
       "        text-align: right;\n",
       "    }\n",
       "</style>\n",
       "<table border=\"1\" class=\"dataframe\">\n",
       "  <thead>\n",
       "    <tr style=\"text-align: right;\">\n",
       "      <th></th>\n",
       "      <th>Test accuracy</th>\n",
       "      <th>F1 score</th>\n",
       "      <th>ROC AUC score</th>\n",
       "      <th>Total Loss</th>\n",
       "    </tr>\n",
       "  </thead>\n",
       "  <tbody>\n",
       "    <tr>\n",
       "      <th>0</th>\n",
       "      <td>98.12</td>\n",
       "      <td>0.981</td>\n",
       "      <td>1.0</td>\n",
       "      <td>0.12</td>\n",
       "    </tr>\n",
       "  </tbody>\n",
       "</table>\n",
       "</div>"
      ],
      "text/plain": [
       "   Test accuracy  F1 score  ROC AUC score  Total Loss\n",
       "0          98.12     0.981            1.0        0.12"
      ]
     },
     "metadata": {},
     "output_type": "display_data"
    }
   ],
   "source": [
    "#evaluate the model for testing dataset\n",
    "test_loss = model.evaluate(X_test, y_test, verbose=0)\n",
    "#calculate evaluation parameters\n",
    "f1 = f1_score(y_test, model.predict_classes(X_test), average='micro')\n",
    "roc = roc_auc_score(y_test, model.predict_proba(X_test), multi_class='ovo')\n",
    "#create evaluation dataframe\n",
    "stats = pd.DataFrame({'Test accuracy' :  round(test_loss[1]*100,3),\n",
    "                      'F1 score'      : round(f1,3),\n",
    "                      'ROC AUC score' : round(roc,3),\n",
    "                      'Total Loss'    : round(test_loss[0],3)}, index=[0])\n",
    "#print evaluation dataframe\n",
    "display(stats)"
   ]
  },
  {
   "cell_type": "code",
   "execution_count": 8,
   "metadata": {},
   "outputs": [
    {
     "ename": "TypeError",
     "evalue": "'History' object is not subscriptable",
     "output_type": "error",
     "traceback": [
      "\u001b[0;31m---------------------------------------------------------------------------\u001b[0m",
      "\u001b[0;31mTypeError\u001b[0m                                 Traceback (most recent call last)",
      "\u001b[0;32m<ipython-input-8-677e39a5f8d8>\u001b[0m in \u001b[0;36m<module>\u001b[0;34m()\u001b[0m\n\u001b[0;32m----> 1\u001b[0;31m \u001b[0mplt\u001b[0m\u001b[0;34m.\u001b[0m\u001b[0mplot\u001b[0m\u001b[0;34m(\u001b[0m\u001b[0mclassifier_e25\u001b[0m\u001b[0;34m.\u001b[0m\u001b[0mhistory\u001b[0m\u001b[0;34m[\u001b[0m\u001b[0;34m'loss'\u001b[0m\u001b[0;34m]\u001b[0m\u001b[0;34m)\u001b[0m\u001b[0;34m\u001b[0m\u001b[0;34m\u001b[0m\u001b[0m\n\u001b[0m\u001b[1;32m      2\u001b[0m \u001b[0mplt\u001b[0m\u001b[0;34m.\u001b[0m\u001b[0mplot\u001b[0m\u001b[0;34m(\u001b[0m\u001b[0mclassifier_e25\u001b[0m\u001b[0;34m.\u001b[0m\u001b[0mhistory\u001b[0m\u001b[0;34m[\u001b[0m\u001b[0;34m'val_loss'\u001b[0m\u001b[0;34m]\u001b[0m\u001b[0;34m)\u001b[0m\u001b[0;34m\u001b[0m\u001b[0;34m\u001b[0m\u001b[0m\n\u001b[1;32m      3\u001b[0m \u001b[0mplt\u001b[0m\u001b[0;34m.\u001b[0m\u001b[0mtitle\u001b[0m\u001b[0;34m(\u001b[0m\u001b[0;34m'model loss'\u001b[0m\u001b[0;34m)\u001b[0m\u001b[0;34m\u001b[0m\u001b[0;34m\u001b[0m\u001b[0m\n\u001b[1;32m      4\u001b[0m \u001b[0mplt\u001b[0m\u001b[0;34m.\u001b[0m\u001b[0mylabel\u001b[0m\u001b[0;34m(\u001b[0m\u001b[0;34m'loss'\u001b[0m\u001b[0;34m)\u001b[0m\u001b[0;34m\u001b[0m\u001b[0;34m\u001b[0m\u001b[0m\n\u001b[1;32m      5\u001b[0m \u001b[0mplt\u001b[0m\u001b[0;34m.\u001b[0m\u001b[0mxlabel\u001b[0m\u001b[0;34m(\u001b[0m\u001b[0;34m'epoch'\u001b[0m\u001b[0;34m)\u001b[0m\u001b[0;34m\u001b[0m\u001b[0;34m\u001b[0m\u001b[0m\n",
      "\u001b[0;31mTypeError\u001b[0m: 'History' object is not subscriptable"
     ]
    }
   ],
   "source": []
  },
  {
   "cell_type": "code",
   "execution_count": 14,
   "metadata": {},
   "outputs": [],
   "source": [
    "#Model 2"
   ]
  },
  {
   "cell_type": "code",
   "execution_count": 53,
   "metadata": {},
   "outputs": [],
   "source": []
  },
  {
   "cell_type": "code",
   "execution_count": 33,
   "metadata": {},
   "outputs": [],
   "source": [
    "import pandas as pd\n",
    "import numpy as np\n",
    "#data visualization packages\n",
    "import matplotlib.pyplot as plt\n",
    "#keras packages\n",
    "import keras\n",
    "from keras.models import Sequential\n",
    "from keras.layers import Convolution2D\n",
    "from keras.layers import MaxPooling2D\n",
    "from keras.layers import Flatten\n",
    "from keras.layers import Dense\n",
    "from keras.wrappers.scikit_learn import KerasClassifier\n",
    "from keras.layers import Dropout\n",
    "#model evaluation packages\n",
    "from sklearn.metrics import f1_score, roc_auc_score, log_loss\n",
    "from sklearn.model_selection import cross_val_score, cross_validate"
   ]
  },
  {
   "cell_type": "code",
   "execution_count": 34,
   "metadata": {},
   "outputs": [],
   "source": [
    "import pandas as pd\n",
    "mnist_train = pd.read_csv('mnist_train.csv', sep=',')\n",
    "mnist_test = pd.read_csv('mnist_test.csv', sep=',')\n",
    "X_train = mnist_train.drop(labels = [\"label\"],axis = 1) \n",
    "y_train = mnist_train[\"label\"]\n",
    "X_test = mnist_test.drop(labels = [\"label\"],axis = 1) \n",
    "y_test=mnist_test[\"label\"]"
   ]
  },
  {
   "cell_type": "code",
   "execution_count": 35,
   "metadata": {},
   "outputs": [
    {
     "name": "stdout",
     "output_type": "stream",
     "text": [
      "Number of unique classes:  10\n",
      "Classes:  [0 1 2 3 4 5 6 7 8 9]\n"
     ]
    }
   ],
   "source": [
    "\n",
    "#reshape data from 3-D to 2-D array\n",
    "X_train = X_train.values.reshape(60000, 784)\n",
    "X_test = X_test.values.reshape(10000, 784)\n",
    "#feature scaling\n",
    "# from sklearn.preprocessing import MinMaxScaler\n",
    "# minmax = MinMaxScaler()\n",
    "# #fit and transform training dataset\n",
    "# X_train = minmax.fit_transform(X_train)\n",
    "# #transform testing dataset\n",
    "# X_test = minmax.transform(X_test)\n",
    "print('Number of unique classes: ', len(np.unique(y_train)))\n",
    "print('Classes: ', np.unique(y_train))"
   ]
  },
  {
   "cell_type": "code",
   "execution_count": 36,
   "metadata": {},
   "outputs": [
    {
     "data": {
      "image/png": "[encoded data removed]",
      "text/plain": [
       "<Figure size 1080x360 with 10 Axes>"
      ]
     },
     "metadata": {
      "needs_background": "light"
     },
     "output_type": "display_data"
    }
   ],
   "source": [
    "\n",
    "fig, axes = plt.subplots(nrows=2, ncols=5,figsize=(15,5))          \n",
    "ax = axes.ravel()\n",
    "for i in range(10):\n",
    "    ax[i].imshow(X_train[i].reshape(28,28))\n",
    "    ax[i].title.set_text('Class: ' + str(y_train[i]))              \n",
    "plt.subplots_adjust(hspace=0.5)                                    \n",
    "plt.show()"
   ]
  },
  {
   "cell_type": "code",
   "execution_count": 37,
   "metadata": {},
   "outputs": [
    {
     "name": "stdout",
     "output_type": "stream",
     "text": [
      "Model: \"sequential_5\"\n",
      "_________________________________________________________________\n",
      "Layer (type)                 Output Shape              Param #   \n",
      "=================================================================\n",
      "dense_13 (Dense)             (None, 256)               200960    \n",
      "_________________________________________________________________\n",
      "dense_14 (Dense)             (None, 256)               65792     \n",
      "_________________________________________________________________\n",
      "dense_15 (Dense)             (None, 10)                2570      \n",
      "=================================================================\n",
      "Total params: 269,322\n",
      "Trainable params: 269,322\n",
      "Non-trainable params: 0\n",
      "_________________________________________________________________\n"
     ]
    }
   ],
   "source": [
    "model = Sequential()\n",
    "#add 1st hidden layer\n",
    "model.add(Dense(input_dim = X_train.shape[1], units = 256, kernel_initializer='uniform', activation='relu'))\n",
    "#add output layer\n",
    "model.add(Dense(input_dim = X_train.shape[1], units = 256, kernel_initializer='uniform', activation='relu'))\n",
    "model.add(Dense(units = 10, kernel_initializer='uniform', activation='softmax'))\n",
    "#compile the neural network\n",
    "model.compile(optimizer='adam', loss='sparse_categorical_crossentropy', metrics=['accuracy'])\n",
    "#model summary\n",
    "model.summary()"
   ]
  },
  {
   "cell_type": "code",
   "execution_count": 38,
   "metadata": {},
   "outputs": [
    {
     "name": "stdout",
     "output_type": "stream",
     "text": [
      "Train on 54000 samples, validate on 6000 samples\n",
      "Epoch 1/10\n",
      "37280/54000 [===================>..........] - ETA: 3s - loss: 0.2891 - accuracy: 0.9141"
     ]
    },
    {
     "ename": "KeyboardInterrupt",
     "evalue": "",
     "output_type": "error",
     "traceback": [
      "\u001b[0;31m---------------------------------------------------------------------------\u001b[0m",
      "\u001b[0;31mKeyboardInterrupt\u001b[0m                         Traceback (most recent call last)",
      "\u001b[0;32m<ipython-input-38-80262ea07a4b>\u001b[0m in \u001b[0;36m<module>\u001b[0;34m()\u001b[0m\n\u001b[1;32m      1\u001b[0m \u001b[0;31m#fit training dataset into the model\u001b[0m\u001b[0;34m\u001b[0m\u001b[0;34m\u001b[0m\u001b[0;34m\u001b[0m\u001b[0m\n\u001b[0;32m----> 2\u001b[0;31m \u001b[0mmodel_fit\u001b[0m \u001b[0;34m=\u001b[0m \u001b[0mmodel\u001b[0m\u001b[0;34m.\u001b[0m\u001b[0mfit\u001b[0m\u001b[0;34m(\u001b[0m\u001b[0mX_train\u001b[0m\u001b[0;34m,\u001b[0m \u001b[0my_train\u001b[0m\u001b[0;34m,\u001b[0m\u001b[0mvalidation_split\u001b[0m \u001b[0;34m=\u001b[0m \u001b[0;36m0.1\u001b[0m\u001b[0;34m,\u001b[0m\u001b[0mepochs\u001b[0m\u001b[0;34m=\u001b[0m\u001b[0;36m10\u001b[0m\u001b[0;34m,\u001b[0m \u001b[0mverbose\u001b[0m\u001b[0;34m=\u001b[0m\u001b[0;36m1\u001b[0m\u001b[0;34m)\u001b[0m\u001b[0;34m\u001b[0m\u001b[0;34m\u001b[0m\u001b[0m\n\u001b[0m",
      "\u001b[0;32m/home/nishit/.conda/envs/venv/lib/python3.7/site-packages/keras/engine/training.py\u001b[0m in \u001b[0;36mfit\u001b[0;34m(self, x, y, batch_size, epochs, verbose, callbacks, validation_split, validation_data, shuffle, class_weight, sample_weight, initial_epoch, steps_per_epoch, validation_steps, validation_freq, max_queue_size, workers, use_multiprocessing, **kwargs)\u001b[0m\n\u001b[1;32m   1237\u001b[0m                                         \u001b[0msteps_per_epoch\u001b[0m\u001b[0;34m=\u001b[0m\u001b[0msteps_per_epoch\u001b[0m\u001b[0;34m,\u001b[0m\u001b[0;34m\u001b[0m\u001b[0;34m\u001b[0m\u001b[0m\n\u001b[1;32m   1238\u001b[0m                                         \u001b[0mvalidation_steps\u001b[0m\u001b[0;34m=\u001b[0m\u001b[0mvalidation_steps\u001b[0m\u001b[0;34m,\u001b[0m\u001b[0;34m\u001b[0m\u001b[0;34m\u001b[0m\u001b[0m\n\u001b[0;32m-> 1239\u001b[0;31m                                         validation_freq=validation_freq)\n\u001b[0m\u001b[1;32m   1240\u001b[0m \u001b[0;34m\u001b[0m\u001b[0m\n\u001b[1;32m   1241\u001b[0m     def evaluate(self,\n",
      "\u001b[0;32m/home/nishit/.conda/envs/venv/lib/python3.7/site-packages/keras/engine/training_arrays.py\u001b[0m in \u001b[0;36mfit_loop\u001b[0;34m(model, fit_function, fit_inputs, out_labels, batch_size, epochs, verbose, callbacks, val_function, val_inputs, shuffle, initial_epoch, steps_per_epoch, validation_steps, validation_freq)\u001b[0m\n\u001b[1;32m    184\u001b[0m                             fit_inputs[:-1], batch_ids) + [fit_inputs[-1]]\n\u001b[1;32m    185\u001b[0m                     \u001b[0;32melse\u001b[0m\u001b[0;34m:\u001b[0m\u001b[0;34m\u001b[0m\u001b[0;34m\u001b[0m\u001b[0m\n\u001b[0;32m--> 186\u001b[0;31m                         \u001b[0mins_batch\u001b[0m \u001b[0;34m=\u001b[0m \u001b[0mslice_arrays\u001b[0m\u001b[0;34m(\u001b[0m\u001b[0mfit_inputs\u001b[0m\u001b[0;34m,\u001b[0m \u001b[0mbatch_ids\u001b[0m\u001b[0;34m)\u001b[0m\u001b[0;34m\u001b[0m\u001b[0;34m\u001b[0m\u001b[0m\n\u001b[0m\u001b[1;32m    187\u001b[0m                 \u001b[0;32mexcept\u001b[0m \u001b[0mTypeError\u001b[0m\u001b[0;34m:\u001b[0m\u001b[0;34m\u001b[0m\u001b[0;34m\u001b[0m\u001b[0m\n\u001b[1;32m    188\u001b[0m                     raise TypeError('TypeError while preparing batch. '\n",
      "\u001b[0;32m/home/nishit/.conda/envs/venv/lib/python3.7/site-packages/keras/utils/generic_utils.py\u001b[0m in \u001b[0;36mslice_arrays\u001b[0;34m(arrays, start, stop)\u001b[0m\n\u001b[1;32m    553\u001b[0m             \u001b[0;32mif\u001b[0m \u001b[0mhasattr\u001b[0m\u001b[0;34m(\u001b[0m\u001b[0mstart\u001b[0m\u001b[0;34m,\u001b[0m \u001b[0;34m'shape'\u001b[0m\u001b[0;34m)\u001b[0m\u001b[0;34m:\u001b[0m\u001b[0;34m\u001b[0m\u001b[0;34m\u001b[0m\u001b[0m\n\u001b[1;32m    554\u001b[0m                 \u001b[0mstart\u001b[0m \u001b[0;34m=\u001b[0m \u001b[0mstart\u001b[0m\u001b[0;34m.\u001b[0m\u001b[0mtolist\u001b[0m\u001b[0;34m(\u001b[0m\u001b[0;34m)\u001b[0m\u001b[0;34m\u001b[0m\u001b[0;34m\u001b[0m\u001b[0m\n\u001b[0;32m--> 555\u001b[0;31m             \u001b[0;32mreturn\u001b[0m \u001b[0;34m[\u001b[0m\u001b[0;32mNone\u001b[0m \u001b[0;32mif\u001b[0m \u001b[0mx\u001b[0m \u001b[0;32mis\u001b[0m \u001b[0;32mNone\u001b[0m \u001b[0;32melse\u001b[0m \u001b[0mx\u001b[0m\u001b[0;34m[\u001b[0m\u001b[0mstart\u001b[0m\u001b[0;34m]\u001b[0m \u001b[0;32mfor\u001b[0m \u001b[0mx\u001b[0m \u001b[0;32min\u001b[0m \u001b[0marrays\u001b[0m\u001b[0;34m]\u001b[0m\u001b[0;34m\u001b[0m\u001b[0;34m\u001b[0m\u001b[0m\n\u001b[0m\u001b[1;32m    556\u001b[0m         \u001b[0;32melse\u001b[0m\u001b[0;34m:\u001b[0m\u001b[0;34m\u001b[0m\u001b[0;34m\u001b[0m\u001b[0m\n\u001b[1;32m    557\u001b[0m             \u001b[0;32mreturn\u001b[0m \u001b[0;34m[\u001b[0m\u001b[0;32mNone\u001b[0m \u001b[0;32mif\u001b[0m \u001b[0mx\u001b[0m \u001b[0;32mis\u001b[0m \u001b[0;32mNone\u001b[0m \u001b[0;32melse\u001b[0m \u001b[0mx\u001b[0m\u001b[0;34m[\u001b[0m\u001b[0mstart\u001b[0m\u001b[0;34m:\u001b[0m\u001b[0mstop\u001b[0m\u001b[0;34m]\u001b[0m \u001b[0;32mfor\u001b[0m \u001b[0mx\u001b[0m \u001b[0;32min\u001b[0m \u001b[0marrays\u001b[0m\u001b[0;34m]\u001b[0m\u001b[0;34m\u001b[0m\u001b[0;34m\u001b[0m\u001b[0m\n",
      "\u001b[0;32m/home/nishit/.conda/envs/venv/lib/python3.7/site-packages/keras/utils/generic_utils.py\u001b[0m in \u001b[0;36m<listcomp>\u001b[0;34m(.0)\u001b[0m\n\u001b[1;32m    553\u001b[0m             \u001b[0;32mif\u001b[0m \u001b[0mhasattr\u001b[0m\u001b[0;34m(\u001b[0m\u001b[0mstart\u001b[0m\u001b[0;34m,\u001b[0m \u001b[0;34m'shape'\u001b[0m\u001b[0;34m)\u001b[0m\u001b[0;34m:\u001b[0m\u001b[0;34m\u001b[0m\u001b[0;34m\u001b[0m\u001b[0m\n\u001b[1;32m    554\u001b[0m                 \u001b[0mstart\u001b[0m \u001b[0;34m=\u001b[0m \u001b[0mstart\u001b[0m\u001b[0;34m.\u001b[0m\u001b[0mtolist\u001b[0m\u001b[0;34m(\u001b[0m\u001b[0;34m)\u001b[0m\u001b[0;34m\u001b[0m\u001b[0;34m\u001b[0m\u001b[0m\n\u001b[0;32m--> 555\u001b[0;31m             \u001b[0;32mreturn\u001b[0m \u001b[0;34m[\u001b[0m\u001b[0;32mNone\u001b[0m \u001b[0;32mif\u001b[0m \u001b[0mx\u001b[0m \u001b[0;32mis\u001b[0m \u001b[0;32mNone\u001b[0m \u001b[0;32melse\u001b[0m \u001b[0mx\u001b[0m\u001b[0;34m[\u001b[0m\u001b[0mstart\u001b[0m\u001b[0;34m]\u001b[0m \u001b[0;32mfor\u001b[0m \u001b[0mx\u001b[0m \u001b[0;32min\u001b[0m \u001b[0marrays\u001b[0m\u001b[0;34m]\u001b[0m\u001b[0;34m\u001b[0m\u001b[0;34m\u001b[0m\u001b[0m\n\u001b[0m\u001b[1;32m    556\u001b[0m         \u001b[0;32melse\u001b[0m\u001b[0;34m:\u001b[0m\u001b[0;34m\u001b[0m\u001b[0;34m\u001b[0m\u001b[0m\n\u001b[1;32m    557\u001b[0m             \u001b[0;32mreturn\u001b[0m \u001b[0;34m[\u001b[0m\u001b[0;32mNone\u001b[0m \u001b[0;32mif\u001b[0m \u001b[0mx\u001b[0m \u001b[0;32mis\u001b[0m \u001b[0;32mNone\u001b[0m \u001b[0;32melse\u001b[0m \u001b[0mx\u001b[0m\u001b[0;34m[\u001b[0m\u001b[0mstart\u001b[0m\u001b[0;34m:\u001b[0m\u001b[0mstop\u001b[0m\u001b[0;34m]\u001b[0m \u001b[0;32mfor\u001b[0m \u001b[0mx\u001b[0m \u001b[0;32min\u001b[0m \u001b[0marrays\u001b[0m\u001b[0;34m]\u001b[0m\u001b[0;34m\u001b[0m\u001b[0;34m\u001b[0m\u001b[0m\n",
      "\u001b[0;31mKeyboardInterrupt\u001b[0m: "
     ]
    }
   ],
   "source": [
    "#fit training dataset into the model\n",
    "model_fit = model.fit(X_train, y_train,validation_split = 0.1,epochs=10, verbose=1)"
   ]
  },
  {
   "cell_type": "code",
   "execution_count": null,
   "metadata": {},
   "outputs": [],
   "source": [
    "print(model_fit.history.keys())\n",
    "plt.plot(model_fit.history['accuracy'])\n",
    "plt.plot(model_fit.history['val_accuracy'])\n",
    "plt.title('model accuracy')\n",
    "plt.ylabel('accuracy')\n",
    "plt.xlabel('epoch')\n",
    "plt.legend(['train', 'test'], loc='upper left')\n",
    "plt.show()"
   ]
  },
  {
   "cell_type": "code",
   "execution_count": null,
   "metadata": {},
   "outputs": [],
   "source": [
    "#evaluate the model for testing dataset\n",
    "test_loss = model.evaluate(X_test, y_test, verbose=0)\n",
    "#calculate evaluation parameters\n",
    "f1 = f1_score(y_test, model.predict_classes(X_test), average='micro')\n",
    "roc = roc_auc_score(y_test, model.predict_proba(X_test), multi_class='ovo')\n",
    "#create evaluation dataframe\n",
    "stats = pd.DataFrame({'Test accuracy' :  round(test_loss[1]*100,3),\n",
    "                      'F1 score'      : round(f1,3),\n",
    "                      'ROC AUC score' : round(roc,3),\n",
    "                      'Total Loss'    : round(test_loss[0],3)}, index=[0])\n",
    "#print evaluation dataframe\n",
    "display(stats)"
   ]
  },
  {
   "cell_type": "code",
   "execution_count": 54,
   "metadata": {},
   "outputs": [],
   "source": []
  },
  {
   "cell_type": "code",
   "execution_count": null,
   "metadata": {},
   "outputs": [],
   "source": [
    "#Model 3"
   ]
  },
  {
   "cell_type": "code",
   "execution_count": 56,
   "metadata": {},
   "outputs": [],
   "source": []
  },
  {
   "cell_type": "code",
   "execution_count": 39,
   "metadata": {},
   "outputs": [],
   "source": [
    "import pandas as pd\n",
    "import numpy as np\n",
    "#data visualization packages\n",
    "import matplotlib.pyplot as plt\n",
    "#keras packages\n",
    "import keras\n",
    "from keras.models import Sequential\n",
    "from keras.layers import Convolution2D\n",
    "from keras.layers import MaxPooling2D\n",
    "from keras.layers import Flatten\n",
    "from keras.layers import Dense\n",
    "from keras.wrappers.scikit_learn import KerasClassifier\n",
    "from keras.layers import Dropout\n",
    "#model evaluation packages\n",
    "from sklearn.metrics import f1_score, roc_auc_score, log_loss\n",
    "from sklearn.model_selection import cross_val_score, cross_validate"
   ]
  },
  {
   "cell_type": "code",
   "execution_count": 40,
   "metadata": {},
   "outputs": [],
   "source": [
    "import pandas as pd\n",
    "mnist_train = pd.read_csv('mnist_train.csv', sep=',')\n",
    "mnist_test = pd.read_csv('mnist_test.csv', sep=',')\n",
    "X_train = mnist_train.drop(labels = [\"label\"],axis = 1) \n",
    "y_train = mnist_train[\"label\"]\n",
    "X_test = mnist_test.drop(labels = [\"label\"],axis = 1) \n",
    "y_test=mnist_test[\"label\"]"
   ]
  },
  {
   "cell_type": "code",
   "execution_count": 41,
   "metadata": {},
   "outputs": [
    {
     "name": "stdout",
     "output_type": "stream",
     "text": [
      "Number of unique classes:  10\n",
      "Classes:  [0 1 2 3 4 5 6 7 8 9]\n"
     ]
    }
   ],
   "source": [
    "\n",
    "#reshape data from 3-D to 2-D array\n",
    "X_train = X_train.values.reshape(60000, 784)\n",
    "X_test = X_test.values.reshape(10000, 784)\n",
    "#feature scaling\n",
    "from sklearn.preprocessing import MinMaxScaler\n",
    "minmax = MinMaxScaler()\n",
    "#fit and transform training dataset\n",
    "X_train = minmax.fit_transform(X_train)\n",
    "#transform testing dataset\n",
    "X_test = minmax.transform(X_test)\n",
    "print('Number of unique classes: ', len(np.unique(y_train)))\n",
    "print('Classes: ', np.unique(y_train))"
   ]
  },
  {
   "cell_type": "code",
   "execution_count": 42,
   "metadata": {},
   "outputs": [
    {
     "data": {
      "image/png": "[encoded data removed]",
      "text/plain": [
       "<Figure size 1080x360 with 10 Axes>"
      ]
     },
     "metadata": {
      "needs_background": "light"
     },
     "output_type": "display_data"
    }
   ],
   "source": [
    "\n",
    "fig, axes = plt.subplots(nrows=2, ncols=5,figsize=(15,5))          \n",
    "ax = axes.ravel()\n",
    "for i in range(10):\n",
    "    ax[i].imshow(X_train[i].reshape(28,28))\n",
    "    ax[i].title.set_text('Class: ' + str(y_train[i]))              \n",
    "plt.subplots_adjust(hspace=0.5)                                    \n",
    "plt.show()"
   ]
  },
  {
   "cell_type": "code",
   "execution_count": 43,
   "metadata": {},
   "outputs": [
    {
     "name": "stdout",
     "output_type": "stream",
     "text": [
      "Model: \"sequential_6\"\n",
      "_________________________________________________________________\n",
      "Layer (type)                 Output Shape              Param #   \n",
      "=================================================================\n",
      "dense_16 (Dense)             (None, 256)               200960    \n",
      "_________________________________________________________________\n",
      "dense_17 (Dense)             (None, 256)               65792     \n",
      "_________________________________________________________________\n",
      "dense_18 (Dense)             (None, 10)                2570      \n",
      "=================================================================\n",
      "Total params: 269,322\n",
      "Trainable params: 269,322\n",
      "Non-trainable params: 0\n",
      "_________________________________________________________________\n"
     ]
    }
   ],
   "source": [
    "model = Sequential()\n",
    "#add 1st hidden layer\n",
    "model.add(Dense(input_dim = X_train.shape[1], units = 256, kernel_initializer='uniform', activation='relu'))\n",
    "#add output layer\n",
    "model.add(Dense(input_dim = X_train.shape[1], units = 256, kernel_initializer='uniform', activation='relu'))\n",
    "model.add(Dense(units = 10, kernel_initializer='uniform', activation='softmax'))\n",
    "#compile the neural network\n",
    "model.compile(optimizer='adam', loss='sparse_categorical_crossentropy', metrics=['accuracy'])\n",
    "#model summary\n",
    "model.summary()"
   ]
  },
  {
   "cell_type": "code",
   "execution_count": 44,
   "metadata": {},
   "outputs": [
    {
     "name": "stdout",
     "output_type": "stream",
     "text": [
      "Train on 54000 samples, validate on 6000 samples\n",
      "Epoch 1/10\n",
      "54000/54000 [==============================] - 10s 182us/step - loss: 0.2446 - accuracy: 0.9271 - val_loss: 0.1029 - val_accuracy: 0.9707\n",
      "Epoch 2/10\n",
      "54000/54000 [==============================] - 10s 180us/step - loss: 0.0956 - accuracy: 0.9700 - val_loss: 0.0862 - val_accuracy: 0.9735\n",
      "Epoch 3/10\n",
      "54000/54000 [==============================] - 10s 179us/step - loss: 0.0637 - accuracy: 0.9796 - val_loss: 0.0912 - val_accuracy: 0.9748\n",
      "Epoch 4/10\n",
      "54000/54000 [==============================] - 10s 184us/step - loss: 0.0472 - accuracy: 0.9849 - val_loss: 0.0766 - val_accuracy: 0.9788\n",
      "Epoch 5/10\n",
      "54000/54000 [==============================] - 10s 177us/step - loss: 0.0377 - accuracy: 0.9876 - val_loss: 0.0723 - val_accuracy: 0.9830\n",
      "Epoch 6/10\n",
      "54000/54000 [==============================] - 10s 178us/step - loss: 0.0303 - accuracy: 0.9898 - val_loss: 0.0937 - val_accuracy: 0.9770\n",
      "Epoch 7/10\n",
      "54000/54000 [==============================] - 10s 176us/step - loss: 0.0266 - accuracy: 0.9908 - val_loss: 0.0869 - val_accuracy: 0.9800\n",
      "Epoch 8/10\n",
      "54000/54000 [==============================] - 9s 176us/step - loss: 0.0221 - accuracy: 0.9924 - val_loss: 0.0871 - val_accuracy: 0.9813\n",
      "Epoch 9/10\n",
      "54000/54000 [==============================] - 10s 181us/step - loss: 0.0191 - accuracy: 0.9937 - val_loss: 0.1092 - val_accuracy: 0.9778\n",
      "Epoch 10/10\n",
      "54000/54000 [==============================] - 10s 182us/step - loss: 0.0176 - accuracy: 0.9940 - val_loss: 0.1005 - val_accuracy: 0.9792\n"
     ]
    }
   ],
   "source": [
    "#fit training dataset into the model\n",
    "model_fit = model.fit(X_train, y_train,validation_split = 0.1,epochs=10, verbose=1)"
   ]
  },
  {
   "cell_type": "code",
   "execution_count": 47,
   "metadata": {},
   "outputs": [
    {
     "name": "stdout",
     "output_type": "stream",
     "text": [
      "dict_keys(['val_loss', 'val_accuracy', 'loss', 'accuracy'])\n"
     ]
    },
    {
     "data": {
      "image/png": "[encoded data removed]",
      "text/plain": [
       "<Figure size 432x288 with 1 Axes>"
      ]
     },
     "metadata": {
      "needs_background": "light"
     },
     "output_type": "display_data"
    }
   ],
   "source": [
    "print(model_fit.history.keys())\n",
    "plt.plot(model_fit.history['accuracy'])\n",
    "plt.plot(model_fit.history['val_accuracy'])\n",
    "plt.title('model accuracy')\n",
    "plt.ylabel('accuracy')\n",
    "plt.xlabel('epoch')\n",
    "plt.legend(['train', 'test'], loc='upper left')\n",
    "plt.show()"
   ]
  },
  {
   "cell_type": "code",
   "execution_count": 48,
   "metadata": {},
   "outputs": [
    {
     "data": {
      "text/html": [
       "<div>\n",
       "<style scoped>\n",
       "    .dataframe tbody tr th:only-of-type {\n",
       "        vertical-align: middle;\n",
       "    }\n",
       "\n",
       "    .dataframe tbody tr th {\n",
       "        vertical-align: top;\n",
       "    }\n",
       "\n",
       "    .dataframe thead th {\n",
       "        text-align: right;\n",
       "    }\n",
       "</style>\n",
       "<table border=\"1\" class=\"dataframe\">\n",
       "  <thead>\n",
       "    <tr style=\"text-align: right;\">\n",
       "      <th></th>\n",
       "      <th>Test accuracy</th>\n",
       "      <th>F1 score</th>\n",
       "      <th>ROC AUC score</th>\n",
       "      <th>Total Loss</th>\n",
       "    </tr>\n",
       "  </thead>\n",
       "  <tbody>\n",
       "    <tr>\n",
       "      <th>0</th>\n",
       "      <td>98.12</td>\n",
       "      <td>0.981</td>\n",
       "      <td>1.0</td>\n",
       "      <td>0.092</td>\n",
       "    </tr>\n",
       "  </tbody>\n",
       "</table>\n",
       "</div>"
      ],
      "text/plain": [
       "   Test accuracy  F1 score  ROC AUC score  Total Loss\n",
       "0          98.12     0.981            1.0       0.092"
      ]
     },
     "metadata": {},
     "output_type": "display_data"
    }
   ],
   "source": [
    "#evaluate the model for testing dataset\n",
    "test_loss = model.evaluate(X_test, y_test, verbose=0)\n",
    "#calculate evaluation parameters\n",
    "f1 = f1_score(y_test, model.predict_classes(X_test), average='micro')\n",
    "roc = roc_auc_score(y_test, model.predict_proba(X_test), multi_class='ovo')\n",
    "#create evaluation dataframe\n",
    "stats = pd.DataFrame({'Test accuracy' :  round(test_loss[1]*100,3),\n",
    "                      'F1 score'      : round(f1,3),\n",
    "                      'ROC AUC score' : round(roc,3),\n",
    "                      'Total Loss'    : round(test_loss[0],3)}, index=[0])\n",
    "#print evaluation dataframe\n",
    "display(stats)"
   ]
  },
  {
   "cell_type": "code",
   "execution_count": null,
   "metadata": {},
   "outputs": [],
   "source": []
  },
  {
   "cell_type": "code",
   "execution_count": 62,
   "metadata": {},
   "outputs": [],
   "source": [
    "#Model 4"
   ]
  },
  {
   "cell_type": "code",
   "execution_count": null,
   "metadata": {},
   "outputs": [],
   "source": []
  },
  {
   "cell_type": "code",
   "execution_count": 49,
   "metadata": {},
   "outputs": [],
   "source": [
    "import pandas as pd\n",
    "import numpy as np\n",
    "#data visualization packages\n",
    "import matplotlib.pyplot as plt\n",
    "#keras packages\n",
    "import keras\n",
    "from keras.models import Sequential\n",
    "from keras.layers import Convolution2D\n",
    "from keras.layers import MaxPooling2D\n",
    "from keras.layers import Flatten\n",
    "from keras.layers import Dense\n",
    "from keras.wrappers.scikit_learn import KerasClassifier\n",
    "from keras.layers import Dropout\n",
    "#model evaluation packages\n",
    "from sklearn.metrics import f1_score, roc_auc_score, log_loss\n",
    "from sklearn.model_selection import cross_val_score, cross_validate"
   ]
  },
  {
   "cell_type": "code",
   "execution_count": 50,
   "metadata": {},
   "outputs": [],
   "source": [
    "import pandas as pd\n",
    "mnist_train = pd.read_csv('mnist_train.csv', sep=',')\n",
    "mnist_test = pd.read_csv('mnist_test.csv', sep=',')\n",
    "X_train = mnist_train.drop(labels = [\"label\"],axis = 1) \n",
    "y_train = mnist_train[\"label\"]\n",
    "X_test = mnist_test.drop(labels = [\"label\"],axis = 1) \n",
    "y_test=mnist_test[\"label\"]"
   ]
  },
  {
   "cell_type": "code",
   "execution_count": 51,
   "metadata": {},
   "outputs": [
    {
     "name": "stdout",
     "output_type": "stream",
     "text": [
      "Number of unique classes:  10\n",
      "Classes:  [0 1 2 3 4 5 6 7 8 9]\n"
     ]
    }
   ],
   "source": [
    "\n",
    "#reshape data from 3-D to 2-D array\n",
    "X_train = X_train.values.reshape(60000, 784)\n",
    "X_test = X_test.values.reshape(10000, 784)\n",
    "#feature scaling\n",
    "# from sklearn.preprocessing import MinMaxScaler\n",
    "# minmax = MinMaxScaler()\n",
    "# #fit and transform training dataset\n",
    "# X_train = minmax.fit_transform(X_train)\n",
    "# #transform testing dataset\n",
    "# X_test = minmax.transform(X_test)\n",
    "print('Number of unique classes: ', len(np.unique(y_train)))\n",
    "print('Classes: ', np.unique(y_train))"
   ]
  },
  {
   "cell_type": "code",
   "execution_count": 52,
   "metadata": {},
   "outputs": [
    {
     "data": {
      "image/png": "[encoded data removed]",
      "text/plain": [
       "<Figure size 1080x360 with 10 Axes>"
      ]
     },
     "metadata": {
      "needs_background": "light"
     },
     "output_type": "display_data"
    }
   ],
   "source": [
    "\n",
    "fig, axes = plt.subplots(nrows=2, ncols=5,figsize=(15,5))          \n",
    "ax = axes.ravel()\n",
    "for i in range(10):\n",
    "    ax[i].imshow(X_train[i].reshape(28,28))\n",
    "    ax[i].title.set_text('Class: ' + str(y_train[i]))              \n",
    "plt.subplots_adjust(hspace=0.5)                                    \n",
    "plt.show()"
   ]
  },
  {
   "cell_type": "code",
   "execution_count": 53,
   "metadata": {},
   "outputs": [
    {
     "name": "stdout",
     "output_type": "stream",
     "text": [
      "Model: \"sequential_7\"\n",
      "_________________________________________________________________\n",
      "Layer (type)                 Output Shape              Param #   \n",
      "=================================================================\n",
      "dense_19 (Dense)             (None, 128)               100480    \n",
      "_________________________________________________________________\n",
      "dense_20 (Dense)             (None, 10)                1290      \n",
      "=================================================================\n",
      "Total params: 101,770\n",
      "Trainable params: 101,770\n",
      "Non-trainable params: 0\n",
      "_________________________________________________________________\n"
     ]
    }
   ],
   "source": [
    "model = Sequential()\n",
    "#add 1st hidden layer\n",
    "model.add(Dense(input_dim = X_train.shape[1], units = 128, kernel_initializer='uniform', activation='relu'))\n",
    "#add output layer\n",
    "model.add(Dense(units = 10, kernel_initializer='uniform', activation='softmax'))\n",
    "#compile the neural network\n",
    "model.compile(optimizer='adam', loss='sparse_categorical_crossentropy', metrics=['accuracy'])\n",
    "#model summary\n",
    "model.summary()"
   ]
  },
  {
   "cell_type": "code",
   "execution_count": 55,
   "metadata": {},
   "outputs": [
    {
     "name": "stdout",
     "output_type": "stream",
     "text": [
      "Train on 54000 samples, validate on 6000 samples\n",
      "Epoch 1/5\n",
      "54000/54000 [==============================] - 7s 126us/step - loss: 0.2208 - accuracy: 0.9437 - val_loss: 0.1863 - val_accuracy: 0.9557\n",
      "Epoch 2/5\n",
      "54000/54000 [==============================] - 7s 133us/step - loss: 0.2142 - accuracy: 0.9483 - val_loss: 0.1885 - val_accuracy: 0.9585\n",
      "Epoch 3/5\n",
      "54000/54000 [==============================] - 7s 123us/step - loss: 0.1997 - accuracy: 0.9526 - val_loss: 0.1795 - val_accuracy: 0.9575\n",
      "Epoch 4/5\n",
      "54000/54000 [==============================] - 6s 120us/step - loss: 0.1968 - accuracy: 0.9534 - val_loss: 0.1933 - val_accuracy: 0.9610\n",
      "Epoch 5/5\n",
      "54000/54000 [==============================] - 6s 117us/step - loss: 0.1906 - accuracy: 0.9561 - val_loss: 0.1799 - val_accuracy: 0.9570\n"
     ]
    }
   ],
   "source": [
    "#fit training dataset into the model\n",
    "model_fit = model.fit(X_train, y_train,validation_split = 0.1,epochs=5, verbose=1)"
   ]
  },
  {
   "cell_type": "code",
   "execution_count": 56,
   "metadata": {},
   "outputs": [
    {
     "name": "stdout",
     "output_type": "stream",
     "text": [
      "dict_keys(['val_loss', 'val_accuracy', 'loss', 'accuracy'])\n"
     ]
    },
    {
     "data": {
      "image/png": "[encoded data removed]",
      "text/plain": [
       "<Figure size 432x288 with 1 Axes>"
      ]
     },
     "metadata": {
      "needs_background": "light"
     },
     "output_type": "display_data"
    }
   ],
   "source": [
    "print(model_fit.history.keys())\n",
    "plt.plot(model_fit.history['accuracy'])\n",
    "plt.plot(model_fit.history['val_accuracy'])\n",
    "plt.title('model accuracy')\n",
    "plt.ylabel('accuracy')\n",
    "plt.xlabel('epoch')\n",
    "plt.legend(['train', 'test'], loc='upper left')\n",
    "plt.show()"
   ]
  },
  {
   "cell_type": "code",
   "execution_count": 57,
   "metadata": {},
   "outputs": [
    {
     "data": {
      "text/html": [
       "<div>\n",
       "<style scoped>\n",
       "    .dataframe tbody tr th:only-of-type {\n",
       "        vertical-align: middle;\n",
       "    }\n",
       "\n",
       "    .dataframe tbody tr th {\n",
       "        vertical-align: top;\n",
       "    }\n",
       "\n",
       "    .dataframe thead th {\n",
       "        text-align: right;\n",
       "    }\n",
       "</style>\n",
       "<table border=\"1\" class=\"dataframe\">\n",
       "  <thead>\n",
       "    <tr style=\"text-align: right;\">\n",
       "      <th></th>\n",
       "      <th>Test accuracy</th>\n",
       "      <th>F1 score</th>\n",
       "      <th>ROC AUC score</th>\n",
       "      <th>Total Loss</th>\n",
       "    </tr>\n",
       "  </thead>\n",
       "  <tbody>\n",
       "    <tr>\n",
       "      <th>0</th>\n",
       "      <td>94.91</td>\n",
       "      <td>0.949</td>\n",
       "      <td>0.997</td>\n",
       "      <td>0.235</td>\n",
       "    </tr>\n",
       "  </tbody>\n",
       "</table>\n",
       "</div>"
      ],
      "text/plain": [
       "   Test accuracy  F1 score  ROC AUC score  Total Loss\n",
       "0          94.91     0.949          0.997       0.235"
      ]
     },
     "metadata": {},
     "output_type": "display_data"
    }
   ],
   "source": [
    "#evaluate the model for testing dataset\n",
    "test_loss = model.evaluate(X_test, y_test, verbose=0)\n",
    "#calculate evaluation parameters\n",
    "f1 = f1_score(y_test, model.predict_classes(X_test), average='micro')\n",
    "roc = roc_auc_score(y_test, model.predict_proba(X_test), multi_class='ovo')\n",
    "#create evaluation dataframe\n",
    "stats = pd.DataFrame({'Test accuracy' :  round(test_loss[1]*100,3),\n",
    "                      'F1 score'      : round(f1,3),\n",
    "                      'ROC AUC score' : round(roc,3),\n",
    "                      'Total Loss'    : round(test_loss[0],3)}, index=[0])\n",
    "#print evaluation dataframe\n",
    "display(stats)"
   ]
  },
  {
   "cell_type": "code",
   "execution_count": 64,
   "metadata": {},
   "outputs": [],
   "source": []
  },
  {
   "cell_type": "code",
   "execution_count": null,
   "metadata": {},
   "outputs": [],
   "source": [
    "#Model 5"
   ]
  },
  {
   "cell_type": "code",
   "execution_count": null,
   "metadata": {},
   "outputs": [],
   "source": []
  },
  {
   "cell_type": "code",
   "execution_count": 58,
   "metadata": {},
   "outputs": [],
   "source": [
    "import pandas as pd\n",
    "import numpy as np\n",
    "#data visualization packages\n",
    "import matplotlib.pyplot as plt\n",
    "#keras packages\n",
    "import keras\n",
    "from keras.models import Sequential\n",
    "from keras.layers import Convolution2D\n",
    "from keras.layers import MaxPooling2D\n",
    "from keras.layers import Flatten\n",
    "from keras.layers import Dense\n",
    "from keras.wrappers.scikit_learn import KerasClassifier\n",
    "from keras.layers import Dropout\n",
    "#model evaluation packages\n",
    "from sklearn.metrics import f1_score, roc_auc_score, log_loss\n",
    "from sklearn.model_selection import cross_val_score, cross_validate"
   ]
  },
  {
   "cell_type": "code",
   "execution_count": 59,
   "metadata": {},
   "outputs": [],
   "source": [
    "import pandas as pd\n",
    "mnist_train = pd.read_csv('mnist_train.csv', sep=',')\n",
    "mnist_test = pd.read_csv('mnist_test.csv', sep=',')\n",
    "X_train = mnist_train.drop(labels = [\"label\"],axis = 1) \n",
    "y_train = mnist_train[\"label\"]\n",
    "X_test = mnist_test.drop(labels = [\"label\"],axis = 1) \n",
    "y_test=mnist_test[\"label\"]"
   ]
  },
  {
   "cell_type": "code",
   "execution_count": 60,
   "metadata": {},
   "outputs": [
    {
     "name": "stdout",
     "output_type": "stream",
     "text": [
      "Number of unique classes:  10\n",
      "Classes:  [0 1 2 3 4 5 6 7 8 9]\n"
     ]
    }
   ],
   "source": [
    "\n",
    "#reshape data from 3-D to 2-D array\n",
    "X_train = X_train.values.reshape(60000, 784)\n",
    "X_test = X_test.values.reshape(10000, 784)\n",
    "#feature scaling\n",
    "# from sklearn.preprocessing import MinMaxScaler\n",
    "# minmax = MinMaxScaler()\n",
    "# #fit and transform training dataset\n",
    "# X_train = minmax.fit_transform(X_train)\n",
    "# #transform testing dataset\n",
    "# X_test = minmax.transform(X_test)\n",
    "print('Number of unique classes: ', len(np.unique(y_train)))\n",
    "print('Classes: ', np.unique(y_train))"
   ]
  },
  {
   "cell_type": "code",
   "execution_count": 61,
   "metadata": {},
   "outputs": [
    {
     "data": {
      "image/png": "[encoded data removed]",
      "text/plain": [
       "<Figure size 1080x360 with 10 Axes>"
      ]
     },
     "metadata": {
      "needs_background": "light"
     },
     "output_type": "display_data"
    }
   ],
   "source": [
    "\n",
    "fig, axes = plt.subplots(nrows=2, ncols=5,figsize=(15,5))          \n",
    "ax = axes.ravel()\n",
    "for i in range(10):\n",
    "    ax[i].imshow(X_train[i].reshape(28,28))\n",
    "    ax[i].title.set_text('Class: ' + str(y_train[i]))              \n",
    "plt.subplots_adjust(hspace=0.5)                                    \n",
    "plt.show()"
   ]
  },
  {
   "cell_type": "code",
   "execution_count": 62,
   "metadata": {},
   "outputs": [
    {
     "name": "stdout",
     "output_type": "stream",
     "text": [
      "Model: \"sequential_8\"\n",
      "_________________________________________________________________\n",
      "Layer (type)                 Output Shape              Param #   \n",
      "=================================================================\n",
      "dense_21 (Dense)             (None, 128)               100480    \n",
      "_________________________________________________________________\n",
      "dense_22 (Dense)             (None, 10)                1290      \n",
      "=================================================================\n",
      "Total params: 101,770\n",
      "Trainable params: 101,770\n",
      "Non-trainable params: 0\n",
      "_________________________________________________________________\n"
     ]
    }
   ],
   "source": [
    "model = Sequential()\n",
    "#add 1st hidden layer\n",
    "model.add(Dense(input_dim = X_train.shape[1], units = 128, kernel_initializer='uniform', activation='sigmoid'))\n",
    "#add output layer\n",
    "model.add(Dense(units = 10, kernel_initializer='uniform', activation='softmax'))\n",
    "#compile the neural network\n",
    "model.compile(optimizer='adam', loss='sparse_categorical_crossentropy', metrics=['accuracy'])\n",
    "#model summary\n",
    "model.summary()"
   ]
  },
  {
   "cell_type": "code",
   "execution_count": 63,
   "metadata": {},
   "outputs": [
    {
     "name": "stdout",
     "output_type": "stream",
     "text": [
      "Train on 54000 samples, validate on 6000 samples\n",
      "Epoch 1/5\n",
      "54000/54000 [==============================] - 7s 121us/step - loss: 0.5640 - accuracy: 0.8576 - val_loss: 0.3275 - val_accuracy: 0.9148\n",
      "Epoch 2/5\n",
      "54000/54000 [==============================] - 5s 85us/step - loss: 0.3488 - accuracy: 0.8999 - val_loss: 0.2822 - val_accuracy: 0.9238\n",
      "Epoch 3/5\n",
      "54000/54000 [==============================] - 4s 77us/step - loss: 0.3194 - accuracy: 0.9051 - val_loss: 0.2567 - val_accuracy: 0.9243\n",
      "Epoch 4/5\n",
      "54000/54000 [==============================] - 6s 114us/step - loss: 0.3030 - accuracy: 0.9096 - val_loss: 0.2465 - val_accuracy: 0.9338\n",
      "Epoch 5/5\n",
      "54000/54000 [==============================] - 6s 104us/step - loss: 0.2932 - accuracy: 0.9130 - val_loss: 0.2436 - val_accuracy: 0.9300\n"
     ]
    }
   ],
   "source": [
    "#fit training dataset into the model\n",
    "model_fit = model.fit(X_train, y_train,validation_split = 0.1,epochs=5, verbose=1)"
   ]
  },
  {
   "cell_type": "code",
   "execution_count": 64,
   "metadata": {},
   "outputs": [
    {
     "name": "stdout",
     "output_type": "stream",
     "text": [
      "dict_keys(['val_loss', 'val_accuracy', 'loss', 'accuracy'])\n"
     ]
    },
    {
     "data": {
      "image/png": "[encoded data removed]",
      "text/plain": [
       "<Figure size 432x288 with 1 Axes>"
      ]
     },
     "metadata": {
      "needs_background": "light"
     },
     "output_type": "display_data"
    }
   ],
   "source": [
    "print(model_fit.history.keys())\n",
    "plt.plot(model_fit.history['accuracy'])\n",
    "plt.plot(model_fit.history['val_accuracy'])\n",
    "plt.title('model accuracy')\n",
    "plt.ylabel('accuracy')\n",
    "plt.xlabel('epoch')\n",
    "plt.legend(['train', 'test'], loc='upper left')\n",
    "plt.show()"
   ]
  },
  {
   "cell_type": "code",
   "execution_count": 65,
   "metadata": {},
   "outputs": [
    {
     "data": {
      "text/html": [
       "<div>\n",
       "<style scoped>\n",
       "    .dataframe tbody tr th:only-of-type {\n",
       "        vertical-align: middle;\n",
       "    }\n",
       "\n",
       "    .dataframe tbody tr th {\n",
       "        vertical-align: top;\n",
       "    }\n",
       "\n",
       "    .dataframe thead th {\n",
       "        text-align: right;\n",
       "    }\n",
       "</style>\n",
       "<table border=\"1\" class=\"dataframe\">\n",
       "  <thead>\n",
       "    <tr style=\"text-align: right;\">\n",
       "      <th></th>\n",
       "      <th>Test accuracy</th>\n",
       "      <th>F1 score</th>\n",
       "      <th>ROC AUC score</th>\n",
       "      <th>Total Loss</th>\n",
       "    </tr>\n",
       "  </thead>\n",
       "  <tbody>\n",
       "    <tr>\n",
       "      <th>0</th>\n",
       "      <td>91.73</td>\n",
       "      <td>0.917</td>\n",
       "      <td>0.994</td>\n",
       "      <td>0.285</td>\n",
       "    </tr>\n",
       "  </tbody>\n",
       "</table>\n",
       "</div>"
      ],
      "text/plain": [
       "   Test accuracy  F1 score  ROC AUC score  Total Loss\n",
       "0          91.73     0.917          0.994       0.285"
      ]
     },
     "metadata": {},
     "output_type": "display_data"
    }
   ],
   "source": [
    "#evaluate the model for testing dataset\n",
    "test_loss = model.evaluate(X_test, y_test, verbose=0)\n",
    "#calculate evaluation parameters\n",
    "f1 = f1_score(y_test, model.predict_classes(X_test), average='micro')\n",
    "roc = roc_auc_score(y_test, model.predict_proba(X_test), multi_class='ovo')\n",
    "#create evaluation dataframe\n",
    "stats = pd.DataFrame({'Test accuracy' :  round(test_loss[1]*100,3),\n",
    "                      'F1 score'      : round(f1,3),\n",
    "                      'ROC AUC score' : round(roc,3),\n",
    "                      'Total Loss'    : round(test_loss[0],3)}, index=[0])\n",
    "#print evaluation dataframe\n",
    "display(stats)"
   ]
  },
  {
   "cell_type": "code",
   "execution_count": null,
   "metadata": {},
   "outputs": [],
   "source": []
  },
  {
   "cell_type": "code",
   "execution_count": 1,
   "metadata": {},
   "outputs": [],
   "source": [
    "#Model 6"
   ]
  },
  {
   "cell_type": "code",
   "execution_count": null,
   "metadata": {},
   "outputs": [],
   "source": []
  },
  {
   "cell_type": "code",
   "execution_count": 2,
   "metadata": {},
   "outputs": [
    {
     "name": "stderr",
     "output_type": "stream",
     "text": [
      "Using TensorFlow backend.\n",
      "/home/nishit/.conda/envs/venv/lib/python3.7/site-packages/tensorflow/python/framework/dtypes.py:516: FutureWarning: Passing (type, 1) or '1type' as a synonym of type is deprecated; in a future version of numpy, it will be understood as (type, (1,)) / '(1,)type'.\n",
      "  _np_qint8 = np.dtype([(\"qint8\", np.int8, 1)])\n",
      "/home/nishit/.conda/envs/venv/lib/python3.7/site-packages/tensorflow/python/framework/dtypes.py:517: FutureWarning: Passing (type, 1) or '1type' as a synonym of type is deprecated; in a future version of numpy, it will be understood as (type, (1,)) / '(1,)type'.\n",
      "  _np_quint8 = np.dtype([(\"quint8\", np.uint8, 1)])\n",
      "/home/nishit/.conda/envs/venv/lib/python3.7/site-packages/tensorflow/python/framework/dtypes.py:518: FutureWarning: Passing (type, 1) or '1type' as a synonym of type is deprecated; in a future version of numpy, it will be understood as (type, (1,)) / '(1,)type'.\n",
      "  _np_qint16 = np.dtype([(\"qint16\", np.int16, 1)])\n",
      "/home/nishit/.conda/envs/venv/lib/python3.7/site-packages/tensorflow/python/framework/dtypes.py:519: FutureWarning: Passing (type, 1) or '1type' as a synonym of type is deprecated; in a future version of numpy, it will be understood as (type, (1,)) / '(1,)type'.\n",
      "  _np_quint16 = np.dtype([(\"quint16\", np.uint16, 1)])\n",
      "/home/nishit/.conda/envs/venv/lib/python3.7/site-packages/tensorflow/python/framework/dtypes.py:520: FutureWarning: Passing (type, 1) or '1type' as a synonym of type is deprecated; in a future version of numpy, it will be understood as (type, (1,)) / '(1,)type'.\n",
      "  _np_qint32 = np.dtype([(\"qint32\", np.int32, 1)])\n",
      "/home/nishit/.conda/envs/venv/lib/python3.7/site-packages/tensorflow/python/framework/dtypes.py:525: FutureWarning: Passing (type, 1) or '1type' as a synonym of type is deprecated; in a future version of numpy, it will be understood as (type, (1,)) / '(1,)type'.\n",
      "  np_resource = np.dtype([(\"resource\", np.ubyte, 1)])\n",
      "/home/nishit/.conda/envs/venv/lib/python3.7/site-packages/tensorboard/compat/tensorflow_stub/dtypes.py:541: FutureWarning: Passing (type, 1) or '1type' as a synonym of type is deprecated; in a future version of numpy, it will be understood as (type, (1,)) / '(1,)type'.\n",
      "  _np_qint8 = np.dtype([(\"qint8\", np.int8, 1)])\n",
      "/home/nishit/.conda/envs/venv/lib/python3.7/site-packages/tensorboard/compat/tensorflow_stub/dtypes.py:542: FutureWarning: Passing (type, 1) or '1type' as a synonym of type is deprecated; in a future version of numpy, it will be understood as (type, (1,)) / '(1,)type'.\n",
      "  _np_quint8 = np.dtype([(\"quint8\", np.uint8, 1)])\n",
      "/home/nishit/.conda/envs/venv/lib/python3.7/site-packages/tensorboard/compat/tensorflow_stub/dtypes.py:543: FutureWarning: Passing (type, 1) or '1type' as a synonym of type is deprecated; in a future version of numpy, it will be understood as (type, (1,)) / '(1,)type'.\n",
      "  _np_qint16 = np.dtype([(\"qint16\", np.int16, 1)])\n",
      "/home/nishit/.conda/envs/venv/lib/python3.7/site-packages/tensorboard/compat/tensorflow_stub/dtypes.py:544: FutureWarning: Passing (type, 1) or '1type' as a synonym of type is deprecated; in a future version of numpy, it will be understood as (type, (1,)) / '(1,)type'.\n",
      "  _np_quint16 = np.dtype([(\"quint16\", np.uint16, 1)])\n",
      "/home/nishit/.conda/envs/venv/lib/python3.7/site-packages/tensorboard/compat/tensorflow_stub/dtypes.py:545: FutureWarning: Passing (type, 1) or '1type' as a synonym of type is deprecated; in a future version of numpy, it will be understood as (type, (1,)) / '(1,)type'.\n",
      "  _np_qint32 = np.dtype([(\"qint32\", np.int32, 1)])\n",
      "/home/nishit/.conda/envs/venv/lib/python3.7/site-packages/tensorboard/compat/tensorflow_stub/dtypes.py:550: FutureWarning: Passing (type, 1) or '1type' as a synonym of type is deprecated; in a future version of numpy, it will be understood as (type, (1,)) / '(1,)type'.\n",
      "  np_resource = np.dtype([(\"resource\", np.ubyte, 1)])\n"
     ]
    }
   ],
   "source": [
    "import pandas as pd\n",
    "import numpy as np\n",
    "#data visualization packages\n",
    "import matplotlib.pyplot as plt\n",
    "#keras packages\n",
    "import keras\n",
    "from keras.models import Sequential\n",
    "from keras.layers import Convolution2D\n",
    "from keras.layers import MaxPooling2D\n",
    "from keras.layers import Flatten\n",
    "from keras.layers import Dense\n",
    "from keras.wrappers.scikit_learn import KerasClassifier\n",
    "from keras.layers import Dropout\n",
    "#model evaluation packages\n",
    "from sklearn.metrics import f1_score, roc_auc_score, log_loss\n",
    "from sklearn.model_selection import cross_val_score, cross_validate"
   ]
  },
  {
   "cell_type": "code",
   "execution_count": 3,
   "metadata": {},
   "outputs": [],
   "source": [
    "import pandas as pd\n",
    "mnist_train = pd.read_csv('mnist_train.csv', sep=',')\n",
    "mnist_test = pd.read_csv('mnist_test.csv', sep=',')\n",
    "X_train = mnist_train.drop(labels = [\"label\"],axis = 1) \n",
    "y_train = mnist_train[\"label\"]\n",
    "X_test = mnist_test.drop(labels = [\"label\"],axis = 1) \n",
    "y_test=mnist_test[\"label\"]"
   ]
  },
  {
   "cell_type": "code",
   "execution_count": 4,
   "metadata": {},
   "outputs": [
    {
     "name": "stdout",
     "output_type": "stream",
     "text": [
      "Number of unique classes:  10\n",
      "Classes:  [0 1 2 3 4 5 6 7 8 9]\n"
     ]
    }
   ],
   "source": [
    "\n",
    "#reshape data from 3-D to 2-D array\n",
    "X_train = X_train.values.reshape(60000, 784)\n",
    "X_test = X_test.values.reshape(10000, 784)\n",
    "#feature scaling\n",
    "# from sklearn.preprocessing import MinMaxScaler\n",
    "# minmax = MinMaxScaler()\n",
    "# #fit and transform training dataset\n",
    "# X_train = minmax.fit_transform(X_train)\n",
    "# #transform testing dataset\n",
    "# X_test = minmax.transform(X_test)\n",
    "print('Number of unique classes: ', len(np.unique(y_train)))\n",
    "print('Classes: ', np.unique(y_train))"
   ]
  },
  {
   "cell_type": "code",
   "execution_count": 5,
   "metadata": {},
   "outputs": [
    {
     "data": {
      "image/png": "[encoded data removed]",
      "text/plain": [
       "<Figure size 1080x360 with 10 Axes>"
      ]
     },
     "metadata": {
      "needs_background": "light"
     },
     "output_type": "display_data"
    }
   ],
   "source": [
    "\n",
    "fig, axes = plt.subplots(nrows=2, ncols=5,figsize=(15,5))          \n",
    "ax = axes.ravel()\n",
    "for i in range(10):\n",
    "    ax[i].imshow(X_train[i].reshape(28,28))\n",
    "    ax[i].title.set_text('Class: ' + str(y_train[i]))              \n",
    "plt.subplots_adjust(hspace=0.5)                                    \n",
    "plt.show()"
   ]
  },
  {
   "cell_type": "code",
   "execution_count": 6,
   "metadata": {},
   "outputs": [
    {
     "name": "stdout",
     "output_type": "stream",
     "text": [
      "Model: \"sequential_1\"\n",
      "_________________________________________________________________\n",
      "Layer (type)                 Output Shape              Param #   \n",
      "=================================================================\n",
      "dense_1 (Dense)              (None, 128)               100480    \n",
      "_________________________________________________________________\n",
      "dense_2 (Dense)              (None, 10)                1290      \n",
      "=================================================================\n",
      "Total params: 101,770\n",
      "Trainable params: 101,770\n",
      "Non-trainable params: 0\n",
      "_________________________________________________________________\n"
     ]
    }
   ],
   "source": [
    "model = Sequential()\n",
    "#add 1st hidden layer\n",
    "model.add(Dense(input_dim = X_train.shape[1], units = 128, kernel_initializer='uniform', activation='tanh'))\n",
    "#add output layer\n",
    "model.add(Dense(units = 10, kernel_initializer='uniform', activation='softmax'))\n",
    "#compile the neural network\n",
    "model.compile(optimizer='adam', loss='sparse_categorical_crossentropy', metrics=['accuracy'])\n",
    "#model summary\n",
    "model.summary()"
   ]
  },
  {
   "cell_type": "code",
   "execution_count": 7,
   "metadata": {},
   "outputs": [
    {
     "name": "stdout",
     "output_type": "stream",
     "text": [
      "WARNING:tensorflow:From /home/nishit/.conda/envs/venv/lib/python3.7/site-packages/keras/backend/tensorflow_backend.py:422: The name tf.global_variables is deprecated. Please use tf.compat.v1.global_variables instead.\n",
      "\n",
      "Train on 54000 samples, validate on 6000 samples\n",
      "Epoch 1/5\n",
      "54000/54000 [==============================] - ETA: 0s - loss: 0.5851 - accuracy: 0.83 - 6s 110us/step - loss: 0.5843 - accuracy: 0.8380 - val_loss: 0.3910 - val_accuracy: 0.8902\n",
      "Epoch 2/5\n",
      "54000/54000 [==============================] - 6s 104us/step - loss: 0.4323 - accuracy: 0.8695 - val_loss: 0.3213 - val_accuracy: 0.9073\n",
      "Epoch 3/5\n",
      "54000/54000 [==============================] - 6s 103us/step - loss: 0.3929 - accuracy: 0.8803 - val_loss: 0.2910 - val_accuracy: 0.9127\n",
      "Epoch 4/5\n",
      "54000/54000 [==============================] - 6s 104us/step - loss: 0.3725 - accuracy: 0.8877 - val_loss: 0.2763 - val_accuracy: 0.9172\n",
      "Epoch 5/5\n",
      "54000/54000 [==============================] - 6s 103us/step - loss: 0.3538 - accuracy: 0.8929 - val_loss: 0.3077 - val_accuracy: 0.9040\n"
     ]
    }
   ],
   "source": [
    "#fit training dataset into the model\n",
    "model_fit = model.fit(X_train, y_train,validation_split = 0.1,epochs=5, verbose=1)"
   ]
  },
  {
   "cell_type": "code",
   "execution_count": 8,
   "metadata": {},
   "outputs": [
    {
     "name": "stdout",
     "output_type": "stream",
     "text": [
      "dict_keys(['val_loss', 'val_accuracy', 'loss', 'accuracy'])\n"
     ]
    },
    {
     "data": {
      "image/png": "[encoded data removed]",
      "text/plain": [
       "<Figure size 432x288 with 1 Axes>"
      ]
     },
     "metadata": {
      "needs_background": "light"
     },
     "output_type": "display_data"
    }
   ],
   "source": [
    "print(model_fit.history.keys())\n",
    "plt.plot(model_fit.history['accuracy'])\n",
    "plt.plot(model_fit.history['val_accuracy'])\n",
    "plt.title('model accuracy')\n",
    "plt.ylabel('accuracy')\n",
    "plt.xlabel('epoch')\n",
    "plt.legend(['train', 'test'], loc='upper left')\n",
    "plt.show()"
   ]
  },
  {
   "cell_type": "code",
   "execution_count": 9,
   "metadata": {},
   "outputs": [
    {
     "data": {
      "text/html": [
       "<div>\n",
       "<style scoped>\n",
       "    .dataframe tbody tr th:only-of-type {\n",
       "        vertical-align: middle;\n",
       "    }\n",
       "\n",
       "    .dataframe tbody tr th {\n",
       "        vertical-align: top;\n",
       "    }\n",
       "\n",
       "    .dataframe thead th {\n",
       "        text-align: right;\n",
       "    }\n",
       "</style>\n",
       "<table border=\"1\" class=\"dataframe\">\n",
       "  <thead>\n",
       "    <tr style=\"text-align: right;\">\n",
       "      <th></th>\n",
       "      <th>Test accuracy</th>\n",
       "      <th>F1 score</th>\n",
       "      <th>ROC AUC score</th>\n",
       "      <th>Total Loss</th>\n",
       "    </tr>\n",
       "  </thead>\n",
       "  <tbody>\n",
       "    <tr>\n",
       "      <th>0</th>\n",
       "      <td>89.38</td>\n",
       "      <td>0.894</td>\n",
       "      <td>0.991</td>\n",
       "      <td>0.353</td>\n",
       "    </tr>\n",
       "  </tbody>\n",
       "</table>\n",
       "</div>"
      ],
      "text/plain": [
       "   Test accuracy  F1 score  ROC AUC score  Total Loss\n",
       "0          89.38     0.894          0.991       0.353"
      ]
     },
     "metadata": {},
     "output_type": "display_data"
    }
   ],
   "source": [
    "#evaluate the model for testing dataset\n",
    "test_loss = model.evaluate(X_test, y_test, verbose=0)\n",
    "#calculate evaluation parameters\n",
    "f1 = f1_score(y_test, model.predict_classes(X_test), average='micro')\n",
    "roc = roc_auc_score(y_test, model.predict_proba(X_test), multi_class='ovo')\n",
    "#create evaluation dataframe\n",
    "stats = pd.DataFrame({'Test accuracy' :  round(test_loss[1]*100,3),\n",
    "                      'F1 score'      : round(f1,3),\n",
    "                      'ROC AUC score' : round(roc,3),\n",
    "                      'Total Loss'    : round(test_loss[0],3)}, index=[0])\n",
    "#print evaluation dataframe\n",
    "display(stats)"
   ]
  },
  {
   "cell_type": "code",
   "execution_count": 10,
   "metadata": {},
   "outputs": [],
   "source": [
    "#Model 7"
   ]
  },
  {
   "cell_type": "code",
   "execution_count": null,
   "metadata": {},
   "outputs": [],
   "source": []
  },
  {
   "cell_type": "code",
   "execution_count": 11,
   "metadata": {},
   "outputs": [],
   "source": [
    "import pandas as pd\n",
    "import numpy as np\n",
    "#data visualization packages\n",
    "import matplotlib.pyplot as plt\n",
    "#keras packages\n",
    "import keras\n",
    "from keras.models import Sequential\n",
    "from keras.layers import Convolution2D\n",
    "from keras.layers import MaxPooling2D\n",
    "from keras.layers import Flatten\n",
    "from keras.layers import Dense\n",
    "from keras.wrappers.scikit_learn import KerasClassifier\n",
    "from keras.layers import Dropout\n",
    "#model evaluation packages\n",
    "from sklearn.metrics import f1_score, roc_auc_score, log_loss\n",
    "from sklearn.model_selection import cross_val_score, cross_validate"
   ]
  },
  {
   "cell_type": "code",
   "execution_count": 12,
   "metadata": {},
   "outputs": [],
   "source": [
    "import pandas as pd\n",
    "mnist_train = pd.read_csv('mnist_train.csv', sep=',')\n",
    "mnist_test = pd.read_csv('mnist_test.csv', sep=',')\n",
    "X_train = mnist_train.drop(labels = [\"label\"],axis = 1) \n",
    "y_train = mnist_train[\"label\"]\n",
    "X_test = mnist_test.drop(labels = [\"label\"],axis = 1) \n",
    "y_test=mnist_test[\"label\"]"
   ]
  },
  {
   "cell_type": "code",
   "execution_count": 13,
   "metadata": {},
   "outputs": [
    {
     "name": "stdout",
     "output_type": "stream",
     "text": [
      "Number of unique classes:  10\n",
      "Classes:  [0 1 2 3 4 5 6 7 8 9]\n"
     ]
    }
   ],
   "source": [
    "\n",
    "#reshape data from 3-D to 2-D array\n",
    "X_train = X_train.values.reshape(60000, 784)\n",
    "X_test = X_test.values.reshape(10000, 784)\n",
    "#feature scaling\n",
    "# from sklearn.preprocessing import MinMaxScaler\n",
    "# minmax = MinMaxScaler()\n",
    "# #fit and transform training dataset\n",
    "# X_train = minmax.fit_transform(X_train)\n",
    "# #transform testing dataset\n",
    "# X_test = minmax.transform(X_test)\n",
    "print('Number of unique classes: ', len(np.unique(y_train)))\n",
    "print('Classes: ', np.unique(y_train))"
   ]
  },
  {
   "cell_type": "code",
   "execution_count": 14,
   "metadata": {},
   "outputs": [
    {
     "data": {
      "image/png": "[encoded data removed]",
      "text/plain": [
       "<Figure size 1080x360 with 10 Axes>"
      ]
     },
     "metadata": {
      "needs_background": "light"
     },
     "output_type": "display_data"
    }
   ],
   "source": [
    "\n",
    "fig, axes = plt.subplots(nrows=2, ncols=5,figsize=(15,5))          \n",
    "ax = axes.ravel()\n",
    "for i in range(10):\n",
    "    ax[i].imshow(X_train[i].reshape(28,28))\n",
    "    ax[i].title.set_text('Class: ' + str(y_train[i]))              \n",
    "plt.subplots_adjust(hspace=0.5)                                    \n",
    "plt.show()"
   ]
  },
  {
   "cell_type": "code",
   "execution_count": 15,
   "metadata": {},
   "outputs": [
    {
     "name": "stdout",
     "output_type": "stream",
     "text": [
      "Model: \"sequential_2\"\n",
      "_________________________________________________________________\n",
      "Layer (type)                 Output Shape              Param #   \n",
      "=================================================================\n",
      "dense_3 (Dense)              (None, 256)               200960    \n",
      "_________________________________________________________________\n",
      "dense_4 (Dense)              (None, 10)                2570      \n",
      "=================================================================\n",
      "Total params: 203,530\n",
      "Trainable params: 203,530\n",
      "Non-trainable params: 0\n",
      "_________________________________________________________________\n"
     ]
    }
   ],
   "source": [
    "model = Sequential()\n",
    "#add 1st hidden layer\n",
    "model.add(Dense(input_dim = X_train.shape[1], units = 256, kernel_initializer='uniform', activation='relu'))\n",
    "#add output layer\n",
    "model.add(Dense(units = 10, kernel_initializer='uniform', activation='softmax'))\n",
    "#compile the neural network\n",
    "model.compile(optimizer='adam', loss='sparse_categorical_crossentropy', metrics=['accuracy'])\n",
    "#model summary\n",
    "model.summary()"
   ]
  },
  {
   "cell_type": "code",
   "execution_count": 16,
   "metadata": {},
   "outputs": [
    {
     "name": "stdout",
     "output_type": "stream",
     "text": [
      "Train on 54000 samples, validate on 6000 samples\n",
      "Epoch 1/5\n",
      "54000/54000 [==============================] - 9s 161us/step - loss: 0.5578 - accuracy: 0.9066 - val_loss: 0.2201 - val_accuracy: 0.9410\n",
      "Epoch 2/5\n",
      "54000/54000 [==============================] - 9s 160us/step - loss: 0.2363 - accuracy: 0.9391 - val_loss: 0.2307 - val_accuracy: 0.9465\n",
      "Epoch 3/5\n",
      "54000/54000 [==============================] - 8s 156us/step - loss: 0.2348 - accuracy: 0.9453 - val_loss: 0.2394 - val_accuracy: 0.9467\n",
      "Epoch 4/5\n",
      "54000/54000 [==============================] - 9s 160us/step - loss: 0.2198 - accuracy: 0.9491 - val_loss: 0.2463 - val_accuracy: 0.9498\n",
      "Epoch 5/5\n",
      "54000/54000 [==============================] - 9s 164us/step - loss: 0.2068 - accuracy: 0.9536 - val_loss: 0.2577 - val_accuracy: 0.9538\n"
     ]
    }
   ],
   "source": [
    "#fit training dataset into the model\n",
    "model_fit = model.fit(X_train, y_train,validation_split = 0.1,epochs=5, verbose=1)"
   ]
  },
  {
   "cell_type": "code",
   "execution_count": 17,
   "metadata": {},
   "outputs": [
    {
     "name": "stdout",
     "output_type": "stream",
     "text": [
      "dict_keys(['val_loss', 'val_accuracy', 'loss', 'accuracy'])\n"
     ]
    },
    {
     "data": {
      "image/png": "[encoded data removed]",
      "text/plain": [
       "<Figure size 432x288 with 1 Axes>"
      ]
     },
     "metadata": {
      "needs_background": "light"
     },
     "output_type": "display_data"
    }
   ],
   "source": [
    "print(model_fit.history.keys())\n",
    "plt.plot(model_fit.history['accuracy'])\n",
    "plt.plot(model_fit.history['val_accuracy'])\n",
    "plt.title('model accuracy')\n",
    "plt.ylabel('accuracy')\n",
    "plt.xlabel('epoch')\n",
    "plt.legend(['train', 'test'], loc='upper left')\n",
    "plt.show()"
   ]
  },
  {
   "cell_type": "code",
   "execution_count": 18,
   "metadata": {},
   "outputs": [
    {
     "data": {
      "text/html": [
       "<div>\n",
       "<style scoped>\n",
       "    .dataframe tbody tr th:only-of-type {\n",
       "        vertical-align: middle;\n",
       "    }\n",
       "\n",
       "    .dataframe tbody tr th {\n",
       "        vertical-align: top;\n",
       "    }\n",
       "\n",
       "    .dataframe thead th {\n",
       "        text-align: right;\n",
       "    }\n",
       "</style>\n",
       "<table border=\"1\" class=\"dataframe\">\n",
       "  <thead>\n",
       "    <tr style=\"text-align: right;\">\n",
       "      <th></th>\n",
       "      <th>Test accuracy</th>\n",
       "      <th>F1 score</th>\n",
       "      <th>ROC AUC score</th>\n",
       "      <th>Total Loss</th>\n",
       "    </tr>\n",
       "  </thead>\n",
       "  <tbody>\n",
       "    <tr>\n",
       "      <th>0</th>\n",
       "      <td>95.45</td>\n",
       "      <td>0.954</td>\n",
       "      <td>0.997</td>\n",
       "      <td>0.267</td>\n",
       "    </tr>\n",
       "  </tbody>\n",
       "</table>\n",
       "</div>"
      ],
      "text/plain": [
       "   Test accuracy  F1 score  ROC AUC score  Total Loss\n",
       "0          95.45     0.954          0.997       0.267"
      ]
     },
     "metadata": {},
     "output_type": "display_data"
    }
   ],
   "source": [
    "#evaluate the model for testing dataset\n",
    "test_loss = model.evaluate(X_test, y_test, verbose=0)\n",
    "#calculate evaluation parameters\n",
    "f1 = f1_score(y_test, model.predict_classes(X_test), average='micro')\n",
    "roc = roc_auc_score(y_test, model.predict_proba(X_test), multi_class='ovo')\n",
    "#create evaluation dataframe\n",
    "stats = pd.DataFrame({'Test accuracy' :  round(test_loss[1]*100,3),\n",
    "                      'F1 score'      : round(f1,3),\n",
    "                      'ROC AUC score' : round(roc,3),\n",
    "                      'Total Loss'    : round(test_loss[0],3)}, index=[0])\n",
    "#print evaluation dataframe\n",
    "display(stats)"
   ]
  },
  {
   "cell_type": "code",
   "execution_count": null,
   "metadata": {},
   "outputs": [],
   "source": []
  },
  {
   "cell_type": "code",
   "execution_count": 19,
   "metadata": {},
   "outputs": [],
   "source": [
    "#Model 8"
   ]
  },
  {
   "cell_type": "code",
   "execution_count": null,
   "metadata": {},
   "outputs": [],
   "source": []
  },
  {
   "cell_type": "code",
   "execution_count": null,
   "metadata": {},
   "outputs": [],
   "source": []
  },
  {
   "cell_type": "code",
   "execution_count": 20,
   "metadata": {},
   "outputs": [],
   "source": [
    "import pandas as pd\n",
    "import numpy as np\n",
    "#data visualization packages\n",
    "import matplotlib.pyplot as plt\n",
    "#keras packages\n",
    "import keras\n",
    "from keras.models import Sequential\n",
    "from keras.layers import Convolution2D\n",
    "from keras.layers import MaxPooling2D\n",
    "from keras.layers import Flatten\n",
    "from keras.layers import Dense\n",
    "from keras.wrappers.scikit_learn import KerasClassifier\n",
    "from keras.layers import Dropout\n",
    "#model evaluation packages\n",
    "from sklearn.metrics import f1_score, roc_auc_score, log_loss\n",
    "from sklearn.model_selection import cross_val_score, cross_validate"
   ]
  },
  {
   "cell_type": "code",
   "execution_count": 21,
   "metadata": {},
   "outputs": [],
   "source": [
    "import pandas as pd\n",
    "mnist_train = pd.read_csv('mnist_train.csv', sep=',')\n",
    "mnist_test = pd.read_csv('mnist_test.csv', sep=',')\n",
    "X_train = mnist_train.drop(labels = [\"label\"],axis = 1) \n",
    "y_train = mnist_train[\"label\"]\n",
    "X_test = mnist_test.drop(labels = [\"label\"],axis = 1) \n",
    "y_test=mnist_test[\"label\"]"
   ]
  },
  {
   "cell_type": "code",
   "execution_count": 22,
   "metadata": {},
   "outputs": [
    {
     "name": "stdout",
     "output_type": "stream",
     "text": [
      "Number of unique classes:  10\n",
      "Classes:  [0 1 2 3 4 5 6 7 8 9]\n"
     ]
    }
   ],
   "source": [
    "\n",
    "#reshape data from 3-D to 2-D array\n",
    "X_train = X_train.values.reshape(60000, 784)\n",
    "X_test = X_test.values.reshape(10000, 784)\n",
    "#feature scaling\n",
    "# from sklearn.preprocessing import MinMaxScaler\n",
    "# minmax = MinMaxScaler()\n",
    "# #fit and transform training dataset\n",
    "# X_train = minmax.fit_transform(X_train)\n",
    "# #transform testing dataset\n",
    "# X_test = minmax.transform(X_test)\n",
    "print('Number of unique classes: ', len(np.unique(y_train)))\n",
    "print('Classes: ', np.unique(y_train))"
   ]
  },
  {
   "cell_type": "code",
   "execution_count": 23,
   "metadata": {},
   "outputs": [
    {
     "data": {
      "image/png": "[encoded data removed]",
      "text/plain": [
       "<Figure size 1080x360 with 10 Axes>"
      ]
     },
     "metadata": {
      "needs_background": "light"
     },
     "output_type": "display_data"
    }
   ],
   "source": [
    "\n",
    "fig, axes = plt.subplots(nrows=2, ncols=5,figsize=(15,5))          \n",
    "ax = axes.ravel()\n",
    "for i in range(10):\n",
    "    ax[i].imshow(X_train[i].reshape(28,28))\n",
    "    ax[i].title.set_text('Class: ' + str(y_train[i]))              \n",
    "plt.subplots_adjust(hspace=0.5)                                    \n",
    "plt.show()"
   ]
  },
  {
   "cell_type": "code",
   "execution_count": 24,
   "metadata": {},
   "outputs": [
    {
     "name": "stdout",
     "output_type": "stream",
     "text": [
      "Model: \"sequential_3\"\n",
      "_________________________________________________________________\n",
      "Layer (type)                 Output Shape              Param #   \n",
      "=================================================================\n",
      "dense_5 (Dense)              (None, 512)               401920    \n",
      "_________________________________________________________________\n",
      "dense_6 (Dense)              (None, 10)                5130      \n",
      "=================================================================\n",
      "Total params: 407,050\n",
      "Trainable params: 407,050\n",
      "Non-trainable params: 0\n",
      "_________________________________________________________________\n"
     ]
    }
   ],
   "source": [
    "model = Sequential()\n",
    "#add 1st hidden layer\n",
    "model.add(Dense(input_dim = X_train.shape[1], units = 512, kernel_initializer='uniform', activation='relu'))\n",
    "#add output layer\n",
    "model.add(Dense(units = 10, kernel_initializer='uniform', activation='softmax'))\n",
    "#compile the neural network\n",
    "model.compile(optimizer='adam', loss='sparse_categorical_crossentropy', metrics=['accuracy'])\n",
    "#model summary\n",
    "model.summary()"
   ]
  },
  {
   "cell_type": "code",
   "execution_count": 25,
   "metadata": {},
   "outputs": [
    {
     "name": "stdout",
     "output_type": "stream",
     "text": [
      "Train on 54000 samples, validate on 6000 samples\n",
      "Epoch 1/5\n",
      "54000/54000 [==============================] - 15s 283us/step - loss: 0.9178 - accuracy: 0.9093 - val_loss: 0.2315 - val_accuracy: 0.9420\n",
      "Epoch 2/5\n",
      "54000/54000 [==============================] - 17s 308us/step - loss: 0.2721 - accuracy: 0.9370 - val_loss: 0.3016 - val_accuracy: 0.9412\n",
      "Epoch 3/5\n",
      "54000/54000 [==============================] - 18s 342us/step - loss: 0.2794 - accuracy: 0.9400 - val_loss: 0.2530 - val_accuracy: 0.9497\n",
      "Epoch 4/5\n",
      "54000/54000 [==============================] - 15s 285us/step - loss: 0.2520 - accuracy: 0.9458 - val_loss: 0.2184 - val_accuracy: 0.9527\n",
      "Epoch 5/5\n",
      "54000/54000 [==============================] - 15s 283us/step - loss: 0.2249 - accuracy: 0.9526 - val_loss: 0.2608 - val_accuracy: 0.9523\n"
     ]
    }
   ],
   "source": [
    "#fit training dataset into the model\n",
    "model_fit = model.fit(X_train, y_train,validation_split = 0.1,epochs=5, verbose=1)"
   ]
  },
  {
   "cell_type": "code",
   "execution_count": 27,
   "metadata": {},
   "outputs": [
    {
     "name": "stdout",
     "output_type": "stream",
     "text": [
      "dict_keys(['val_loss', 'val_accuracy', 'loss', 'accuracy'])\n"
     ]
    },
    {
     "data": {
      "image/png": "[encoded data removed]",
      "text/plain": [
       "<Figure size 432x288 with 1 Axes>"
      ]
     },
     "metadata": {
      "needs_background": "light"
     },
     "output_type": "display_data"
    }
   ],
   "source": [
    "print(model_fit.history.keys())\n",
    "plt.plot(model_fit.history['accuracy'])\n",
    "plt.plot(model_fit.history['val_accuracy'])\n",
    "plt.title('model accuracy')\n",
    "plt.ylabel('accuracy')\n",
    "plt.xlabel('epoch')\n",
    "plt.legend(['train', 'test'], loc='upper left')\n",
    "plt.show()"
   ]
  },
  {
   "cell_type": "code",
   "execution_count": 28,
   "metadata": {},
   "outputs": [
    {
     "data": {
      "text/html": [
       "<div>\n",
       "<style scoped>\n",
       "    .dataframe tbody tr th:only-of-type {\n",
       "        vertical-align: middle;\n",
       "    }\n",
       "\n",
       "    .dataframe tbody tr th {\n",
       "        vertical-align: top;\n",
       "    }\n",
       "\n",
       "    .dataframe thead th {\n",
       "        text-align: right;\n",
       "    }\n",
       "</style>\n",
       "<table border=\"1\" class=\"dataframe\">\n",
       "  <thead>\n",
       "    <tr style=\"text-align: right;\">\n",
       "      <th></th>\n",
       "      <th>Test accuracy</th>\n",
       "      <th>F1 score</th>\n",
       "      <th>ROC AUC score</th>\n",
       "      <th>Total Loss</th>\n",
       "    </tr>\n",
       "  </thead>\n",
       "  <tbody>\n",
       "    <tr>\n",
       "      <th>0</th>\n",
       "      <td>94.35</td>\n",
       "      <td>0.944</td>\n",
       "      <td>0.997</td>\n",
       "      <td>0.326</td>\n",
       "    </tr>\n",
       "  </tbody>\n",
       "</table>\n",
       "</div>"
      ],
      "text/plain": [
       "   Test accuracy  F1 score  ROC AUC score  Total Loss\n",
       "0          94.35     0.944          0.997       0.326"
      ]
     },
     "metadata": {},
     "output_type": "display_data"
    }
   ],
   "source": [
    "#evaluate the model for testing dataset\n",
    "test_loss = model.evaluate(X_test, y_test, verbose=0)\n",
    "#calculate evaluation parameters\n",
    "f1 = f1_score(y_test, model.predict_classes(X_test), average='micro')\n",
    "roc = roc_auc_score(y_test, model.predict_proba(X_test), multi_class='ovo')\n",
    "#create evaluation dataframe\n",
    "stats = pd.DataFrame({'Test accuracy' :  round(test_loss[1]*100,3),\n",
    "                      'F1 score'      : round(f1,3),\n",
    "                      'ROC AUC score' : round(roc,3),\n",
    "                      'Total Loss'    : round(test_loss[0],3)}, index=[0])\n",
    "#print evaluation dataframe\n",
    "display(stats)"
   ]
  },
  {
   "cell_type": "code",
   "execution_count": null,
   "metadata": {},
   "outputs": [],
   "source": []
  },
  {
   "cell_type": "code",
   "execution_count": 29,
   "metadata": {},
   "outputs": [],
   "source": [
    "#Model 9"
   ]
  },
  {
   "cell_type": "code",
   "execution_count": null,
   "metadata": {},
   "outputs": [],
   "source": []
  },
  {
   "cell_type": "code",
   "execution_count": 35,
   "metadata": {},
   "outputs": [],
   "source": [
    "import pandas as pd\n",
    "import numpy as np\n",
    "#data visualization packages\n",
    "import matplotlib.pyplot as plt\n",
    "#keras packages\n",
    "import keras\n",
    "from keras.models import Sequential\n",
    "from keras.layers import Convolution2D\n",
    "from keras.layers import MaxPooling2D\n",
    "from keras.layers import Flatten\n",
    "from keras.layers import Dense\n",
    "from keras.wrappers.scikit_learn import KerasClassifier\n",
    "from keras.layers import Dropout\n",
    "#model evaluation packages\n",
    "from sklearn.metrics import f1_score, roc_auc_score, log_loss\n",
    "from sklearn.model_selection import cross_val_score, cross_validate"
   ]
  },
  {
   "cell_type": "code",
   "execution_count": 36,
   "metadata": {},
   "outputs": [],
   "source": [
    "import pandas as pd\n",
    "mnist_train = pd.read_csv('mnist_train.csv', sep=',')\n",
    "mnist_test = pd.read_csv('mnist_test.csv', sep=',')\n",
    "X_train = mnist_train.drop(labels = [\"label\"],axis = 1) \n",
    "y_train = mnist_train[\"label\"]\n",
    "X_test = mnist_test.drop(labels = [\"label\"],axis = 1) \n",
    "y_test=mnist_test[\"label\"]"
   ]
  },
  {
   "cell_type": "code",
   "execution_count": 37,
   "metadata": {},
   "outputs": [
    {
     "name": "stdout",
     "output_type": "stream",
     "text": [
      "Number of unique classes:  10\n",
      "Classes:  [0 1 2 3 4 5 6 7 8 9]\n"
     ]
    }
   ],
   "source": [
    "\n",
    "#reshape data from 3-D to 2-D array\n",
    "X_train = X_train.values.reshape(60000, 784)\n",
    "X_test = X_test.values.reshape(10000, 784)\n",
    "#feature scaling\n",
    "# from sklearn.preprocessing import MinMaxScaler\n",
    "# minmax = MinMaxScaler()\n",
    "# #fit and transform training dataset\n",
    "# X_train = minmax.fit_transform(X_train)\n",
    "# #transform testing dataset\n",
    "# X_test = minmax.transform(X_test)\n",
    "print('Number of unique classes: ', len(np.unique(y_train)))\n",
    "print('Classes: ', np.unique(y_train))"
   ]
  },
  {
   "cell_type": "code",
   "execution_count": 38,
   "metadata": {},
   "outputs": [
    {
     "data": {
      "image/png": "[encoded data removed]",
      "text/plain": [
       "<Figure size 1080x360 with 10 Axes>"
      ]
     },
     "metadata": {
      "needs_background": "light"
     },
     "output_type": "display_data"
    }
   ],
   "source": [
    "\n",
    "fig, axes = plt.subplots(nrows=2, ncols=5,figsize=(15,5))          \n",
    "ax = axes.ravel()\n",
    "for i in range(10):\n",
    "    ax[i].imshow(X_train[i].reshape(28,28))\n",
    "    ax[i].title.set_text('Class: ' + str(y_train[i]))              \n",
    "plt.subplots_adjust(hspace=0.5)                                    \n",
    "plt.show()"
   ]
  },
  {
   "cell_type": "code",
   "execution_count": 39,
   "metadata": {},
   "outputs": [
    {
     "name": "stdout",
     "output_type": "stream",
     "text": [
      "Model: \"sequential_5\"\n",
      "_________________________________________________________________\n",
      "Layer (type)                 Output Shape              Param #   \n",
      "=================================================================\n",
      "dense_9 (Dense)              (None, 256)               200960    \n",
      "_________________________________________________________________\n",
      "dense_10 (Dense)             (None, 10)                2570      \n",
      "=================================================================\n",
      "Total params: 203,530\n",
      "Trainable params: 203,530\n",
      "Non-trainable params: 0\n",
      "_________________________________________________________________\n"
     ]
    }
   ],
   "source": [
    "model = Sequential()\n",
    "#add 1st hidden layer\n",
    "model.add(Dense(input_dim = X_train.shape[1], units = 256, kernel_initializer='uniform', activation='relu'))\n",
    "#add output layer\n",
    "model.add(Dense(units = 10, kernel_initializer='uniform', activation='softmax'))\n",
    "#compile the neural network\n",
    "model.compile(optimizer='adam', loss='sparse_categorical_crossentropy', metrics=['accuracy'])\n",
    "#model summary\n",
    "model.summary()"
   ]
  },
  {
   "cell_type": "code",
   "execution_count": 40,
   "metadata": {},
   "outputs": [
    {
     "name": "stdout",
     "output_type": "stream",
     "text": [
      "Train on 54000 samples, validate on 6000 samples\n",
      "Epoch 1/10\n",
      "54000/54000 [==============================] - 10s 178us/step - loss: 0.5660 - accuracy: 0.9061 - val_loss: 0.2087 - val_accuracy: 0.9468\n",
      "Epoch 2/10\n",
      "54000/54000 [==============================] - 8s 145us/step - loss: 0.2543 - accuracy: 0.9376 - val_loss: 0.2689 - val_accuracy: 0.9360\n",
      "Epoch 3/10\n",
      "54000/54000 [==============================] - 6s 119us/step - loss: 0.2424 - accuracy: 0.9436 - val_loss: 0.2619 - val_accuracy: 0.9455\n",
      "Epoch 4/10\n",
      "54000/54000 [==============================] - 7s 138us/step - loss: 0.2274 - accuracy: 0.9492 - val_loss: 0.2444 - val_accuracy: 0.9512\n",
      "Epoch 5/10\n",
      "54000/54000 [==============================] - 9s 166us/step - loss: 0.2132 - accuracy: 0.9523 - val_loss: 0.2472 - val_accuracy: 0.9580\n",
      "Epoch 6/10\n",
      "54000/54000 [==============================] - 9s 168us/step - loss: 0.2046 - accuracy: 0.9545 - val_loss: 0.2636 - val_accuracy: 0.9533\n",
      "Epoch 7/10\n",
      "54000/54000 [==============================] - 9s 165us/step - loss: 0.2030 - accuracy: 0.9575 - val_loss: 0.2661 - val_accuracy: 0.9465\n",
      "Epoch 8/10\n",
      "54000/54000 [==============================] - 9s 166us/step - loss: 0.1865 - accuracy: 0.9595 - val_loss: 0.2447 - val_accuracy: 0.9617\n",
      "Epoch 9/10\n",
      "54000/54000 [==============================] - 9s 166us/step - loss: 0.1862 - accuracy: 0.9596 - val_loss: 0.2438 - val_accuracy: 0.9588\n",
      "Epoch 10/10\n",
      "54000/54000 [==============================] - 9s 170us/step - loss: 0.1776 - accuracy: 0.9625 - val_loss: 0.2643 - val_accuracy: 0.9610\n"
     ]
    }
   ],
   "source": [
    "#fit training dataset into the model\n",
    "model_fit = model.fit(X_train, y_train,validation_split = 0.1,epochs=10, verbose=1)"
   ]
  },
  {
   "cell_type": "code",
   "execution_count": 41,
   "metadata": {},
   "outputs": [
    {
     "name": "stdout",
     "output_type": "stream",
     "text": [
      "dict_keys(['val_loss', 'val_accuracy', 'loss', 'accuracy'])\n"
     ]
    },
    {
     "data": {
      "image/png": "[encoded data removed]",
      "text/plain": [
       "<Figure size 432x288 with 1 Axes>"
      ]
     },
     "metadata": {
      "needs_background": "light"
     },
     "output_type": "display_data"
    }
   ],
   "source": [
    "print(model_fit.history.keys())\n",
    "plt.plot(model_fit.history['accuracy'])\n",
    "plt.plot(model_fit.history['val_accuracy'])\n",
    "plt.title('model accuracy')\n",
    "plt.ylabel('accuracy')\n",
    "plt.xlabel('epoch')\n",
    "plt.legend(['train', 'test'], loc='upper left')\n",
    "plt.show()"
   ]
  },
  {
   "cell_type": "code",
   "execution_count": 42,
   "metadata": {},
   "outputs": [
    {
     "data": {
      "text/html": [
       "<div>\n",
       "<style scoped>\n",
       "    .dataframe tbody tr th:only-of-type {\n",
       "        vertical-align: middle;\n",
       "    }\n",
       "\n",
       "    .dataframe tbody tr th {\n",
       "        vertical-align: top;\n",
       "    }\n",
       "\n",
       "    .dataframe thead th {\n",
       "        text-align: right;\n",
       "    }\n",
       "</style>\n",
       "<table border=\"1\" class=\"dataframe\">\n",
       "  <thead>\n",
       "    <tr style=\"text-align: right;\">\n",
       "      <th></th>\n",
       "      <th>Test accuracy</th>\n",
       "      <th>F1 score</th>\n",
       "      <th>ROC AUC score</th>\n",
       "      <th>Total Loss</th>\n",
       "    </tr>\n",
       "  </thead>\n",
       "  <tbody>\n",
       "    <tr>\n",
       "      <th>0</th>\n",
       "      <td>95.21</td>\n",
       "      <td>0.952</td>\n",
       "      <td>0.998</td>\n",
       "      <td>0.331</td>\n",
       "    </tr>\n",
       "  </tbody>\n",
       "</table>\n",
       "</div>"
      ],
      "text/plain": [
       "   Test accuracy  F1 score  ROC AUC score  Total Loss\n",
       "0          95.21     0.952          0.998       0.331"
      ]
     },
     "metadata": {},
     "output_type": "display_data"
    }
   ],
   "source": [
    "#evaluate the model for testing dataset\n",
    "test_loss = model.evaluate(X_test, y_test, verbose=0)\n",
    "#calculate evaluation parameters\n",
    "f1 = f1_score(y_test, model.predict_classes(X_test), average='micro')\n",
    "roc = roc_auc_score(y_test, model.predict_proba(X_test), multi_class='ovo')\n",
    "#create evaluation dataframe\n",
    "stats = pd.DataFrame({'Test accuracy' :  round(test_loss[1]*100,3),\n",
    "                      'F1 score'      : round(f1,3),\n",
    "                      'ROC AUC score' : round(roc,3),\n",
    "                      'Total Loss'    : round(test_loss[0],3)}, index=[0])\n",
    "#print evaluation dataframe\n",
    "display(stats)"
   ]
  },
  {
   "cell_type": "code",
   "execution_count": null,
   "metadata": {},
   "outputs": [],
   "source": []
  },
  {
   "cell_type": "code",
   "execution_count": 43,
   "metadata": {},
   "outputs": [],
   "source": [
    "#Model 10"
   ]
  },
  {
   "cell_type": "code",
   "execution_count": null,
   "metadata": {},
   "outputs": [],
   "source": []
  },
  {
   "cell_type": "code",
   "execution_count": 1,
   "metadata": {},
   "outputs": [
    {
     "name": "stderr",
     "output_type": "stream",
     "text": [
      "Using TensorFlow backend.\n",
      "/home/nishit/.conda/envs/venv/lib/python3.7/site-packages/tensorflow/python/framework/dtypes.py:516: FutureWarning: Passing (type, 1) or '1type' as a synonym of type is deprecated; in a future version of numpy, it will be understood as (type, (1,)) / '(1,)type'.\n",
      "  _np_qint8 = np.dtype([(\"qint8\", np.int8, 1)])\n",
      "/home/nishit/.conda/envs/venv/lib/python3.7/site-packages/tensorflow/python/framework/dtypes.py:517: FutureWarning: Passing (type, 1) or '1type' as a synonym of type is deprecated; in a future version of numpy, it will be understood as (type, (1,)) / '(1,)type'.\n",
      "  _np_quint8 = np.dtype([(\"quint8\", np.uint8, 1)])\n",
      "/home/nishit/.conda/envs/venv/lib/python3.7/site-packages/tensorflow/python/framework/dtypes.py:518: FutureWarning: Passing (type, 1) or '1type' as a synonym of type is deprecated; in a future version of numpy, it will be understood as (type, (1,)) / '(1,)type'.\n",
      "  _np_qint16 = np.dtype([(\"qint16\", np.int16, 1)])\n",
      "/home/nishit/.conda/envs/venv/lib/python3.7/site-packages/tensorflow/python/framework/dtypes.py:519: FutureWarning: Passing (type, 1) or '1type' as a synonym of type is deprecated; in a future version of numpy, it will be understood as (type, (1,)) / '(1,)type'.\n",
      "  _np_quint16 = np.dtype([(\"quint16\", np.uint16, 1)])\n",
      "/home/nishit/.conda/envs/venv/lib/python3.7/site-packages/tensorflow/python/framework/dtypes.py:520: FutureWarning: Passing (type, 1) or '1type' as a synonym of type is deprecated; in a future version of numpy, it will be understood as (type, (1,)) / '(1,)type'.\n",
      "  _np_qint32 = np.dtype([(\"qint32\", np.int32, 1)])\n",
      "/home/nishit/.conda/envs/venv/lib/python3.7/site-packages/tensorflow/python/framework/dtypes.py:525: FutureWarning: Passing (type, 1) or '1type' as a synonym of type is deprecated; in a future version of numpy, it will be understood as (type, (1,)) / '(1,)type'.\n",
      "  np_resource = np.dtype([(\"resource\", np.ubyte, 1)])\n",
      "/home/nishit/.conda/envs/venv/lib/python3.7/site-packages/tensorboard/compat/tensorflow_stub/dtypes.py:541: FutureWarning: Passing (type, 1) or '1type' as a synonym of type is deprecated; in a future version of numpy, it will be understood as (type, (1,)) / '(1,)type'.\n",
      "  _np_qint8 = np.dtype([(\"qint8\", np.int8, 1)])\n",
      "/home/nishit/.conda/envs/venv/lib/python3.7/site-packages/tensorboard/compat/tensorflow_stub/dtypes.py:542: FutureWarning: Passing (type, 1) or '1type' as a synonym of type is deprecated; in a future version of numpy, it will be understood as (type, (1,)) / '(1,)type'.\n",
      "  _np_quint8 = np.dtype([(\"quint8\", np.uint8, 1)])\n",
      "/home/nishit/.conda/envs/venv/lib/python3.7/site-packages/tensorboard/compat/tensorflow_stub/dtypes.py:543: FutureWarning: Passing (type, 1) or '1type' as a synonym of type is deprecated; in a future version of numpy, it will be understood as (type, (1,)) / '(1,)type'.\n",
      "  _np_qint16 = np.dtype([(\"qint16\", np.int16, 1)])\n",
      "/home/nishit/.conda/envs/venv/lib/python3.7/site-packages/tensorboard/compat/tensorflow_stub/dtypes.py:544: FutureWarning: Passing (type, 1) or '1type' as a synonym of type is deprecated; in a future version of numpy, it will be understood as (type, (1,)) / '(1,)type'.\n",
      "  _np_quint16 = np.dtype([(\"quint16\", np.uint16, 1)])\n",
      "/home/nishit/.conda/envs/venv/lib/python3.7/site-packages/tensorboard/compat/tensorflow_stub/dtypes.py:545: FutureWarning: Passing (type, 1) or '1type' as a synonym of type is deprecated; in a future version of numpy, it will be understood as (type, (1,)) / '(1,)type'.\n",
      "  _np_qint32 = np.dtype([(\"qint32\", np.int32, 1)])\n",
      "/home/nishit/.conda/envs/venv/lib/python3.7/site-packages/tensorboard/compat/tensorflow_stub/dtypes.py:550: FutureWarning: Passing (type, 1) or '1type' as a synonym of type is deprecated; in a future version of numpy, it will be understood as (type, (1,)) / '(1,)type'.\n",
      "  np_resource = np.dtype([(\"resource\", np.ubyte, 1)])\n"
     ]
    }
   ],
   "source": [
    "import pandas as pd\n",
    "import numpy as np\n",
    "#data visualization packages\n",
    "import matplotlib.pyplot as plt\n",
    "#keras packages\n",
    "import keras\n",
    "from keras.models import Sequential\n",
    "from keras.layers import Convolution2D\n",
    "from keras.layers import MaxPooling2D\n",
    "from keras.layers import Flatten\n",
    "from keras.layers import Dense\n",
    "from keras.wrappers.scikit_learn import KerasClassifier\n",
    "from keras.layers import Dropout\n",
    "#model evaluation packages\n",
    "from sklearn.metrics import f1_score, roc_auc_score, log_loss\n",
    "from sklearn.model_selection import cross_val_score, cross_validate"
   ]
  },
  {
   "cell_type": "code",
   "execution_count": 2,
   "metadata": {},
   "outputs": [],
   "source": [
    "import pandas as pd\n",
    "mnist_train = pd.read_csv('mnist_train.csv', sep=',')\n",
    "mnist_test = pd.read_csv('mnist_test.csv', sep=',')\n",
    "X_train = mnist_train.drop(labels = [\"label\"],axis = 1) \n",
    "y_train = mnist_train[\"label\"]\n",
    "X_test = mnist_test.drop(labels = [\"label\"],axis = 1) \n",
    "y_test=mnist_test[\"label\"]"
   ]
  },
  {
   "cell_type": "code",
   "execution_count": 3,
   "metadata": {},
   "outputs": [
    {
     "name": "stdout",
     "output_type": "stream",
     "text": [
      "Number of unique classes:  10\n",
      "Classes:  [0 1 2 3 4 5 6 7 8 9]\n"
     ]
    }
   ],
   "source": [
    "\n",
    "#reshape data from 3-D to 2-D array\n",
    "X_train = X_train.values.reshape(60000, 784)\n",
    "X_test = X_test.values.reshape(10000, 784)\n",
    "#feature scaling\n",
    "from sklearn.preprocessing import MinMaxScaler\n",
    "minmax = MinMaxScaler()\n",
    "#fit and transform training dataset\n",
    "X_train = minmax.fit_transform(X_train)\n",
    "#transform testing dataset\n",
    "X_test = minmax.transform(X_test)\n",
    "print('Number of unique classes: ', len(np.unique(y_train)))\n",
    "print('Classes: ', np.unique(y_train))"
   ]
  },
  {
   "cell_type": "code",
   "execution_count": 4,
   "metadata": {},
   "outputs": [
    {
     "data": {
      "image/png": "[encoded data removed]",
      "text/plain": [
       "<Figure size 1080x360 with 10 Axes>"
      ]
     },
     "metadata": {
      "needs_background": "light"
     },
     "output_type": "display_data"
    }
   ],
   "source": [
    "\n",
    "fig, axes = plt.subplots(nrows=2, ncols=5,figsize=(15,5))          \n",
    "ax = axes.ravel()\n",
    "for i in range(10):\n",
    "    ax[i].imshow(X_train[i].reshape(28,28))\n",
    "    ax[i].title.set_text('Class: ' + str(y_train[i]))              \n",
    "plt.subplots_adjust(hspace=0.5)                                    \n",
    "plt.show()"
   ]
  },
  {
   "cell_type": "code",
   "execution_count": 8,
   "metadata": {},
   "outputs": [
    {
     "name": "stdout",
     "output_type": "stream",
     "text": [
      "Model: \"sequential_3\"\n",
      "_________________________________________________________________\n",
      "Layer (type)                 Output Shape              Param #   \n",
      "=================================================================\n",
      "dense_6 (Dense)              (None, 256)               200960    \n",
      "_________________________________________________________________\n",
      "dense_7 (Dense)              (None, 256)               65792     \n",
      "_________________________________________________________________\n",
      "dense_8 (Dense)              (None, 10)                2570      \n",
      "=================================================================\n",
      "Total params: 269,322\n",
      "Trainable params: 269,322\n",
      "Non-trainable params: 0\n",
      "_________________________________________________________________\n"
     ]
    }
   ],
   "source": [
    "model = Sequential()\n",
    "#add 1st hidden layer\n",
    "model.add(Dense(input_dim = X_train.shape[1], units = 256, kernel_initializer='uniform', activation='relu'))\n",
    "#add output layer\n",
    "model.add(Dense(input_dim = X_train.shape[1], units = 256, kernel_initializer='uniform', activation='sigmoid'))\n",
    "model.add(Dense(units = 10, kernel_initializer='uniform', activation='softmax'))\n",
    "#compile the neural network\n",
    "model.compile(optimizer='adam', loss='sparse_categorical_crossentropy', metrics=['accuracy'])\n",
    "#model summary\n",
    "model.summary()"
   ]
  },
  {
   "cell_type": "code",
   "execution_count": 9,
   "metadata": {},
   "outputs": [
    {
     "name": "stdout",
     "output_type": "stream",
     "text": [
      "Train on 54000 samples, validate on 6000 samples\n",
      "Epoch 1/10\n",
      "54000/54000 [==============================] - 9s 165us/step - loss: 0.2965 - accuracy: 0.9129 - val_loss: 0.1034 - val_accuracy: 0.9692\n",
      "Epoch 2/10\n",
      "54000/54000 [==============================] - 10s 194us/step - loss: 0.1040 - accuracy: 0.9686 - val_loss: 0.0864 - val_accuracy: 0.9758\n",
      "Epoch 3/10\n",
      "54000/54000 [==============================] - 10s 179us/step - loss: 0.0666 - accuracy: 0.9792 - val_loss: 0.0743 - val_accuracy: 0.9780\n",
      "Epoch 4/10\n",
      "54000/54000 [==============================] - 10s 181us/step - loss: 0.0473 - accuracy: 0.9847 - val_loss: 0.1028 - val_accuracy: 0.9722\n",
      "Epoch 5/10\n",
      "54000/54000 [==============================] - 10s 183us/step - loss: 0.0355 - accuracy: 0.9886 - val_loss: 0.0676 - val_accuracy: 0.9807\n",
      "Epoch 6/10\n",
      "54000/54000 [==============================] - 9s 161us/step - loss: 0.0271 - accuracy: 0.9913 - val_loss: 0.0771 - val_accuracy: 0.9777\n",
      "Epoch 7/10\n",
      "54000/54000 [==============================] - 9s 170us/step - loss: 0.0227 - accuracy: 0.9926 - val_loss: 0.0706 - val_accuracy: 0.9822\n",
      "Epoch 8/10\n",
      "54000/54000 [==============================] - 10s 182us/step - loss: 0.0141 - accuracy: 0.9956 - val_loss: 0.0868 - val_accuracy: 0.9807\n",
      "Epoch 9/10\n",
      "54000/54000 [==============================] - 10s 178us/step - loss: 0.0163 - accuracy: 0.9943 - val_loss: 0.0778 - val_accuracy: 0.9805\n",
      "Epoch 10/10\n",
      "54000/54000 [==============================] - 10s 176us/step - loss: 0.0130 - accuracy: 0.9957 - val_loss: 0.0774 - val_accuracy: 0.9838\n"
     ]
    }
   ],
   "source": [
    "#fit training dataset into the model\n",
    "model_fit = model.fit(X_train, y_train,validation_split = 0.1,epochs=10, verbose=1)"
   ]
  },
  {
   "cell_type": "code",
   "execution_count": 10,
   "metadata": {},
   "outputs": [
    {
     "name": "stdout",
     "output_type": "stream",
     "text": [
      "dict_keys(['val_loss', 'val_accuracy', 'loss', 'accuracy'])\n"
     ]
    },
    {
     "data": {
      "image/png": "[encoded data removed]",
      "text/plain": [
       "<Figure size 432x288 with 1 Axes>"
      ]
     },
     "metadata": {
      "needs_background": "light"
     },
     "output_type": "display_data"
    }
   ],
   "source": [
    "print(model_fit.history.keys())\n",
    "plt.plot(model_fit.history['accuracy'])\n",
    "plt.plot(model_fit.history['val_accuracy'])\n",
    "plt.title('model accuracy')\n",
    "plt.ylabel('accuracy')\n",
    "plt.xlabel('epoch')\n",
    "plt.legend(['train', 'test'], loc='upper left')\n",
    "plt.show()"
   ]
  },
  {
   "cell_type": "code",
   "execution_count": 11,
   "metadata": {},
   "outputs": [
    {
     "data": {
      "text/html": [
       "<div>\n",
       "<style scoped>\n",
       "    .dataframe tbody tr th:only-of-type {\n",
       "        vertical-align: middle;\n",
       "    }\n",
       "\n",
       "    .dataframe tbody tr th {\n",
       "        vertical-align: top;\n",
       "    }\n",
       "\n",
       "    .dataframe thead th {\n",
       "        text-align: right;\n",
       "    }\n",
       "</style>\n",
       "<table border=\"1\" class=\"dataframe\">\n",
       "  <thead>\n",
       "    <tr style=\"text-align: right;\">\n",
       "      <th></th>\n",
       "      <th>Test accuracy</th>\n",
       "      <th>F1 score</th>\n",
       "      <th>ROC AUC score</th>\n",
       "      <th>Total Loss</th>\n",
       "    </tr>\n",
       "  </thead>\n",
       "  <tbody>\n",
       "    <tr>\n",
       "      <th>0</th>\n",
       "      <td>98.05</td>\n",
       "      <td>0.98</td>\n",
       "      <td>1.0</td>\n",
       "      <td>0.081</td>\n",
       "    </tr>\n",
       "  </tbody>\n",
       "</table>\n",
       "</div>"
      ],
      "text/plain": [
       "   Test accuracy  F1 score  ROC AUC score  Total Loss\n",
       "0          98.05      0.98            1.0       0.081"
      ]
     },
     "metadata": {},
     "output_type": "display_data"
    }
   ],
   "source": [
    "#evaluate the model for testing dataset\n",
    "test_loss = model.evaluate(X_test, y_test, verbose=0)\n",
    "#calculate evaluation parameters\n",
    "f1 = f1_score(y_test, model.predict_classes(X_test), average='micro')\n",
    "roc = roc_auc_score(y_test, model.predict_proba(X_test), multi_class='ovo')\n",
    "#create evaluation dataframe\n",
    "stats = pd.DataFrame({'Test accuracy' :  round(test_loss[1]*100,3),\n",
    "                      'F1 score'      : round(f1,3),\n",
    "                      'ROC AUC score' : round(roc,3),\n",
    "                      'Total Loss'    : round(test_loss[0],3)}, index=[0])\n",
    "#print evaluation dataframe\n",
    "display(stats)"
   ]
  },
  {
   "cell_type": "code",
   "execution_count": null,
   "metadata": {},
   "outputs": [],
   "source": []
  },
  {
   "cell_type": "code",
   "execution_count": 12,
   "metadata": {},
   "outputs": [],
   "source": [
    "#Model 11"
   ]
  },
  {
   "cell_type": "code",
   "execution_count": null,
   "metadata": {},
   "outputs": [],
   "source": []
  },
  {
   "cell_type": "code",
   "execution_count": 13,
   "metadata": {},
   "outputs": [],
   "source": [
    "import pandas as pd\n",
    "import numpy as np\n",
    "#data visualization packages\n",
    "import matplotlib.pyplot as plt\n",
    "#keras packages\n",
    "import keras\n",
    "from keras.models import Sequential\n",
    "from keras.layers import Convolution2D\n",
    "from keras.layers import MaxPooling2D\n",
    "from keras.layers import Flatten\n",
    "from keras.layers import Dense\n",
    "from keras.wrappers.scikit_learn import KerasClassifier\n",
    "from keras.layers import Dropout\n",
    "#model evaluation packages\n",
    "from sklearn.metrics import f1_score, roc_auc_score, log_loss\n",
    "from sklearn.model_selection import cross_val_score, cross_validate"
   ]
  },
  {
   "cell_type": "code",
   "execution_count": 14,
   "metadata": {},
   "outputs": [],
   "source": [
    "import pandas as pd\n",
    "mnist_train = pd.read_csv('mnist_train.csv', sep=',')\n",
    "mnist_test = pd.read_csv('mnist_test.csv', sep=',')\n",
    "X_train = mnist_train.drop(labels = [\"label\"],axis = 1) \n",
    "y_train = mnist_train[\"label\"]\n",
    "X_test = mnist_test.drop(labels = [\"label\"],axis = 1) \n",
    "y_test=mnist_test[\"label\"]"
   ]
  },
  {
   "cell_type": "code",
   "execution_count": 15,
   "metadata": {},
   "outputs": [
    {
     "name": "stdout",
     "output_type": "stream",
     "text": [
      "Number of unique classes:  10\n",
      "Classes:  [0 1 2 3 4 5 6 7 8 9]\n"
     ]
    }
   ],
   "source": [
    "\n",
    "#reshape data from 3-D to 2-D array\n",
    "X_train = X_train.values.reshape(60000, 784)\n",
    "X_test = X_test.values.reshape(10000, 784)\n",
    "#feature scaling\n",
    "from sklearn.preprocessing import MinMaxScaler\n",
    "minmax = MinMaxScaler()\n",
    "#fit and transform training dataset\n",
    "X_train = minmax.fit_transform(X_train)\n",
    "#transform testing dataset\n",
    "X_test = minmax.transform(X_test)\n",
    "print('Number of unique classes: ', len(np.unique(y_train)))\n",
    "print('Classes: ', np.unique(y_train))"
   ]
  },
  {
   "cell_type": "code",
   "execution_count": 16,
   "metadata": {},
   "outputs": [
    {
     "data": {
      "image/png": "[encoded data removed]",
      "text/plain": [
       "<Figure size 1080x360 with 10 Axes>"
      ]
     },
     "metadata": {
      "needs_background": "light"
     },
     "output_type": "display_data"
    }
   ],
   "source": [
    "\n",
    "fig, axes = plt.subplots(nrows=2, ncols=5,figsize=(15,5))          \n",
    "ax = axes.ravel()\n",
    "for i in range(10):\n",
    "    ax[i].imshow(X_train[i].reshape(28,28))\n",
    "    ax[i].title.set_text('Class: ' + str(y_train[i]))              \n",
    "plt.subplots_adjust(hspace=0.5)                                    \n",
    "plt.show()"
   ]
  },
  {
   "cell_type": "code",
   "execution_count": 17,
   "metadata": {},
   "outputs": [
    {
     "name": "stdout",
     "output_type": "stream",
     "text": [
      "Model: \"sequential_4\"\n",
      "_________________________________________________________________\n",
      "Layer (type)                 Output Shape              Param #   \n",
      "=================================================================\n",
      "dense_9 (Dense)              (None, 128)               100480    \n",
      "_________________________________________________________________\n",
      "dense_10 (Dense)             (None, 128)               16512     \n",
      "_________________________________________________________________\n",
      "dense_11 (Dense)             (None, 10)                1290      \n",
      "=================================================================\n",
      "Total params: 118,282\n",
      "Trainable params: 118,282\n",
      "Non-trainable params: 0\n",
      "_________________________________________________________________\n"
     ]
    }
   ],
   "source": [
    "model = Sequential()\n",
    "#add 1st hidden layer\n",
    "model.add(Dense(input_dim = X_train.shape[1], units = 128, kernel_initializer='uniform', activation='relu'))\n",
    "#add output layer\n",
    "model.add(Dense(input_dim = X_train.shape[1], units = 128, kernel_initializer='uniform', activation='relu'))\n",
    "model.add(Dense(units = 10, kernel_initializer='uniform', activation='softmax'))\n",
    "#compile the neural network\n",
    "model.compile(optimizer='adam', loss='sparse_categorical_crossentropy', metrics=['accuracy'])\n",
    "#model summary\n",
    "model.summary()"
   ]
  },
  {
   "cell_type": "code",
   "execution_count": 18,
   "metadata": {},
   "outputs": [
    {
     "name": "stdout",
     "output_type": "stream",
     "text": [
      "Train on 54000 samples, validate on 6000 samples\n",
      "Epoch 1/20\n",
      "54000/54000 [==============================] - 7s 126us/step - loss: 0.3185 - accuracy: 0.9054 - val_loss: 0.1362 - val_accuracy: 0.9632\n",
      "Epoch 2/20\n",
      "54000/54000 [==============================] - 5s 89us/step - loss: 0.1238 - accuracy: 0.9626 - val_loss: 0.1180 - val_accuracy: 0.9668\n",
      "Epoch 3/20\n",
      "54000/54000 [==============================] - 6s 113us/step - loss: 0.0827 - accuracy: 0.9744 - val_loss: 0.0925 - val_accuracy: 0.9748\n",
      "Epoch 4/20\n",
      "54000/54000 [==============================] - 7s 133us/step - loss: 0.0607 - accuracy: 0.9809 - val_loss: 0.0838 - val_accuracy: 0.9760\n",
      "Epoch 5/20\n",
      "54000/54000 [==============================] - 8s 151us/step - loss: 0.0493 - accuracy: 0.9839 - val_loss: 0.0948 - val_accuracy: 0.9725\n",
      "Epoch 6/20\n",
      "54000/54000 [==============================] - 7s 133us/step - loss: 0.0370 - accuracy: 0.9880 - val_loss: 0.0898 - val_accuracy: 0.9763\n",
      "Epoch 7/20\n",
      "54000/54000 [==============================] - 5s 89us/step - loss: 0.0317 - accuracy: 0.9898 - val_loss: 0.0990 - val_accuracy: 0.9775\n",
      "Epoch 8/20\n",
      "54000/54000 [==============================] - 5s 88us/step - loss: 0.0288 - accuracy: 0.9903 - val_loss: 0.0860 - val_accuracy: 0.9803\n",
      "Epoch 9/20\n",
      "54000/54000 [==============================] - 5s 85us/step - loss: 0.0224 - accuracy: 0.9927 - val_loss: 0.1029 - val_accuracy: 0.9785\n",
      "Epoch 10/20\n",
      "54000/54000 [==============================] - 6s 115us/step - loss: 0.0205 - accuracy: 0.9929 - val_loss: 0.0847 - val_accuracy: 0.9802\n",
      "Epoch 11/20\n",
      "54000/54000 [==============================] - 6s 114us/step - loss: 0.0157 - accuracy: 0.9951 - val_loss: 0.1117 - val_accuracy: 0.9758\n",
      "Epoch 12/20\n",
      "54000/54000 [==============================] - 6s 113us/step - loss: 0.0160 - accuracy: 0.9943 - val_loss: 0.1078 - val_accuracy: 0.9790\n",
      "Epoch 13/20\n",
      "54000/54000 [==============================] - 5s 86us/step - loss: 0.0169 - accuracy: 0.9942 - val_loss: 0.1067 - val_accuracy: 0.9803\n",
      "Epoch 14/20\n",
      "54000/54000 [==============================] - 6s 113us/step - loss: 0.0127 - accuracy: 0.9960 - val_loss: 0.1410 - val_accuracy: 0.9775\n",
      "Epoch 15/20\n",
      "54000/54000 [==============================] - 7s 122us/step - loss: 0.0144 - accuracy: 0.9951 - val_loss: 0.1117 - val_accuracy: 0.9797\n",
      "Epoch 16/20\n",
      "54000/54000 [==============================] - 4s 82us/step - loss: 0.0124 - accuracy: 0.9959 - val_loss: 0.1092 - val_accuracy: 0.9817\n",
      "Epoch 17/20\n",
      "54000/54000 [==============================] - 5s 85us/step - loss: 0.0107 - accuracy: 0.9966 - val_loss: 0.1148 - val_accuracy: 0.9810\n",
      "Epoch 18/20\n",
      "54000/54000 [==============================] - 7s 130us/step - loss: 0.0119 - accuracy: 0.9959 - val_loss: 0.1216 - val_accuracy: 0.9790\n",
      "Epoch 19/20\n",
      "54000/54000 [==============================] - 5s 89us/step - loss: 0.0120 - accuracy: 0.9964 - val_loss: 0.1279 - val_accuracy: 0.9802\n",
      "Epoch 20/20\n",
      "54000/54000 [==============================] - 5s 85us/step - loss: 0.0084 - accuracy: 0.9971 - val_loss: 0.1330 - val_accuracy: 0.9800\n"
     ]
    }
   ],
   "source": [
    "#fit training dataset into the model\n",
    "model_fit = model.fit(X_train, y_train,validation_split = 0.1,epochs=20, verbose=1)"
   ]
  },
  {
   "cell_type": "code",
   "execution_count": 20,
   "metadata": {},
   "outputs": [
    {
     "name": "stdout",
     "output_type": "stream",
     "text": [
      "dict_keys(['val_loss', 'val_accuracy', 'loss', 'accuracy'])\n"
     ]
    },
    {
     "data": {
      "image/png": "[encoded data removed]",
      "text/plain": [
       "<Figure size 432x288 with 1 Axes>"
      ]
     },
     "metadata": {
      "needs_background": "light"
     },
     "output_type": "display_data"
    }
   ],
   "source": [
    "print(model_fit.history.keys())\n",
    "plt.plot(model_fit.history['accuracy'])\n",
    "plt.plot(model_fit.history['val_accuracy'])\n",
    "plt.title('model accuracy')\n",
    "plt.ylabel('accuracy')\n",
    "plt.xlabel('epoch')\n",
    "plt.legend(['train', 'test'], loc='upper left')\n",
    "plt.show()"
   ]
  },
  {
   "cell_type": "code",
   "execution_count": 21,
   "metadata": {},
   "outputs": [
    {
     "data": {
      "text/html": [
       "<div>\n",
       "<style scoped>\n",
       "    .dataframe tbody tr th:only-of-type {\n",
       "        vertical-align: middle;\n",
       "    }\n",
       "\n",
       "    .dataframe tbody tr th {\n",
       "        vertical-align: top;\n",
       "    }\n",
       "\n",
       "    .dataframe thead th {\n",
       "        text-align: right;\n",
       "    }\n",
       "</style>\n",
       "<table border=\"1\" class=\"dataframe\">\n",
       "  <thead>\n",
       "    <tr style=\"text-align: right;\">\n",
       "      <th></th>\n",
       "      <th>Test accuracy</th>\n",
       "      <th>F1 score</th>\n",
       "      <th>ROC AUC score</th>\n",
       "      <th>Total Loss</th>\n",
       "    </tr>\n",
       "  </thead>\n",
       "  <tbody>\n",
       "    <tr>\n",
       "      <th>0</th>\n",
       "      <td>97.72</td>\n",
       "      <td>0.977</td>\n",
       "      <td>1.0</td>\n",
       "      <td>0.119</td>\n",
       "    </tr>\n",
       "  </tbody>\n",
       "</table>\n",
       "</div>"
      ],
      "text/plain": [
       "   Test accuracy  F1 score  ROC AUC score  Total Loss\n",
       "0          97.72     0.977            1.0       0.119"
      ]
     },
     "metadata": {},
     "output_type": "display_data"
    }
   ],
   "source": [
    "#evaluate the model for testing dataset\n",
    "test_loss = model.evaluate(X_test, y_test, verbose=0)\n",
    "#calculate evaluation parameters\n",
    "f1 = f1_score(y_test, model.predict_classes(X_test), average='micro')\n",
    "roc = roc_auc_score(y_test, model.predict_proba(X_test), multi_class='ovo')\n",
    "#create evaluation dataframe\n",
    "stats = pd.DataFrame({'Test accuracy' :  round(test_loss[1]*100,3),\n",
    "                      'F1 score'      : round(f1,3),\n",
    "                      'ROC AUC score' : round(roc,3),\n",
    "                      'Total Loss'    : round(test_loss[0],3)}, index=[0])\n",
    "#print evaluation dataframe\n",
    "display(stats)"
   ]
  },
  {
   "cell_type": "code",
   "execution_count": 22,
   "metadata": {},
   "outputs": [],
   "source": [
    "#Model 12"
   ]
  },
  {
   "cell_type": "code",
   "execution_count": null,
   "metadata": {},
   "outputs": [],
   "source": []
  },
  {
   "cell_type": "code",
   "execution_count": 28,
   "metadata": {},
   "outputs": [],
   "source": [
    "import pandas as pd\n",
    "import numpy as np\n",
    "#data visualization packages\n",
    "import matplotlib.pyplot as plt\n",
    "#keras packages\n",
    "import keras\n",
    "from keras.models import Sequential\n",
    "from keras.layers import Convolution2D\n",
    "from keras.layers import MaxPooling2D\n",
    "from keras.layers import Flatten\n",
    "from keras.layers import Dense\n",
    "from keras.wrappers.scikit_learn import KerasClassifier\n",
    "from keras.layers import Dropout\n",
    "#model evaluation packages\n",
    "from sklearn.metrics import f1_score, roc_auc_score, log_loss\n",
    "from sklearn.model_selection import cross_val_score, cross_validate"
   ]
  },
  {
   "cell_type": "code",
   "execution_count": 29,
   "metadata": {},
   "outputs": [],
   "source": [
    "import pandas as pd\n",
    "mnist_train = pd.read_csv('mnist_train.csv', sep=',')\n",
    "mnist_test = pd.read_csv('mnist_test.csv', sep=',')\n",
    "X_train = mnist_train.drop(labels = [\"label\"],axis = 1) \n",
    "y_train = mnist_train[\"label\"]\n",
    "X_test = mnist_test.drop(labels = [\"label\"],axis = 1) \n",
    "y_test=mnist_test[\"label\"]"
   ]
  },
  {
   "cell_type": "code",
   "execution_count": 30,
   "metadata": {},
   "outputs": [
    {
     "name": "stdout",
     "output_type": "stream",
     "text": [
      "Number of unique classes:  10\n",
      "Classes:  [0 1 2 3 4 5 6 7 8 9]\n"
     ]
    }
   ],
   "source": [
    "\n",
    "#reshape data from 3-D to 2-D array\n",
    "X_train = X_train.values.reshape(60000, 784)\n",
    "X_test = X_test.values.reshape(10000, 784)\n",
    "#feature scaling\n",
    "from sklearn.preprocessing import MinMaxScaler\n",
    "minmax = MinMaxScaler()\n",
    "#fit and transform training dataset\n",
    "X_train = minmax.fit_transform(X_train)\n",
    "#transform testing dataset\n",
    "X_test = minmax.transform(X_test)\n",
    "print('Number of unique classes: ', len(np.unique(y_train)))\n",
    "print('Classes: ', np.unique(y_train))"
   ]
  },
  {
   "cell_type": "code",
   "execution_count": 31,
   "metadata": {},
   "outputs": [
    {
     "data": {
      "image/png": "[encoded data removed]",
      "text/plain": [
       "<Figure size 1080x360 with 10 Axes>"
      ]
     },
     "metadata": {
      "needs_background": "light"
     },
     "output_type": "display_data"
    }
   ],
   "source": [
    "\n",
    "fig, axes = plt.subplots(nrows=2, ncols=5,figsize=(15,5))          \n",
    "ax = axes.ravel()\n",
    "for i in range(10):\n",
    "    ax[i].imshow(X_train[i].reshape(28,28))\n",
    "    ax[i].title.set_text('Class: ' + str(y_train[i]))              \n",
    "plt.subplots_adjust(hspace=0.5)                                    \n",
    "plt.show()"
   ]
  },
  {
   "cell_type": "code",
   "execution_count": 26,
   "metadata": {},
   "outputs": [
    {
     "name": "stdout",
     "output_type": "stream",
     "text": [
      "Model: \"sequential_7\"\n",
      "_________________________________________________________________\n",
      "Layer (type)                 Output Shape              Param #   \n",
      "=================================================================\n",
      "dense_18 (Dense)             (None, 256)               200960    \n",
      "_________________________________________________________________\n",
      "dense_19 (Dense)             (None, 256)               65792     \n",
      "_________________________________________________________________\n",
      "dense_20 (Dense)             (None, 10)                2570      \n",
      "=================================================================\n",
      "Total params: 269,322\n",
      "Trainable params: 269,322\n",
      "Non-trainable params: 0\n",
      "_________________________________________________________________\n"
     ]
    }
   ],
   "source": [
    "model = Sequential()\n",
    "#add 1st hidden layer\n",
    "model.add(Dense(input_dim = X_train.shape[1], units = 256, kernel_initializer='uniform', activation='relu'))\n",
    "#add output layer\n",
    "model.add(Dense(input_dim = X_train.shape[1], units = 256, kernel_initializer='uniform', activation='relu'))\n",
    "model.add(Dense(units = 10, kernel_initializer='uniform', activation='softmax'))\n",
    "#compile the neural network\n",
    "model.compile(optimizer='adam', loss='sparse_categorical_crossentropy', metrics=['accuracy'])\n",
    "#model summary\n",
    "model.summary()"
   ]
  },
  {
   "cell_type": "code",
   "execution_count": 27,
   "metadata": {},
   "outputs": [
    {
     "name": "stdout",
     "output_type": "stream",
     "text": [
      "Train on 54000 samples, validate on 6000 samples\n",
      "Epoch 1/20\n",
      "16000/54000 [=======>......................] - ETA: 7s - loss: 0.4382 - accuracy: 0.8683"
     ]
    },
    {
     "ename": "KeyboardInterrupt",
     "evalue": "",
     "output_type": "error",
     "traceback": [
      "\u001b[0;31m---------------------------------------------------------------------------\u001b[0m",
      "\u001b[0;31mKeyboardInterrupt\u001b[0m                         Traceback (most recent call last)",
      "\u001b[0;32m<ipython-input-27-78b1b324fffc>\u001b[0m in \u001b[0;36m<module>\u001b[0;34m()\u001b[0m\n\u001b[1;32m      1\u001b[0m \u001b[0;31m#fit training dataset into the model\u001b[0m\u001b[0;34m\u001b[0m\u001b[0;34m\u001b[0m\u001b[0;34m\u001b[0m\u001b[0m\n\u001b[0;32m----> 2\u001b[0;31m \u001b[0mmodel_fit\u001b[0m \u001b[0;34m=\u001b[0m \u001b[0mmodel\u001b[0m\u001b[0;34m.\u001b[0m\u001b[0mfit\u001b[0m\u001b[0;34m(\u001b[0m\u001b[0mX_train\u001b[0m\u001b[0;34m,\u001b[0m \u001b[0my_train\u001b[0m\u001b[0;34m,\u001b[0m\u001b[0mvalidation_split\u001b[0m \u001b[0;34m=\u001b[0m \u001b[0;36m0.1\u001b[0m\u001b[0;34m,\u001b[0m\u001b[0mepochs\u001b[0m\u001b[0;34m=\u001b[0m\u001b[0;36m20\u001b[0m\u001b[0;34m,\u001b[0m \u001b[0mverbose\u001b[0m\u001b[0;34m=\u001b[0m\u001b[0;36m1\u001b[0m\u001b[0;34m)\u001b[0m\u001b[0;34m\u001b[0m\u001b[0;34m\u001b[0m\u001b[0m\n\u001b[0m",
      "\u001b[0;32m/home/nishit/.conda/envs/venv/lib/python3.7/site-packages/keras/engine/training.py\u001b[0m in \u001b[0;36mfit\u001b[0;34m(self, x, y, batch_size, epochs, verbose, callbacks, validation_split, validation_data, shuffle, class_weight, sample_weight, initial_epoch, steps_per_epoch, validation_steps, validation_freq, max_queue_size, workers, use_multiprocessing, **kwargs)\u001b[0m\n\u001b[1;32m   1237\u001b[0m                                         \u001b[0msteps_per_epoch\u001b[0m\u001b[0;34m=\u001b[0m\u001b[0msteps_per_epoch\u001b[0m\u001b[0;34m,\u001b[0m\u001b[0;34m\u001b[0m\u001b[0;34m\u001b[0m\u001b[0m\n\u001b[1;32m   1238\u001b[0m                                         \u001b[0mvalidation_steps\u001b[0m\u001b[0;34m=\u001b[0m\u001b[0mvalidation_steps\u001b[0m\u001b[0;34m,\u001b[0m\u001b[0;34m\u001b[0m\u001b[0;34m\u001b[0m\u001b[0m\n\u001b[0;32m-> 1239\u001b[0;31m                                         validation_freq=validation_freq)\n\u001b[0m\u001b[1;32m   1240\u001b[0m \u001b[0;34m\u001b[0m\u001b[0m\n\u001b[1;32m   1241\u001b[0m     def evaluate(self,\n",
      "\u001b[0;32m/home/nishit/.conda/envs/venv/lib/python3.7/site-packages/keras/engine/training_arrays.py\u001b[0m in \u001b[0;36mfit_loop\u001b[0;34m(model, fit_function, fit_inputs, out_labels, batch_size, epochs, verbose, callbacks, val_function, val_inputs, shuffle, initial_epoch, steps_per_epoch, validation_steps, validation_freq)\u001b[0m\n\u001b[1;32m    194\u001b[0m                     \u001b[0mins_batch\u001b[0m\u001b[0;34m[\u001b[0m\u001b[0mi\u001b[0m\u001b[0;34m]\u001b[0m \u001b[0;34m=\u001b[0m \u001b[0mins_batch\u001b[0m\u001b[0;34m[\u001b[0m\u001b[0mi\u001b[0m\u001b[0;34m]\u001b[0m\u001b[0;34m.\u001b[0m\u001b[0mtoarray\u001b[0m\u001b[0;34m(\u001b[0m\u001b[0;34m)\u001b[0m\u001b[0;34m\u001b[0m\u001b[0;34m\u001b[0m\u001b[0m\n\u001b[1;32m    195\u001b[0m \u001b[0;34m\u001b[0m\u001b[0m\n\u001b[0;32m--> 196\u001b[0;31m                 \u001b[0mouts\u001b[0m \u001b[0;34m=\u001b[0m \u001b[0mfit_function\u001b[0m\u001b[0;34m(\u001b[0m\u001b[0mins_batch\u001b[0m\u001b[0;34m)\u001b[0m\u001b[0;34m\u001b[0m\u001b[0;34m\u001b[0m\u001b[0m\n\u001b[0m\u001b[1;32m    197\u001b[0m                 \u001b[0mouts\u001b[0m \u001b[0;34m=\u001b[0m \u001b[0mto_list\u001b[0m\u001b[0;34m(\u001b[0m\u001b[0mouts\u001b[0m\u001b[0;34m)\u001b[0m\u001b[0;34m\u001b[0m\u001b[0;34m\u001b[0m\u001b[0m\n\u001b[1;32m    198\u001b[0m                 \u001b[0;32mfor\u001b[0m \u001b[0ml\u001b[0m\u001b[0;34m,\u001b[0m \u001b[0mo\u001b[0m \u001b[0;32min\u001b[0m \u001b[0mzip\u001b[0m\u001b[0;34m(\u001b[0m\u001b[0mout_labels\u001b[0m\u001b[0;34m,\u001b[0m \u001b[0mouts\u001b[0m\u001b[0;34m)\u001b[0m\u001b[0;34m:\u001b[0m\u001b[0;34m\u001b[0m\u001b[0;34m\u001b[0m\u001b[0m\n",
      "\u001b[0;32m/home/nishit/.conda/envs/venv/lib/python3.7/site-packages/tensorflow/python/keras/backend.py\u001b[0m in \u001b[0;36m__call__\u001b[0;34m(self, inputs)\u001b[0m\n\u001b[1;32m   3290\u001b[0m \u001b[0;34m\u001b[0m\u001b[0m\n\u001b[1;32m   3291\u001b[0m     fetched = self._callable_fn(*array_vals,\n\u001b[0;32m-> 3292\u001b[0;31m                                 run_metadata=self.run_metadata)\n\u001b[0m\u001b[1;32m   3293\u001b[0m     \u001b[0mself\u001b[0m\u001b[0;34m.\u001b[0m\u001b[0m_call_fetch_callbacks\u001b[0m\u001b[0;34m(\u001b[0m\u001b[0mfetched\u001b[0m\u001b[0;34m[\u001b[0m\u001b[0;34m-\u001b[0m\u001b[0mlen\u001b[0m\u001b[0;34m(\u001b[0m\u001b[0mself\u001b[0m\u001b[0;34m.\u001b[0m\u001b[0m_fetches\u001b[0m\u001b[0;34m)\u001b[0m\u001b[0;34m:\u001b[0m\u001b[0;34m]\u001b[0m\u001b[0;34m)\u001b[0m\u001b[0;34m\u001b[0m\u001b[0;34m\u001b[0m\u001b[0m\n\u001b[1;32m   3294\u001b[0m     output_structure = nest.pack_sequence_as(\n",
      "\u001b[0;32m/home/nishit/.conda/envs/venv/lib/python3.7/site-packages/tensorflow/python/client/session.py\u001b[0m in \u001b[0;36m__call__\u001b[0;34m(self, *args, **kwargs)\u001b[0m\n\u001b[1;32m   1456\u001b[0m         ret = tf_session.TF_SessionRunCallable(self._session._session,\n\u001b[1;32m   1457\u001b[0m                                                \u001b[0mself\u001b[0m\u001b[0;34m.\u001b[0m\u001b[0m_handle\u001b[0m\u001b[0;34m,\u001b[0m \u001b[0margs\u001b[0m\u001b[0;34m,\u001b[0m\u001b[0;34m\u001b[0m\u001b[0;34m\u001b[0m\u001b[0m\n\u001b[0;32m-> 1458\u001b[0;31m                                                run_metadata_ptr)\n\u001b[0m\u001b[1;32m   1459\u001b[0m         \u001b[0;32mif\u001b[0m \u001b[0mrun_metadata\u001b[0m\u001b[0;34m:\u001b[0m\u001b[0;34m\u001b[0m\u001b[0;34m\u001b[0m\u001b[0m\n\u001b[1;32m   1460\u001b[0m           \u001b[0mproto_data\u001b[0m \u001b[0;34m=\u001b[0m \u001b[0mtf_session\u001b[0m\u001b[0;34m.\u001b[0m\u001b[0mTF_GetBuffer\u001b[0m\u001b[0;34m(\u001b[0m\u001b[0mrun_metadata_ptr\u001b[0m\u001b[0;34m)\u001b[0m\u001b[0;34m\u001b[0m\u001b[0;34m\u001b[0m\u001b[0m\n",
      "\u001b[0;31mKeyboardInterrupt\u001b[0m: "
     ]
    }
   ],
   "source": [
    "#fit training dataset into the model\n",
    "model_fit = model.fit(X_train, y_train,validation_split = 0.1,epochs=20, verbose=1)"
   ]
  },
  {
   "cell_type": "code",
   "execution_count": null,
   "metadata": {},
   "outputs": [],
   "source": [
    "print(model_fit.history.keys())\n",
    "plt.plot(model_fit.history['accuracy'])\n",
    "plt.plot(model_fit.history['val_accuracy'])\n",
    "plt.title('model accuracy')\n",
    "plt.ylabel('accuracy')\n",
    "plt.xlabel('epoch')\n",
    "plt.legend(['train', 'test'], loc='upper left')\n",
    "plt.show()"
   ]
  },
  {
   "cell_type": "code",
   "execution_count": 1,
   "metadata": {},
   "outputs": [
    {
     "ename": "NameError",
     "evalue": "name 'model' is not defined",
     "output_type": "error",
     "traceback": [
      "\u001b[0;31m---------------------------------------------------------------------------\u001b[0m",
      "\u001b[0;31mNameError\u001b[0m                                 Traceback (most recent call last)",
      "\u001b[0;32m<ipython-input-1-e47093f92dd5>\u001b[0m in \u001b[0;36m<module>\u001b[0;34m()\u001b[0m\n\u001b[1;32m      1\u001b[0m \u001b[0;31m#evaluate the model for testing dataset\u001b[0m\u001b[0;34m\u001b[0m\u001b[0;34m\u001b[0m\u001b[0;34m\u001b[0m\u001b[0m\n\u001b[0;32m----> 2\u001b[0;31m \u001b[0mtest_loss\u001b[0m \u001b[0;34m=\u001b[0m \u001b[0mmodel\u001b[0m\u001b[0;34m.\u001b[0m\u001b[0mevaluate\u001b[0m\u001b[0;34m(\u001b[0m\u001b[0mX_test\u001b[0m\u001b[0;34m,\u001b[0m \u001b[0my_test\u001b[0m\u001b[0;34m,\u001b[0m \u001b[0mverbose\u001b[0m\u001b[0;34m=\u001b[0m\u001b[0;36m0\u001b[0m\u001b[0;34m)\u001b[0m\u001b[0;34m\u001b[0m\u001b[0;34m\u001b[0m\u001b[0m\n\u001b[0m\u001b[1;32m      3\u001b[0m \u001b[0;31m#calculate evaluation parameters\u001b[0m\u001b[0;34m\u001b[0m\u001b[0;34m\u001b[0m\u001b[0;34m\u001b[0m\u001b[0m\n\u001b[1;32m      4\u001b[0m \u001b[0mf1\u001b[0m \u001b[0;34m=\u001b[0m \u001b[0mf1_score\u001b[0m\u001b[0;34m(\u001b[0m\u001b[0my_test\u001b[0m\u001b[0;34m,\u001b[0m \u001b[0mmodel\u001b[0m\u001b[0;34m.\u001b[0m\u001b[0mpredict_classes\u001b[0m\u001b[0;34m(\u001b[0m\u001b[0mX_test\u001b[0m\u001b[0;34m)\u001b[0m\u001b[0;34m,\u001b[0m \u001b[0maverage\u001b[0m\u001b[0;34m=\u001b[0m\u001b[0;34m'micro'\u001b[0m\u001b[0;34m)\u001b[0m\u001b[0;34m\u001b[0m\u001b[0;34m\u001b[0m\u001b[0m\n\u001b[1;32m      5\u001b[0m \u001b[0mroc\u001b[0m \u001b[0;34m=\u001b[0m \u001b[0mroc_auc_score\u001b[0m\u001b[0;34m(\u001b[0m\u001b[0my_test\u001b[0m\u001b[0;34m,\u001b[0m \u001b[0mmodel\u001b[0m\u001b[0;34m.\u001b[0m\u001b[0mpredict_proba\u001b[0m\u001b[0;34m(\u001b[0m\u001b[0mX_test\u001b[0m\u001b[0;34m)\u001b[0m\u001b[0;34m,\u001b[0m \u001b[0mmulti_class\u001b[0m\u001b[0;34m=\u001b[0m\u001b[0;34m'ovo'\u001b[0m\u001b[0;34m)\u001b[0m\u001b[0;34m\u001b[0m\u001b[0;34m\u001b[0m\u001b[0m\n",
      "\u001b[0;31mNameError\u001b[0m: name 'model' is not defined"
     ]
    }
   ],
   "source": [
    "#evaluate the model for testing dataset\n",
    "test_loss = model.evaluate(X_test, y_test, verbose=0)\n",
    "#calculate evaluation parameters\n",
    "f1 = f1_score(y_test, model.predict_classes(X_test), average='micro')\n",
    "roc = roc_auc_score(y_test, model.predict_proba(X_test), multi_class='ovo')\n",
    "#create evaluation dataframe\n",
    "stats = pd.DataFrame({'Test accuracy' :  round(test_loss[1]*100,3),\n",
    "                      'F1 score'      : round(f1,3),\n",
    "                      'ROC AUC score' : round(roc,3),\n",
    "                      'Total Loss'    : round(test_loss[0],3)}, index=[0])\n",
    "#print evaluation dataframe\n",
    "display(stats)"
   ]
  },
  {
   "cell_type": "code",
   "execution_count": null,
   "metadata": {},
   "outputs": [],
   "source": []
  },
  {
   "cell_type": "code",
   "execution_count": 2,
   "metadata": {},
   "outputs": [],
   "source": [
    "#Model 13"
   ]
  },
  {
   "cell_type": "code",
   "execution_count": null,
   "metadata": {},
   "outputs": [],
   "source": []
  },
  {
   "cell_type": "code",
   "execution_count": 14,
   "metadata": {},
   "outputs": [],
   "source": []
  },
  {
   "cell_type": "code",
   "execution_count": 53,
   "metadata": {},
   "outputs": [],
   "source": []
  },
  {
   "cell_type": "code",
   "execution_count": 3,
   "metadata": {},
   "outputs": [
    {
     "name": "stderr",
     "output_type": "stream",
     "text": [
      "Using TensorFlow backend.\n",
      "/home/nishit/.conda/envs/venv/lib/python3.7/site-packages/tensorflow/python/framework/dtypes.py:516: FutureWarning: Passing (type, 1) or '1type' as a synonym of type is deprecated; in a future version of numpy, it will be understood as (type, (1,)) / '(1,)type'.\n",
      "  _np_qint8 = np.dtype([(\"qint8\", np.int8, 1)])\n",
      "/home/nishit/.conda/envs/venv/lib/python3.7/site-packages/tensorflow/python/framework/dtypes.py:517: FutureWarning: Passing (type, 1) or '1type' as a synonym of type is deprecated; in a future version of numpy, it will be understood as (type, (1,)) / '(1,)type'.\n",
      "  _np_quint8 = np.dtype([(\"quint8\", np.uint8, 1)])\n",
      "/home/nishit/.conda/envs/venv/lib/python3.7/site-packages/tensorflow/python/framework/dtypes.py:518: FutureWarning: Passing (type, 1) or '1type' as a synonym of type is deprecated; in a future version of numpy, it will be understood as (type, (1,)) / '(1,)type'.\n",
      "  _np_qint16 = np.dtype([(\"qint16\", np.int16, 1)])\n",
      "/home/nishit/.conda/envs/venv/lib/python3.7/site-packages/tensorflow/python/framework/dtypes.py:519: FutureWarning: Passing (type, 1) or '1type' as a synonym of type is deprecated; in a future version of numpy, it will be understood as (type, (1,)) / '(1,)type'.\n",
      "  _np_quint16 = np.dtype([(\"quint16\", np.uint16, 1)])\n",
      "/home/nishit/.conda/envs/venv/lib/python3.7/site-packages/tensorflow/python/framework/dtypes.py:520: FutureWarning: Passing (type, 1) or '1type' as a synonym of type is deprecated; in a future version of numpy, it will be understood as (type, (1,)) / '(1,)type'.\n",
      "  _np_qint32 = np.dtype([(\"qint32\", np.int32, 1)])\n",
      "/home/nishit/.conda/envs/venv/lib/python3.7/site-packages/tensorflow/python/framework/dtypes.py:525: FutureWarning: Passing (type, 1) or '1type' as a synonym of type is deprecated; in a future version of numpy, it will be understood as (type, (1,)) / '(1,)type'.\n",
      "  np_resource = np.dtype([(\"resource\", np.ubyte, 1)])\n",
      "/home/nishit/.conda/envs/venv/lib/python3.7/site-packages/tensorboard/compat/tensorflow_stub/dtypes.py:541: FutureWarning: Passing (type, 1) or '1type' as a synonym of type is deprecated; in a future version of numpy, it will be understood as (type, (1,)) / '(1,)type'.\n",
      "  _np_qint8 = np.dtype([(\"qint8\", np.int8, 1)])\n",
      "/home/nishit/.conda/envs/venv/lib/python3.7/site-packages/tensorboard/compat/tensorflow_stub/dtypes.py:542: FutureWarning: Passing (type, 1) or '1type' as a synonym of type is deprecated; in a future version of numpy, it will be understood as (type, (1,)) / '(1,)type'.\n",
      "  _np_quint8 = np.dtype([(\"quint8\", np.uint8, 1)])\n",
      "/home/nishit/.conda/envs/venv/lib/python3.7/site-packages/tensorboard/compat/tensorflow_stub/dtypes.py:543: FutureWarning: Passing (type, 1) or '1type' as a synonym of type is deprecated; in a future version of numpy, it will be understood as (type, (1,)) / '(1,)type'.\n",
      "  _np_qint16 = np.dtype([(\"qint16\", np.int16, 1)])\n",
      "/home/nishit/.conda/envs/venv/lib/python3.7/site-packages/tensorboard/compat/tensorflow_stub/dtypes.py:544: FutureWarning: Passing (type, 1) or '1type' as a synonym of type is deprecated; in a future version of numpy, it will be understood as (type, (1,)) / '(1,)type'.\n",
      "  _np_quint16 = np.dtype([(\"quint16\", np.uint16, 1)])\n",
      "/home/nishit/.conda/envs/venv/lib/python3.7/site-packages/tensorboard/compat/tensorflow_stub/dtypes.py:545: FutureWarning: Passing (type, 1) or '1type' as a synonym of type is deprecated; in a future version of numpy, it will be understood as (type, (1,)) / '(1,)type'.\n",
      "  _np_qint32 = np.dtype([(\"qint32\", np.int32, 1)])\n",
      "/home/nishit/.conda/envs/venv/lib/python3.7/site-packages/tensorboard/compat/tensorflow_stub/dtypes.py:550: FutureWarning: Passing (type, 1) or '1type' as a synonym of type is deprecated; in a future version of numpy, it will be understood as (type, (1,)) / '(1,)type'.\n",
      "  np_resource = np.dtype([(\"resource\", np.ubyte, 1)])\n"
     ]
    }
   ],
   "source": [
    "import pandas as pd\n",
    "import numpy as np\n",
    "#data visualization packages\n",
    "import matplotlib.pyplot as plt\n",
    "#keras packages\n",
    "import keras\n",
    "from keras.models import Sequential\n",
    "from keras.layers import Convolution2D\n",
    "from keras.layers import MaxPooling2D\n",
    "from keras.layers import Flatten\n",
    "from keras.layers import Dense\n",
    "from keras.wrappers.scikit_learn import KerasClassifier\n",
    "from keras.layers import Dropout\n",
    "#model evaluation packages\n",
    "from sklearn.metrics import f1_score, roc_auc_score, log_loss\n",
    "from sklearn.model_selection import cross_val_score, cross_validate"
   ]
  },
  {
   "cell_type": "code",
   "execution_count": 4,
   "metadata": {},
   "outputs": [],
   "source": [
    "import pandas as pd\n",
    "mnist_train = pd.read_csv('mnist_train.csv', sep=',')\n",
    "mnist_test = pd.read_csv('mnist_test.csv', sep=',')\n",
    "X_train = mnist_train.drop(labels = [\"label\"],axis = 1) \n",
    "y_train = mnist_train[\"label\"]\n",
    "X_test = mnist_test.drop(labels = [\"label\"],axis = 1) \n",
    "y_test=mnist_test[\"label\"]"
   ]
  },
  {
   "cell_type": "code",
   "execution_count": 5,
   "metadata": {},
   "outputs": [
    {
     "name": "stdout",
     "output_type": "stream",
     "text": [
      "Number of unique classes:  10\n",
      "Classes:  [0 1 2 3 4 5 6 7 8 9]\n"
     ]
    }
   ],
   "source": [
    "\n",
    "#reshape data from 3-D to 2-D array\n",
    "X_train = X_train.values.reshape(60000, 784)\n",
    "X_test = X_test.values.reshape(10000, 784)\n",
    "#feature scaling\n",
    "# from sklearn.preprocessing import MinMaxScaler\n",
    "# minmax = MinMaxScaler()\n",
    "# #fit and transform training dataset\n",
    "# X_train = minmax.fit_transform(X_train)\n",
    "# #transform testing dataset\n",
    "# X_test = minmax.transform(X_test)\n",
    "print('Number of unique classes: ', len(np.unique(y_train)))\n",
    "print('Classes: ', np.unique(y_train))"
   ]
  },
  {
   "cell_type": "code",
   "execution_count": 6,
   "metadata": {},
   "outputs": [
    {
     "data": {
      "image/png": "[encoded data removed]",
      "text/plain": [
       "<Figure size 1080x360 with 10 Axes>"
      ]
     },
     "metadata": {
      "needs_background": "light"
     },
     "output_type": "display_data"
    }
   ],
   "source": [
    "\n",
    "fig, axes = plt.subplots(nrows=2, ncols=5,figsize=(15,5))          \n",
    "ax = axes.ravel()\n",
    "for i in range(10):\n",
    "    ax[i].imshow(X_train[i].reshape(28,28))\n",
    "    ax[i].title.set_text('Class: ' + str(y_train[i]))              \n",
    "plt.subplots_adjust(hspace=0.5)                                    \n",
    "plt.show()"
   ]
  },
  {
   "cell_type": "code",
   "execution_count": 7,
   "metadata": {},
   "outputs": [
    {
     "name": "stdout",
     "output_type": "stream",
     "text": [
      "Model: \"sequential_1\"\n",
      "_________________________________________________________________\n",
      "Layer (type)                 Output Shape              Param #   \n",
      "=================================================================\n",
      "dense_1 (Dense)              (None, 256)               200960    \n",
      "_________________________________________________________________\n",
      "dense_2 (Dense)              (None, 256)               65792     \n",
      "_________________________________________________________________\n",
      "dense_3 (Dense)              (None, 256)               65792     \n",
      "_________________________________________________________________\n",
      "dense_4 (Dense)              (None, 10)                2570      \n",
      "=================================================================\n",
      "Total params: 335,114\n",
      "Trainable params: 335,114\n",
      "Non-trainable params: 0\n",
      "_________________________________________________________________\n"
     ]
    }
   ],
   "source": [
    "model = Sequential()\n",
    "#add 1st hidden layer\n",
    "model.add(Dense(input_dim = X_train.shape[1], units = 256, kernel_initializer='uniform', activation='relu'))\n",
    "#add output layer\n",
    "model.add(Dense(input_dim = X_train.shape[1], units = 256, kernel_initializer='uniform', activation='relu'))\n",
    "model.add(Dense(input_dim = X_train.shape[1], units = 256, kernel_initializer='uniform', activation='relu'))\n",
    "model.add(Dense(units = 10, kernel_initializer='uniform', activation='softmax'))\n",
    "#compile the neural network\n",
    "model.compile(optimizer='adam', loss='sparse_categorical_crossentropy', metrics=['accuracy'])\n",
    "#model summary\n",
    "model.summary()"
   ]
  },
  {
   "cell_type": "code",
   "execution_count": 8,
   "metadata": {},
   "outputs": [
    {
     "name": "stdout",
     "output_type": "stream",
     "text": [
      "WARNING:tensorflow:From /home/nishit/.conda/envs/venv/lib/python3.7/site-packages/keras/backend/tensorflow_backend.py:422: The name tf.global_variables is deprecated. Please use tf.compat.v1.global_variables instead.\n",
      "\n",
      "Train on 54000 samples, validate on 6000 samples\n",
      "Epoch 1/10\n",
      "54000/54000 [==============================] - 10s 176us/step - loss: 0.2570 - accuracy: 0.9248 - val_loss: 0.1326 - val_accuracy: 0.9602\n",
      "Epoch 2/10\n",
      "54000/54000 [==============================] - 9s 160us/step - loss: 0.1514 - accuracy: 0.9569 - val_loss: 0.1336 - val_accuracy: 0.9667\n",
      "Epoch 3/10\n",
      "54000/54000 [==============================] - 12s 215us/step - loss: 0.1260 - accuracy: 0.9646 - val_loss: 0.0987 - val_accuracy: 0.9752\n",
      "Epoch 4/10\n",
      "54000/54000 [==============================] - 9s 162us/step - loss: 0.1057 - accuracy: 0.9716 - val_loss: 0.1193 - val_accuracy: 0.9703\n",
      "Epoch 5/10\n",
      "54000/54000 [==============================] - 9s 167us/step - loss: 0.0951 - accuracy: 0.9746 - val_loss: 0.1338 - val_accuracy: 0.9717\n",
      "Epoch 6/10\n",
      "54000/54000 [==============================] - 9s 171us/step - loss: 0.0835 - accuracy: 0.9773 - val_loss: 0.1535 - val_accuracy: 0.9660\n",
      "Epoch 7/10\n",
      "54000/54000 [==============================] - 11s 197us/step - loss: 0.0820 - accuracy: 0.9783 - val_loss: 0.1221 - val_accuracy: 0.9727\n",
      "Epoch 8/10\n",
      "54000/54000 [==============================] - 11s 204us/step - loss: 0.0693 - accuracy: 0.9814 - val_loss: 0.1459 - val_accuracy: 0.9712\n",
      "Epoch 9/10\n",
      "54000/54000 [==============================] - 10s 194us/step - loss: 0.0724 - accuracy: 0.9821 - val_loss: 0.1138 - val_accuracy: 0.9767\n",
      "Epoch 10/10\n",
      "54000/54000 [==============================] - 9s 175us/step - loss: 0.0559 - accuracy: 0.9854 - val_loss: 0.1096 - val_accuracy: 0.9752\n"
     ]
    }
   ],
   "source": [
    "#fit training dataset into the model\n",
    "model_fit = model.fit(X_train, y_train,validation_split = 0.1,epochs=10, verbose=1)"
   ]
  },
  {
   "cell_type": "code",
   "execution_count": 9,
   "metadata": {},
   "outputs": [
    {
     "name": "stdout",
     "output_type": "stream",
     "text": [
      "dict_keys(['val_loss', 'val_accuracy', 'loss', 'accuracy'])\n"
     ]
    },
    {
     "data": {
      "image/png": "[encoded data removed]",
      "text/plain": [
       "<Figure size 432x288 with 1 Axes>"
      ]
     },
     "metadata": {
      "needs_background": "light"
     },
     "output_type": "display_data"
    }
   ],
   "source": [
    "print(model_fit.history.keys())\n",
    "plt.plot(model_fit.history['accuracy'])\n",
    "plt.plot(model_fit.history['val_accuracy'])\n",
    "plt.title('model accuracy')\n",
    "plt.ylabel('accuracy')\n",
    "plt.xlabel('epoch')\n",
    "plt.legend(['train', 'test'], loc='upper left')\n",
    "plt.show()"
   ]
  },
  {
   "cell_type": "code",
   "execution_count": 11,
   "metadata": {},
   "outputs": [
    {
     "data": {
      "text/html": [
       "<div>\n",
       "<style scoped>\n",
       "    .dataframe tbody tr th:only-of-type {\n",
       "        vertical-align: middle;\n",
       "    }\n",
       "\n",
       "    .dataframe tbody tr th {\n",
       "        vertical-align: top;\n",
       "    }\n",
       "\n",
       "    .dataframe thead th {\n",
       "        text-align: right;\n",
       "    }\n",
       "</style>\n",
       "<table border=\"1\" class=\"dataframe\">\n",
       "  <thead>\n",
       "    <tr style=\"text-align: right;\">\n",
       "      <th></th>\n",
       "      <th>Test accuracy</th>\n",
       "      <th>F1 score</th>\n",
       "      <th>ROC AUC score</th>\n",
       "      <th>Total Loss</th>\n",
       "    </tr>\n",
       "  </thead>\n",
       "  <tbody>\n",
       "    <tr>\n",
       "      <th>0</th>\n",
       "      <td>97.45</td>\n",
       "      <td>0.974</td>\n",
       "      <td>0.999</td>\n",
       "      <td>0.127</td>\n",
       "    </tr>\n",
       "  </tbody>\n",
       "</table>\n",
       "</div>"
      ],
      "text/plain": [
       "   Test accuracy  F1 score  ROC AUC score  Total Loss\n",
       "0          97.45     0.974          0.999       0.127"
      ]
     },
     "metadata": {},
     "output_type": "display_data"
    }
   ],
   "source": [
    "#evaluate the model for testing dataset\n",
    "test_loss = model.evaluate(X_test, y_test, verbose=0)\n",
    "#calculate evaluation parameters\n",
    "f1 = f1_score(y_test, model.predict_classes(X_test), average='micro')\n",
    "roc = roc_auc_score(y_test, model.predict_proba(X_test), multi_class='ovo')\n",
    "#create evaluation dataframe\n",
    "stats = pd.DataFrame({'Test accuracy' :  round(test_loss[1]*100,3),\n",
    "                      'F1 score'      : round(f1,3),\n",
    "                      'ROC AUC score' : round(roc,3),\n",
    "                      'Total Loss'    : round(test_loss[0],3)}, index=[0])\n",
    "#print evaluation dataframe\n",
    "display(stats)"
   ]
  },
  {
   "cell_type": "code",
   "execution_count": null,
   "metadata": {},
   "outputs": [],
   "source": []
  },
  {
   "cell_type": "code",
   "execution_count": 12,
   "metadata": {},
   "outputs": [],
   "source": [
    "#Model 14"
   ]
  },
  {
   "cell_type": "code",
   "execution_count": null,
   "metadata": {},
   "outputs": [],
   "source": []
  },
  {
   "cell_type": "code",
   "execution_count": 15,
   "metadata": {},
   "outputs": [],
   "source": [
    "import pandas as pd\n",
    "import numpy as np\n",
    "#data visualization packages\n",
    "import matplotlib.pyplot as plt\n",
    "#keras packages\n",
    "import keras\n",
    "from keras.models import Sequential\n",
    "from keras.layers import Convolution2D\n",
    "from keras.layers import MaxPooling2D\n",
    "from keras.layers import Flatten\n",
    "from keras.layers import Dense\n",
    "from keras.wrappers.scikit_learn import KerasClassifier\n",
    "from keras.layers import Dropout\n",
    "#model evaluation packages\n",
    "from sklearn.metrics import f1_score, roc_auc_score, log_loss\n",
    "from sklearn.model_selection import cross_val_score, cross_validate"
   ]
  },
  {
   "cell_type": "code",
   "execution_count": 16,
   "metadata": {},
   "outputs": [],
   "source": [
    "import pandas as pd\n",
    "mnist_train = pd.read_csv('mnist_train.csv', sep=',')\n",
    "mnist_test = pd.read_csv('mnist_test.csv', sep=',')\n",
    "X_train = mnist_train.drop(labels = [\"label\"],axis = 1) \n",
    "y_train = mnist_train[\"label\"]\n",
    "X_test = mnist_test.drop(labels = [\"label\"],axis = 1) \n",
    "y_test=mnist_test[\"label\"]"
   ]
  },
  {
   "cell_type": "code",
   "execution_count": 17,
   "metadata": {},
   "outputs": [
    {
     "name": "stdout",
     "output_type": "stream",
     "text": [
      "Number of unique classes:  10\n",
      "Classes:  [0 1 2 3 4 5 6 7 8 9]\n"
     ]
    }
   ],
   "source": [
    "\n",
    "#reshape data from 3-D to 2-D array\n",
    "X_train = X_train.values.reshape(60000, 784)\n",
    "X_test = X_test.values.reshape(10000, 784)\n",
    "#feature scaling\n",
    "# from sklearn.preprocessing import MinMaxScaler\n",
    "# minmax = MinMaxScaler()\n",
    "# #fit and transform training dataset\n",
    "# X_train = minmax.fit_transform(X_train)\n",
    "# #transform testing dataset\n",
    "# X_test = minmax.transform(X_test)\n",
    "print('Number of unique classes: ', len(np.unique(y_train)))\n",
    "print('Classes: ', np.unique(y_train))"
   ]
  },
  {
   "cell_type": "code",
   "execution_count": 18,
   "metadata": {},
   "outputs": [
    {
     "data": {
      "image/png": "[encoded data removed]",
      "text/plain": [
       "<Figure size 1080x360 with 10 Axes>"
      ]
     },
     "metadata": {
      "needs_background": "light"
     },
     "output_type": "display_data"
    }
   ],
   "source": [
    "\n",
    "fig, axes = plt.subplots(nrows=2, ncols=5,figsize=(15,5))          \n",
    "ax = axes.ravel()\n",
    "for i in range(10):\n",
    "    ax[i].imshow(X_train[i].reshape(28,28))\n",
    "    ax[i].title.set_text('Class: ' + str(y_train[i]))              \n",
    "plt.subplots_adjust(hspace=0.5)                                    \n",
    "plt.show()"
   ]
  },
  {
   "cell_type": "code",
   "execution_count": 19,
   "metadata": {},
   "outputs": [
    {
     "name": "stdout",
     "output_type": "stream",
     "text": [
      "Model: \"sequential_2\"\n",
      "_________________________________________________________________\n",
      "Layer (type)                 Output Shape              Param #   \n",
      "=================================================================\n",
      "dense_5 (Dense)              (None, 256)               200960    \n",
      "_________________________________________________________________\n",
      "dense_6 (Dense)              (None, 256)               65792     \n",
      "_________________________________________________________________\n",
      "dense_7 (Dense)              (None, 256)               65792     \n",
      "_________________________________________________________________\n",
      "dense_8 (Dense)              (None, 256)               65792     \n",
      "_________________________________________________________________\n",
      "dense_9 (Dense)              (None, 10)                2570      \n",
      "=================================================================\n",
      "Total params: 400,906\n",
      "Trainable params: 400,906\n",
      "Non-trainable params: 0\n",
      "_________________________________________________________________\n"
     ]
    }
   ],
   "source": [
    "model = Sequential()\n",
    "#add 1st hidden layer\n",
    "model.add(Dense(input_dim = X_train.shape[1], units = 256, kernel_initializer='uniform', activation='relu'))\n",
    "#add output layer\n",
    "model.add(Dense(input_dim = X_train.shape[1], units = 256, kernel_initializer='uniform', activation='relu'))\n",
    "model.add(Dense(input_dim = X_train.shape[1], units = 256, kernel_initializer='uniform', activation='relu'))\n",
    "model.add(Dense(input_dim = X_train.shape[1], units = 256, kernel_initializer='uniform', activation='relu'))\n",
    "model.add(Dense(units = 10, kernel_initializer='uniform', activation='softmax'))\n",
    "#compile the neural network\n",
    "model.compile(optimizer='adam', loss='sparse_categorical_crossentropy', metrics=['accuracy'])\n",
    "#model summary\n",
    "model.summary()"
   ]
  },
  {
   "cell_type": "code",
   "execution_count": 20,
   "metadata": {},
   "outputs": [
    {
     "name": "stdout",
     "output_type": "stream",
     "text": [
      "Train on 54000 samples, validate on 6000 samples\n",
      "Epoch 1/10\n",
      "54000/54000 [==============================] - 13s 241us/step - loss: 0.2591 - accuracy: 0.9259 - val_loss: 0.1368 - val_accuracy: 0.9587\n",
      "Epoch 2/10\n",
      "54000/54000 [==============================] - 13s 246us/step - loss: 0.1483 - accuracy: 0.9605 - val_loss: 0.1152 - val_accuracy: 0.9732\n",
      "Epoch 3/10\n",
      "54000/54000 [==============================] - 13s 240us/step - loss: 0.1159 - accuracy: 0.9685 - val_loss: 0.1472 - val_accuracy: 0.9652\n",
      "Epoch 4/10\n",
      "54000/54000 [==============================] - 13s 245us/step - loss: 0.1014 - accuracy: 0.9742 - val_loss: 0.0806 - val_accuracy: 0.9753\n",
      "Epoch 5/10\n",
      "54000/54000 [==============================] - 14s 255us/step - loss: 0.0889 - accuracy: 0.9770 - val_loss: 0.1288 - val_accuracy: 0.9745\n",
      "Epoch 6/10\n",
      "54000/54000 [==============================] - 14s 256us/step - loss: 0.0844 - accuracy: 0.9792 - val_loss: 0.1678 - val_accuracy: 0.9702\n",
      "Epoch 7/10\n",
      "54000/54000 [==============================] - 13s 240us/step - loss: 0.0756 - accuracy: 0.9803 - val_loss: 0.1010 - val_accuracy: 0.9773\n",
      "Epoch 8/10\n",
      "54000/54000 [==============================] - 13s 243us/step - loss: 0.0651 - accuracy: 0.9834 - val_loss: 0.1016 - val_accuracy: 0.9765\n",
      "Epoch 9/10\n",
      "54000/54000 [==============================] - 14s 251us/step - loss: 0.0635 - accuracy: 0.9837 - val_loss: 0.1095 - val_accuracy: 0.9782\n",
      "Epoch 10/10\n",
      "54000/54000 [==============================] - 13s 240us/step - loss: 0.0585 - accuracy: 0.9857 - val_loss: 0.1050 - val_accuracy: 0.9797\n"
     ]
    }
   ],
   "source": [
    "#fit training dataset into the model\n",
    "model_fit = model.fit(X_train, y_train,validation_split = 0.1,epochs=10, verbose=1)"
   ]
  },
  {
   "cell_type": "code",
   "execution_count": 23,
   "metadata": {},
   "outputs": [
    {
     "name": "stdout",
     "output_type": "stream",
     "text": [
      "dict_keys(['val_loss', 'val_accuracy', 'loss', 'accuracy'])\n"
     ]
    },
    {
     "data": {
      "image/png": "[encoded data removed]",
      "text/plain": [
       "<Figure size 432x288 with 1 Axes>"
      ]
     },
     "metadata": {
      "needs_background": "light"
     },
     "output_type": "display_data"
    }
   ],
   "source": [
    "print(model_fit.history.keys())\n",
    "plt.plot(model_fit.history['accuracy'])\n",
    "plt.plot(model_fit.history['val_accuracy'])\n",
    "plt.title('model accuracy')\n",
    "plt.ylabel('accuracy')\n",
    "plt.xlabel('epoch')\n",
    "plt.legend(['train', 'test'], loc='upper left')\n",
    "plt.show()"
   ]
  },
  {
   "cell_type": "code",
   "execution_count": 24,
   "metadata": {},
   "outputs": [
    {
     "data": {
      "text/html": [
       "<div>\n",
       "<style scoped>\n",
       "    .dataframe tbody tr th:only-of-type {\n",
       "        vertical-align: middle;\n",
       "    }\n",
       "\n",
       "    .dataframe tbody tr th {\n",
       "        vertical-align: top;\n",
       "    }\n",
       "\n",
       "    .dataframe thead th {\n",
       "        text-align: right;\n",
       "    }\n",
       "</style>\n",
       "<table border=\"1\" class=\"dataframe\">\n",
       "  <thead>\n",
       "    <tr style=\"text-align: right;\">\n",
       "      <th></th>\n",
       "      <th>Test accuracy</th>\n",
       "      <th>F1 score</th>\n",
       "      <th>ROC AUC score</th>\n",
       "      <th>Total Loss</th>\n",
       "    </tr>\n",
       "  </thead>\n",
       "  <tbody>\n",
       "    <tr>\n",
       "      <th>0</th>\n",
       "      <td>97.67</td>\n",
       "      <td>0.977</td>\n",
       "      <td>0.999</td>\n",
       "      <td>0.139</td>\n",
       "    </tr>\n",
       "  </tbody>\n",
       "</table>\n",
       "</div>"
      ],
      "text/plain": [
       "   Test accuracy  F1 score  ROC AUC score  Total Loss\n",
       "0          97.67     0.977          0.999       0.139"
      ]
     },
     "metadata": {},
     "output_type": "display_data"
    }
   ],
   "source": [
    "#evaluate the model for testing dataset\n",
    "test_loss = model.evaluate(X_test, y_test, verbose=0)\n",
    "#calculate evaluation parameters\n",
    "f1 = f1_score(y_test, model.predict_classes(X_test), average='micro')\n",
    "roc = roc_auc_score(y_test, model.predict_proba(X_test), multi_class='ovo')\n",
    "#create evaluation dataframe\n",
    "stats = pd.DataFrame({'Test accuracy' :  round(test_loss[1]*100,3),\n",
    "                      'F1 score'      : round(f1,3),\n",
    "                      'ROC AUC score' : round(roc,3),\n",
    "                      'Total Loss'    : round(test_loss[0],3)}, index=[0])\n",
    "#print evaluation dataframe\n",
    "display(stats)"
   ]
  },
  {
   "cell_type": "code",
   "execution_count": null,
   "metadata": {},
   "outputs": [],
   "source": []
  },
  {
   "cell_type": "code",
   "execution_count": 1,
   "metadata": {},
   "outputs": [],
   "source": [
    "#Model 15"
   ]
  },
  {
   "cell_type": "code",
   "execution_count": 13,
   "metadata": {},
   "outputs": [],
   "source": []
  },
  {
   "cell_type": "code",
   "execution_count": 3,
   "metadata": {},
   "outputs": [
    {
     "name": "stderr",
     "output_type": "stream",
     "text": [
      "Using TensorFlow backend.\n",
      "/home/nishit/.conda/envs/venv/lib/python3.7/site-packages/tensorflow/python/framework/dtypes.py:516: FutureWarning: Passing (type, 1) or '1type' as a synonym of type is deprecated; in a future version of numpy, it will be understood as (type, (1,)) / '(1,)type'.\n",
      "  _np_qint8 = np.dtype([(\"qint8\", np.int8, 1)])\n",
      "/home/nishit/.conda/envs/venv/lib/python3.7/site-packages/tensorflow/python/framework/dtypes.py:517: FutureWarning: Passing (type, 1) or '1type' as a synonym of type is deprecated; in a future version of numpy, it will be understood as (type, (1,)) / '(1,)type'.\n",
      "  _np_quint8 = np.dtype([(\"quint8\", np.uint8, 1)])\n",
      "/home/nishit/.conda/envs/venv/lib/python3.7/site-packages/tensorflow/python/framework/dtypes.py:518: FutureWarning: Passing (type, 1) or '1type' as a synonym of type is deprecated; in a future version of numpy, it will be understood as (type, (1,)) / '(1,)type'.\n",
      "  _np_qint16 = np.dtype([(\"qint16\", np.int16, 1)])\n",
      "/home/nishit/.conda/envs/venv/lib/python3.7/site-packages/tensorflow/python/framework/dtypes.py:519: FutureWarning: Passing (type, 1) or '1type' as a synonym of type is deprecated; in a future version of numpy, it will be understood as (type, (1,)) / '(1,)type'.\n",
      "  _np_quint16 = np.dtype([(\"quint16\", np.uint16, 1)])\n",
      "/home/nishit/.conda/envs/venv/lib/python3.7/site-packages/tensorflow/python/framework/dtypes.py:520: FutureWarning: Passing (type, 1) or '1type' as a synonym of type is deprecated; in a future version of numpy, it will be understood as (type, (1,)) / '(1,)type'.\n",
      "  _np_qint32 = np.dtype([(\"qint32\", np.int32, 1)])\n",
      "/home/nishit/.conda/envs/venv/lib/python3.7/site-packages/tensorflow/python/framework/dtypes.py:525: FutureWarning: Passing (type, 1) or '1type' as a synonym of type is deprecated; in a future version of numpy, it will be understood as (type, (1,)) / '(1,)type'.\n",
      "  np_resource = np.dtype([(\"resource\", np.ubyte, 1)])\n",
      "/home/nishit/.conda/envs/venv/lib/python3.7/site-packages/tensorboard/compat/tensorflow_stub/dtypes.py:541: FutureWarning: Passing (type, 1) or '1type' as a synonym of type is deprecated; in a future version of numpy, it will be understood as (type, (1,)) / '(1,)type'.\n",
      "  _np_qint8 = np.dtype([(\"qint8\", np.int8, 1)])\n",
      "/home/nishit/.conda/envs/venv/lib/python3.7/site-packages/tensorboard/compat/tensorflow_stub/dtypes.py:542: FutureWarning: Passing (type, 1) or '1type' as a synonym of type is deprecated; in a future version of numpy, it will be understood as (type, (1,)) / '(1,)type'.\n",
      "  _np_quint8 = np.dtype([(\"quint8\", np.uint8, 1)])\n",
      "/home/nishit/.conda/envs/venv/lib/python3.7/site-packages/tensorboard/compat/tensorflow_stub/dtypes.py:543: FutureWarning: Passing (type, 1) or '1type' as a synonym of type is deprecated; in a future version of numpy, it will be understood as (type, (1,)) / '(1,)type'.\n",
      "  _np_qint16 = np.dtype([(\"qint16\", np.int16, 1)])\n",
      "/home/nishit/.conda/envs/venv/lib/python3.7/site-packages/tensorboard/compat/tensorflow_stub/dtypes.py:544: FutureWarning: Passing (type, 1) or '1type' as a synonym of type is deprecated; in a future version of numpy, it will be understood as (type, (1,)) / '(1,)type'.\n",
      "  _np_quint16 = np.dtype([(\"quint16\", np.uint16, 1)])\n",
      "/home/nishit/.conda/envs/venv/lib/python3.7/site-packages/tensorboard/compat/tensorflow_stub/dtypes.py:545: FutureWarning: Passing (type, 1) or '1type' as a synonym of type is deprecated; in a future version of numpy, it will be understood as (type, (1,)) / '(1,)type'.\n",
      "  _np_qint32 = np.dtype([(\"qint32\", np.int32, 1)])\n",
      "/home/nishit/.conda/envs/venv/lib/python3.7/site-packages/tensorboard/compat/tensorflow_stub/dtypes.py:550: FutureWarning: Passing (type, 1) or '1type' as a synonym of type is deprecated; in a future version of numpy, it will be understood as (type, (1,)) / '(1,)type'.\n",
      "  np_resource = np.dtype([(\"resource\", np.ubyte, 1)])\n"
     ]
    }
   ],
   "source": [
    "import pandas as pd\n",
    "import numpy as np\n",
    "#data visualization packages\n",
    "import matplotlib.pyplot as plt\n",
    "#keras packages\n",
    "import keras\n",
    "from keras.models import Sequential\n",
    "from keras.layers import Convolution2D\n",
    "from keras.layers import Dropout\n",
    "from keras.layers import Flatten\n",
    "from keras.layers import Dense\n",
    "from keras.wrappers.scikit_learn import KerasClassifier\n",
    "from keras.layers import Dropout\n",
    "#model evaluation packages\n",
    "from sklearn.metrics import f1_score, roc_auc_score, log_loss\n",
    "from sklearn.model_selection import cross_val_score, cross_validate"
   ]
  },
  {
   "cell_type": "code",
   "execution_count": 4,
   "metadata": {},
   "outputs": [],
   "source": [
    "import pandas as pd\n",
    "mnist_train = pd.read_csv('mnist_train.csv', sep=',')\n",
    "mnist_test = pd.read_csv('mnist_test.csv', sep=',')\n",
    "X_train = mnist_train.drop(labels = [\"label\"],axis = 1) \n",
    "y_train = mnist_train[\"label\"]\n",
    "X_test = mnist_test.drop(labels = [\"label\"],axis = 1) \n",
    "y_test=mnist_test[\"label\"]"
   ]
  },
  {
   "cell_type": "code",
   "execution_count": 5,
   "metadata": {},
   "outputs": [
    {
     "name": "stdout",
     "output_type": "stream",
     "text": [
      "Number of unique classes:  10\n",
      "Classes:  [0 1 2 3 4 5 6 7 8 9]\n"
     ]
    }
   ],
   "source": [
    "\n",
    "#reshape data from 3-D to 2-D array\n",
    "X_train = X_train.values.reshape(60000, 784)\n",
    "X_test = X_test.values.reshape(10000, 784)\n",
    "#feature scaling\n",
    "from sklearn.preprocessing import MinMaxScaler\n",
    "minmax = MinMaxScaler()\n",
    "#fit and transform training dataset\n",
    "X_train = minmax.fit_transform(X_train)\n",
    "#transform testing dataset\n",
    "X_test = minmax.transform(X_test)\n",
    "print('Number of unique classes: ', len(np.unique(y_train)))\n",
    "print('Classes: ', np.unique(y_train))"
   ]
  },
  {
   "cell_type": "code",
   "execution_count": 6,
   "metadata": {},
   "outputs": [
    {
     "data": {
      "image/png": "[encoded data removed]",
      "text/plain": [
       "<Figure size 1080x360 with 10 Axes>"
      ]
     },
     "metadata": {
      "needs_background": "light"
     },
     "output_type": "display_data"
    }
   ],
   "source": [
    "\n",
    "fig, axes = plt.subplots(nrows=2, ncols=5,figsize=(15,5))          \n",
    "ax = axes.ravel()\n",
    "for i in range(10):\n",
    "    ax[i].imshow(X_train[i].reshape(28,28))\n",
    "    ax[i].title.set_text('Class: ' + str(y_train[i]))              \n",
    "plt.subplots_adjust(hspace=0.5)                                    \n",
    "plt.show()"
   ]
  },
  {
   "cell_type": "code",
   "execution_count": 18,
   "metadata": {},
   "outputs": [
    {
     "name": "stdout",
     "output_type": "stream",
     "text": [
      "Model: \"sequential_4\"\n",
      "_________________________________________________________________\n",
      "Layer (type)                 Output Shape              Param #   \n",
      "=================================================================\n",
      "dense_8 (Dense)              (None, 256)               200960    \n",
      "_________________________________________________________________\n",
      "dropout_3 (Dropout)          (None, 256)               0         \n",
      "_________________________________________________________________\n",
      "dense_9 (Dense)              (None, 128)               32896     \n",
      "_________________________________________________________________\n",
      "dense_10 (Dense)             (None, 10)                1290      \n",
      "=================================================================\n",
      "Total params: 235,146\n",
      "Trainable params: 235,146\n",
      "Non-trainable params: 0\n",
      "_________________________________________________________________\n"
     ]
    }
   ],
   "source": [
    "model = Sequential()\n",
    "#add 1st hidden layer\n",
    "model.add(Dense(input_dim = X_train.shape[1], units = 256, kernel_initializer='uniform', activation='relu'))\n",
    "model.add(Dropout(0.2))\n",
    "#add output layer\n",
    "model.add(Dense(input_dim = X_train.shape[1], units = 128, kernel_initializer='uniform', activation='relu'))\n",
    "model.add(Dense(units = 10, kernel_initializer='uniform', activation='softmax'))\n",
    "#compile the neural network\n",
    "model.compile(optimizer='adam', loss='sparse_categorical_crossentropy', metrics=['accuracy'])\n",
    "#model summary\n",
    "model.summary()"
   ]
  },
  {
   "cell_type": "code",
   "execution_count": 19,
   "metadata": {},
   "outputs": [
    {
     "name": "stdout",
     "output_type": "stream",
     "text": [
      "Train on 54000 samples, validate on 6000 samples\n",
      "Epoch 1/20\n",
      "54000/54000 [==============================] - 10s 188us/step - loss: 0.2910 - accuracy: 0.9128 - val_loss: 0.1118 - val_accuracy: 0.9670\n",
      "Epoch 2/20\n",
      "54000/54000 [==============================] - 10s 190us/step - loss: 0.1219 - accuracy: 0.9630 - val_loss: 0.0950 - val_accuracy: 0.9703\n",
      "Epoch 3/20\n",
      "54000/54000 [==============================] - 10s 189us/step - loss: 0.0918 - accuracy: 0.9713 - val_loss: 0.0723 - val_accuracy: 0.9773\n",
      "Epoch 4/20\n",
      "54000/54000 [==============================] - 10s 188us/step - loss: 0.0722 - accuracy: 0.9772 - val_loss: 0.0846 - val_accuracy: 0.9750\n",
      "Epoch 5/20\n",
      "54000/54000 [==============================] - 10s 190us/step - loss: 0.0605 - accuracy: 0.9810 - val_loss: 0.0727 - val_accuracy: 0.9805\n",
      "Epoch 6/20\n",
      "54000/54000 [==============================] - 10s 185us/step - loss: 0.0530 - accuracy: 0.9830 - val_loss: 0.0700 - val_accuracy: 0.9812\n",
      "Epoch 7/20\n",
      "54000/54000 [==============================] - 10s 177us/step - loss: 0.0438 - accuracy: 0.9857 - val_loss: 0.0700 - val_accuracy: 0.9803\n",
      "Epoch 8/20\n",
      "54000/54000 [==============================] - 10s 178us/step - loss: 0.0407 - accuracy: 0.9866 - val_loss: 0.0726 - val_accuracy: 0.9820\n",
      "Epoch 9/20\n",
      "54000/54000 [==============================] - 9s 175us/step - loss: 0.0371 - accuracy: 0.9877 - val_loss: 0.0689 - val_accuracy: 0.9818\n",
      "Epoch 10/20\n",
      "54000/54000 [==============================] - 9s 174us/step - loss: 0.0339 - accuracy: 0.9893 - val_loss: 0.0681 - val_accuracy: 0.9840\n",
      "Epoch 11/20\n",
      "54000/54000 [==============================] - 9s 174us/step - loss: 0.0340 - accuracy: 0.9891 - val_loss: 0.0721 - val_accuracy: 0.9822\n",
      "Epoch 12/20\n",
      "54000/54000 [==============================] - 9s 173us/step - loss: 0.0302 - accuracy: 0.9900 - val_loss: 0.0739 - val_accuracy: 0.9822\n",
      "Epoch 13/20\n",
      "54000/54000 [==============================] - 9s 171us/step - loss: 0.0253 - accuracy: 0.9915 - val_loss: 0.0782 - val_accuracy: 0.9827\n",
      "Epoch 14/20\n",
      "54000/54000 [==============================] - 10s 180us/step - loss: 0.0263 - accuracy: 0.9910 - val_loss: 0.1021 - val_accuracy: 0.9787\n",
      "Epoch 15/20\n",
      "54000/54000 [==============================] - 10s 177us/step - loss: 0.0265 - accuracy: 0.9911 - val_loss: 0.0793 - val_accuracy: 0.9823\n",
      "Epoch 16/20\n",
      "54000/54000 [==============================] - 9s 175us/step - loss: 0.0246 - accuracy: 0.9923 - val_loss: 0.0834 - val_accuracy: 0.9818\n",
      "Epoch 17/20\n",
      "54000/54000 [==============================] - 10s 176us/step - loss: 0.0243 - accuracy: 0.9913 - val_loss: 0.0730 - val_accuracy: 0.9852\n",
      "Epoch 18/20\n",
      "54000/54000 [==============================] - 10s 177us/step - loss: 0.0201 - accuracy: 0.9931 - val_loss: 0.0778 - val_accuracy: 0.9830\n",
      "Epoch 19/20\n",
      "54000/54000 [==============================] - 9s 174us/step - loss: 0.0194 - accuracy: 0.9938 - val_loss: 0.0894 - val_accuracy: 0.9807\n",
      "Epoch 20/20\n",
      "54000/54000 [==============================] - 10s 178us/step - loss: 0.0199 - accuracy: 0.9934 - val_loss: 0.0784 - val_accuracy: 0.9830\n"
     ]
    }
   ],
   "source": [
    "#fit training dataset into the model\n",
    "model_fit = model.fit(X_train, y_train,validation_split = 0.1,epochs=20, verbose=1)"
   ]
  },
  {
   "cell_type": "code",
   "execution_count": 20,
   "metadata": {},
   "outputs": [
    {
     "name": "stdout",
     "output_type": "stream",
     "text": [
      "dict_keys(['val_loss', 'val_accuracy', 'loss', 'accuracy'])\n"
     ]
    },
    {
     "data": {
      "image/png": "[encoded data removed]",
      "text/plain": [
       "<Figure size 432x288 with 1 Axes>"
      ]
     },
     "metadata": {
      "needs_background": "light"
     },
     "output_type": "display_data"
    }
   ],
   "source": [
    "print(model_fit.history.keys())\n",
    "plt.plot(model_fit.history['accuracy'])\n",
    "plt.plot(model_fit.history['val_accuracy'])\n",
    "plt.title('model accuracy')\n",
    "plt.ylabel('accuracy')\n",
    "plt.xlabel('epoch')\n",
    "plt.legend(['train', 'test'], loc='upper left')\n",
    "plt.show()"
   ]
  },
  {
   "cell_type": "code",
   "execution_count": 21,
   "metadata": {},
   "outputs": [
    {
     "data": {
      "text/html": [
       "<div>\n",
       "<style scoped>\n",
       "    .dataframe tbody tr th:only-of-type {\n",
       "        vertical-align: middle;\n",
       "    }\n",
       "\n",
       "    .dataframe tbody tr th {\n",
       "        vertical-align: top;\n",
       "    }\n",
       "\n",
       "    .dataframe thead th {\n",
       "        text-align: right;\n",
       "    }\n",
       "</style>\n",
       "<table border=\"1\" class=\"dataframe\">\n",
       "  <thead>\n",
       "    <tr style=\"text-align: right;\">\n",
       "      <th></th>\n",
       "      <th>Test accuracy</th>\n",
       "      <th>F1 score</th>\n",
       "      <th>ROC AUC score</th>\n",
       "      <th>Total Loss</th>\n",
       "    </tr>\n",
       "  </thead>\n",
       "  <tbody>\n",
       "    <tr>\n",
       "      <th>0</th>\n",
       "      <td>98.31</td>\n",
       "      <td>0.983</td>\n",
       "      <td>1.0</td>\n",
       "      <td>0.077</td>\n",
       "    </tr>\n",
       "  </tbody>\n",
       "</table>\n",
       "</div>"
      ],
      "text/plain": [
       "   Test accuracy  F1 score  ROC AUC score  Total Loss\n",
       "0          98.31     0.983            1.0       0.077"
      ]
     },
     "metadata": {},
     "output_type": "display_data"
    }
   ],
   "source": [
    "#evaluate the model for testing dataset\n",
    "test_loss = model.evaluate(X_test, y_test, verbose=0)\n",
    "#calculate evaluation parameters\n",
    "f1 = f1_score(y_test, model.predict_classes(X_test), average='micro')\n",
    "roc = roc_auc_score(y_test, model.predict_proba(X_test), multi_class='ovo')\n",
    "#create evaluation dataframe\n",
    "stats = pd.DataFrame({'Test accuracy' :  round(test_loss[1]*100,3),\n",
    "                      'F1 score'      : round(f1,3),\n",
    "                      'ROC AUC score' : round(roc,3),\n",
    "                      'Total Loss'    : round(test_loss[0],3)}, index=[0])\n",
    "#print evaluation dataframe\n",
    "display(stats)"
   ]
  },
  {
   "cell_type": "code",
   "execution_count": null,
   "metadata": {},
   "outputs": [],
   "source": []
  }
 ],
 "metadata": {
  "kernelspec": {
   "display_name": "Python 3",
   "language": "python",
   "name": "python3"
  },
  "language_info": {
   "codemirror_mode": {
    "name": "ipython",
    "version": 3
   },
   "file_extension": ".py",
   "mimetype": "text/x-python",
   "name": "python",
   "nbconvert_exporter": "python",
   "pygments_lexer": "ipython3",
   "version": "3.7.8"
  }
 },
 "nbformat": 4,
 "nbformat_minor": 4
}

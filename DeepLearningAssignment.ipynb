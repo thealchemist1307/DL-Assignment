{
 "cells": [
  {
   "cell_type": "code",
   "execution_count": null,
   "metadata": {},
   "outputs": [],
   "source": [
    "#Learning Based Models"
   ]
  },
  {
   "cell_type": "code",
   "execution_count": 1,
   "metadata": {},
   "outputs": [],
   "source": [
    "#Model 1 (SVM)"
   ]
  },
  {
   "cell_type": "code",
   "execution_count": 9,
   "metadata": {},
   "outputs": [],
   "source": [
    "import pandas as pd\n",
    "from sklearn.model_selection import train_test_split\n",
    "from sklearn.svm import SVC\n",
    "from sklearn.metrics import confusion_matrix\n",
    "from sklearn.preprocessing import scale\n",
    "import matplotlib.pyplot as plt"
   ]
  },
  {
   "cell_type": "code",
   "execution_count": 10,
   "metadata": {},
   "outputs": [],
   "source": [
    "train_data = pd.read_csv('mnist_train.csv')\n",
    "test_data = pd.read_csv('mnist_test.csv')\n",
    "train_data.isnull().sum().head(10)\n",
    "round(train_data.drop('label', axis=1).mean(), 2)\n",
    "y = train_data['label']\n",
    "X = train_data.drop(columns = 'label')\n",
    "X = X/255.0\n",
    "test_data = test_data/255.0\n",
    "X_scaled = scale(X)\n",
    "\n",
    "X_train, X_test, y_train, y_test = train_test_split(X_scaled, y, test_size = 0.3, train_size = 0.2 ,random_state = 10)"
   ]
  },
  {
   "cell_type": "code",
   "execution_count": 11,
   "metadata": {},
   "outputs": [
    {
     "data": {
      "text/plain": [
       "0.9010555555555556"
      ]
     },
     "execution_count": 11,
     "metadata": {},
     "output_type": "execute_result"
    }
   ],
   "source": [
    "svc = SVC(kernel='sigmoid')\n",
    "svc.fit(X_train, y_train)\n",
    "y_pred = svc.predict(X_test)\n",
    "svc.score(X_test, y_test)"
   ]
  },
  {
   "cell_type": "code",
   "execution_count": 13,
   "metadata": {},
   "outputs": [
    {
     "name": "stdout",
     "output_type": "stream",
     "text": [
      "accuracy: 0.9010555555555556 \n",
      "\n",
      "[[1695    0   19    4    4   26    9    1   12    2]\n",
      " [   1 1940   15    8    3    8    0    2   11    4]\n",
      " [  23   19 1593   26   26    6   84   12   34    8]\n",
      " [   8    4   56 1603    5   86    6   26   30   10]\n",
      " [   4    7   33    2 1623    6   13   10    3   71]\n",
      " [  16   21   22   62   15 1424   29    4   36   23]\n",
      " [  19   11   41    0   20   26 1633    0    7    0]\n",
      " [   7   20   25   25   22    2    4 1749    5  105]\n",
      " [  20   49   43   38    8   57   14    8 1473   14]\n",
      " [   7    8   23   23   71    9    0   64   11 1486]]\n"
     ]
    }
   ],
   "source": [
    "from sklearn import metrics\n",
    "print(\"accuracy:\", metrics.accuracy_score(y_true=y_test, y_pred=y_pred), \"\\n\")\n",
    "print(metrics.confusion_matrix(y_true=y_test, y_pred=y_pred))"
   ]
  },
  {
   "cell_type": "code",
   "execution_count": null,
   "metadata": {},
   "outputs": [],
   "source": [
    "#Model 2 (Logistic Regression)"
   ]
  },
  {
   "cell_type": "code",
   "execution_count": 14,
   "metadata": {},
   "outputs": [],
   "source": [
    "import pandas as pd\n",
    "from sklearn.model_selection import train_test_split\n",
    "from sklearn.linear_model import LogisticRegression\n",
    "from sklearn import metrics\n",
    "from sklearn.metrics import confusion_matrix\n",
    "from sklearn.preprocessing import scale\n",
    "import matplotlib.pyplot as plt"
   ]
  },
  {
   "cell_type": "code",
   "execution_count": 15,
   "metadata": {},
   "outputs": [],
   "source": [
    "train_data = pd.read_csv('mnist_train.csv')\n",
    "test_data = pd.read_csv('mnist_test.csv')\n",
    "train_data.isnull().sum().head(10)\n",
    "round(train_data.drop('label', axis=1).mean(), 2)\n",
    "y = train_data['label']\n",
    "\n",
    "\n",
    "X = train_data.drop(columns = 'label')\n",
    "X = X/255.0\n",
    "test_data = test_data/255.0\n",
    "\n",
    "\n",
    "X_scaled = scale(X)\n",
    "\n",
    "X_train, X_test, y_train, y_test = train_test_split(X_scaled, y, test_size = 0.3, train_size = 0.2 ,random_state = 10)"
   ]
  },
  {
   "cell_type": "code",
   "execution_count": 16,
   "metadata": {},
   "outputs": [
    {
     "data": {
      "text/plain": [
       "0.8820555555555556"
      ]
     },
     "execution_count": 16,
     "metadata": {},
     "output_type": "execute_result"
    }
   ],
   "source": [
    "lr = LogisticRegression(tol = 1,max_iter=5000)\n",
    "lr.fit(X_train, y_train)\n",
    "y_pred = lr.predict(X_test)\n",
    "lr.score(X_test, y_test)"
   ]
  },
  {
   "cell_type": "code",
   "execution_count": 17,
   "metadata": {},
   "outputs": [
    {
     "name": "stdout",
     "output_type": "stream",
     "text": [
      "accuracy: 0.8820555555555556 \n",
      "\n",
      "[[1647    0    8   12    6   39   28    9   19    4]\n",
      " [   2 1911   16    7    3   18    3    7   23    2]\n",
      " [  13   38 1582   44   22   15   46   27   37    7]\n",
      " [  10   11   54 1550    5   90   14   31   52   17]\n",
      " [   4   12   28    5 1557    8   37   20   23   78]\n",
      " [  29    6   25   76   16 1364   41   16   60   19]\n",
      " [  16    8   39    5   19   23 1629    4   13    1]\n",
      " [   9   16   15   24   22    3    2 1761   10  102]\n",
      " [  24   33   68   66   12   70   24    9 1403   15]\n",
      " [   4   11    7   26   61   19    3   68   30 1473]]\n"
     ]
    }
   ],
   "source": [
    "print(\"accuracy:\", metrics.accuracy_score(y_true=y_test, y_pred=y_pred), \"\\n\")\n",
    "print(metrics.confusion_matrix(y_true=y_test, y_pred=y_pred))"
   ]
  },
  {
   "cell_type": "code",
   "execution_count": 50,
   "metadata": {},
   "outputs": [],
   "source": [
    "#Model 3 (Random Classifier)"
   ]
  },
  {
   "cell_type": "code",
   "execution_count": 22,
   "metadata": {},
   "outputs": [
    {
     "name": "stdout",
     "output_type": "stream",
     "text": [
      "accuracy: 0.9139444444444444 \n",
      "\n",
      "[[1721    0    7    8    5    6   12    1    9    3]\n",
      " [   0 1940   18    4    4    4    3    8    8    3]\n",
      " [  13   12 1696   17   22    6   13   19   25    8]\n",
      " [  10    7   52 1624    9   51    7   19   37   18]\n",
      " [   6    6   13    3 1642    5   19    7    7   64]\n",
      " [  28   13   14   88   25 1406   18    5   34   21]\n",
      " [  16   13   23    1   18   13 1654    1   18    0]\n",
      " [   6   15   40   13   31    1    2 1800   12   44]\n",
      " [  17   30   56   55   19   39   19    8 1458   23]\n",
      " [   7    6   14   27   68   20    4   25   21 1510]]\n"
     ]
    }
   ],
   "source": [
    "import pandas as pd\n",
    "import numpy as np\n",
    "%matplotlib notebook\n",
    "import matplotlib.pyplot as plt\n",
    "from sklearn.model_selection import train_test_split\n",
    "from sklearn.metrics import confusion_matrix\n",
    "from sklearn.preprocessing import scale\n",
    "\n",
    "train_data = pd.read_csv('mnist_train.csv')\n",
    "test_data = pd.read_csv('mnist_test.csv')\n",
    "train_data.isnull().sum().head(10)\n",
    "round(train_data.drop('label', axis=1).mean(), 2)\n",
    "y = train_data['label']\n",
    "X = train_data.drop(columns = 'label')\n",
    "X = X/255.0\n",
    "test_data = test_data/255.0\n",
    "\n",
    "from sklearn.preprocessing import scale\n",
    "X_scaled = scale(X)\n",
    "\n",
    "X_train, X_test, y_train, y_test = train_test_split(X_scaled, y, test_size = 0.3, train_size = 0.2 ,random_state = 10)\n",
    "\n",
    "\n",
    "from sklearn.ensemble import RandomForestClassifier\n",
    "\n",
    "rfc = RandomForestClassifier(n_jobs=-1, n_estimators=10)\n",
    "\n",
    "rfc.fit(X_train, y_train)\n",
    "y_pred = rfc.predict(X_test)\n",
    "rfc.score(X_test, y_test)\n",
    "\n",
    "print(\"accuracy:\", metrics.accuracy_score(y_true=y_test, y_pred=y_pred), \"\\n\")\n",
    "print(metrics.confusion_matrix(y_true=y_test, y_pred=y_pred))"
   ]
  },
  {
   "cell_type": "code",
   "execution_count": 19,
   "metadata": {},
   "outputs": [],
   "source": [
    "# Model 4 (Decision Tree)"
   ]
  },
  {
   "cell_type": "code",
   "execution_count": 23,
   "metadata": {},
   "outputs": [],
   "source": [
    "import pandas as pd\n",
    "import numpy as np\n",
    "%matplotlib notebook\n",
    "import matplotlib.pyplot as plt\n",
    "from sklearn.model_selection import train_test_split\n",
    "from sklearn.metrics import confusion_matrix\n",
    "from sklearn.preprocessing import scale\n",
    "\n",
    "train_data = pd.read_csv('mnist_train.csv')\n",
    "test_data = pd.read_csv('mnist_test.csv')\n",
    "train_data.isnull().sum().head(10)\n",
    "round(train_data.drop('label', axis=1).mean(), 2)\n",
    "y = train_data['label']\n",
    "X = train_data.drop(columns = 'label')\n",
    "X = X/255.0\n",
    "test_data = test_data/255.0\n",
    "\n",
    "from sklearn.preprocessing import scale\n",
    "X_scaled = scale(X)\n",
    "\n",
    "\n",
    "X_train, X_test, y_train, y_test = train_test_split(X_scaled, y, test_size = 0.3, train_size = 0.2 ,random_state = 10)\n",
    "\n",
    "from sklearn.tree import DecisionTreeClassifier\n",
    "\n",
    "dtc = DecisionTreeClassifier(random_state=0)\n",
    "\n",
    "dtc.fit(X_train, y_train)\n",
    "y_pred = dtc.predict(X_test)\n",
    "dtc.score(X_test, y_test)\n",
    "print(\"accuracy:\", metrics.accuracy_score(y_true=y_test, y_pred=y_pred), \"\\n\")\n",
    "print(metrics.confusion_matrix(y_true=y_test, y_pred=y_pred))"
   ]
  },
  {
   "cell_type": "code",
   "execution_count": null,
   "metadata": {},
   "outputs": [],
   "source": []
  },
  {
   "cell_type": "code",
   "execution_count": 2,
   "metadata": {},
   "outputs": [],
   "source": [
    "#Deep Learning Models"
   ]
  },
  {
   "cell_type": "code",
   "execution_count": 62,
   "metadata": {},
   "outputs": [],
   "source": [
    "#Model 1"
   ]
  },
  {
   "cell_type": "code",
   "execution_count": null,
   "metadata": {},
   "outputs": [],
   "source": []
  },
  {
   "cell_type": "code",
   "execution_count": 49,
   "metadata": {},
   "outputs": [],
   "source": [
    "import pandas as pd\n",
    "import numpy as np\n",
    "import matplotlib.pyplot as plt\n",
    "import keras\n",
    "from keras.models import Sequential\n",
    "from keras.layers import Dense\n",
    "from keras.wrappers.scikit_learn import KerasClassifier\n",
    "from keras.layers import Dropout\n",
    "from sklearn.metrics import f1_score, roc_auc_score, log_loss"
   ]
  },
  {
   "cell_type": "code",
   "execution_count": 50,
   "metadata": {},
   "outputs": [],
   "source": [
    "import pandas as pd\n",
    "mnist_train = pd.read_csv('mnist_train.csv', sep=',')\n",
    "mnist_test = pd.read_csv('mnist_test.csv', sep=',')\n",
    "X_train = mnist_train.drop(labels = [\"label\"],axis = 1) \n",
    "y_train = mnist_train[\"label\"]\n",
    "X_test = mnist_test.drop(labels = [\"label\"],axis = 1) \n",
    "y_test=mnist_test[\"label\"]"
   ]
  },
  {
   "cell_type": "code",
   "execution_count": 51,
   "metadata": {},
   "outputs": [
    {
     "name": "stdout",
     "output_type": "stream",
     "text": [
      "Number of unique classes:  10\n",
      "Classes:  [0 1 2 3 4 5 6 7 8 9]\n"
     ]
    }
   ],
   "source": [
    "X_train = X_train.values.reshape(60000, 784)\n",
    "X_test = X_test.values.reshape(10000, 784)"
   ]
  },
  {
   "cell_type": "code",
   "execution_count": 53,
   "metadata": {},
   "outputs": [
    {
     "name": "stdout",
     "output_type": "stream",
     "text": [
      "Model: \"sequential_7\"\n",
      "_________________________________________________________________\n",
      "Layer (type)                 Output Shape              Param #   \n",
      "=================================================================\n",
      "dense_19 (Dense)             (None, 128)               100480    \n",
      "_________________________________________________________________\n",
      "dense_20 (Dense)             (None, 10)                1290      \n",
      "=================================================================\n",
      "Total params: 101,770\n",
      "Trainable params: 101,770\n",
      "Non-trainable params: 0\n",
      "_________________________________________________________________\n"
     ]
    }
   ],
   "source": [
    "model = Sequential()\n",
    "model.add(Dense(input_dim = X_train.shape[1], units = 128, kernel_initializer='uniform', activation='relu'))\n",
    "model.add(Dense(units = 10, kernel_initializer='uniform', activation='softmax'))\n",
    "model.compile(optimizer='adam', loss='sparse_categorical_crossentropy', metrics=['accuracy'])\n",
    "model.summary()"
   ]
  },
  {
   "cell_type": "code",
   "execution_count": 55,
   "metadata": {},
   "outputs": [
    {
     "name": "stdout",
     "output_type": "stream",
     "text": [
      "Train on 54000 samples, validate on 6000 samples\n",
      "Epoch 1/5\n",
      "54000/54000 [==============================] - 7s 126us/step - loss: 0.2208 - accuracy: 0.9437 - val_loss: 0.1863 - val_accuracy: 0.9557\n",
      "Epoch 2/5\n",
      "54000/54000 [==============================] - 7s 133us/step - loss: 0.2142 - accuracy: 0.9483 - val_loss: 0.1885 - val_accuracy: 0.9585\n",
      "Epoch 3/5\n",
      "54000/54000 [==============================] - 7s 123us/step - loss: 0.1997 - accuracy: 0.9526 - val_loss: 0.1795 - val_accuracy: 0.9575\n",
      "Epoch 4/5\n",
      "54000/54000 [==============================] - 6s 120us/step - loss: 0.1968 - accuracy: 0.9534 - val_loss: 0.1933 - val_accuracy: 0.9610\n",
      "Epoch 5/5\n",
      "54000/54000 [==============================] - 6s 117us/step - loss: 0.1906 - accuracy: 0.9561 - val_loss: 0.1799 - val_accuracy: 0.9570\n"
     ]
    }
   ],
   "source": [
    "model_fit = model.fit(X_train, y_train,validation_split = 0.1,epochs=5, verbose=1)"
   ]
  },
  {
   "cell_type": "code",
   "execution_count": 56,
   "metadata": {},
   "outputs": [
    {
     "name": "stdout",
     "output_type": "stream",
     "text": [
      "dict_keys(['val_loss', 'val_accuracy', 'loss', 'accuracy'])\n"
     ]
    },
    {
     "data": {
      "image/png": "[encoded data removed]",
      "text/plain": [
       "<Figure size 432x288 with 1 Axes>"
      ]
     },
     "metadata": {
      "needs_background": "light"
     },
     "output_type": "display_data"
    }
   ],
   "source": [
    "print(model_fit.history.keys())\n",
    "plt.plot(model_fit.history['accuracy'])\n",
    "plt.plot(model_fit.history['val_accuracy'])\n",
    "plt.title('model accuracy')\n",
    "plt.ylabel('accuracy')\n",
    "plt.xlabel('epoch')\n",
    "plt.legend(['train', 'test'], loc='upper left')\n",
    "plt.show()"
   ]
  },
  {
   "cell_type": "code",
   "execution_count": 57,
   "metadata": {},
   "outputs": [
    {
     "data": {
      "text/html": [
       "<div>\n",
       "<style scoped>\n",
       "    .dataframe tbody tr th:only-of-type {\n",
       "        vertical-align: middle;\n",
       "    }\n",
       "\n",
       "    .dataframe tbody tr th {\n",
       "        vertical-align: top;\n",
       "    }\n",
       "\n",
       "    .dataframe thead th {\n",
       "        text-align: right;\n",
       "    }\n",
       "</style>\n",
       "<table border=\"1\" class=\"dataframe\">\n",
       "  <thead>\n",
       "    <tr style=\"text-align: right;\">\n",
       "      <th></th>\n",
       "      <th>Test accuracy</th>\n",
       "      <th>F1 score</th>\n",
       "      <th>ROC AUC score</th>\n",
       "      <th>Total Loss</th>\n",
       "    </tr>\n",
       "  </thead>\n",
       "  <tbody>\n",
       "    <tr>\n",
       "      <th>0</th>\n",
       "      <td>94.91</td>\n",
       "      <td>0.949</td>\n",
       "      <td>0.997</td>\n",
       "      <td>0.235</td>\n",
       "    </tr>\n",
       "  </tbody>\n",
       "</table>\n",
       "</div>"
      ],
      "text/plain": [
       "   Test accuracy  F1 score  ROC AUC score  Total Loss\n",
       "0          94.91     0.949          0.997       0.235"
      ]
     },
     "metadata": {},
     "output_type": "display_data"
    }
   ],
   "source": [
    "test_loss = model.evaluate(X_test, y_test, verbose=0)\n",
    "f1 = f1_score(y_test, model.predict_classes(X_test), average='micro')\n",
    "roc = roc_auc_score(y_test, model.predict_proba(X_test), multi_class='ovo')\n",
    "stats = pd.DataFrame({'Test accuracy' :  round(test_loss[1]*100,3),\n",
    "                      'F1 score'      : round(f1,3),\n",
    "                      'ROC AUC score' : round(roc,3),\n",
    "                      'Total Loss'    : round(test_loss[0],3)}, index=[0])\n",
    "display(stats)"
   ]
  },
  {
   "cell_type": "code",
   "execution_count": 64,
   "metadata": {},
   "outputs": [],
   "source": []
  },
  {
   "cell_type": "code",
   "execution_count": null,
   "metadata": {},
   "outputs": [],
   "source": [
    "#Model 2"
   ]
  },
  {
   "cell_type": "code",
   "execution_count": null,
   "metadata": {},
   "outputs": [],
   "source": []
  },
  {
   "cell_type": "code",
   "execution_count": 58,
   "metadata": {},
   "outputs": [],
   "source": [
    "import pandas as pd\n",
    "import numpy as np\n",
    "import matplotlib.pyplot as plt\n",
    "import keras\n",
    "from keras.models import Sequential\n",
    "from keras.layers import Dense\n",
    "from keras.layers import Dropout\n",
    "from sklearn.metrics import f1_score, roc_auc_score, log_loss\n"
   ]
  },
  {
   "cell_type": "code",
   "execution_count": 59,
   "metadata": {},
   "outputs": [],
   "source": [
    "import pandas as pd\n",
    "mnist_train = pd.read_csv('mnist_train.csv', sep=',')\n",
    "mnist_test = pd.read_csv('mnist_test.csv', sep=',')\n",
    "X_train = mnist_train.drop(labels = [\"label\"],axis = 1) \n",
    "y_train = mnist_train[\"label\"]\n",
    "X_test = mnist_test.drop(labels = [\"label\"],axis = 1) \n",
    "y_test=mnist_test[\"label\"]"
   ]
  },
  {
   "cell_type": "code",
   "execution_count": 60,
   "metadata": {},
   "outputs": [
    {
     "name": "stdout",
     "output_type": "stream",
     "text": [
      "Number of unique classes:  10\n",
      "Classes:  [0 1 2 3 4 5 6 7 8 9]\n"
     ]
    }
   ],
   "source": [
    "X_train = X_train.values.reshape(60000, 784)\n",
    "X_test = X_test.values.reshape(10000, 784)"
   ]
  },
  {
   "cell_type": "code",
   "execution_count": 62,
   "metadata": {},
   "outputs": [
    {
     "name": "stdout",
     "output_type": "stream",
     "text": [
      "Model: \"sequential_8\"\n",
      "_________________________________________________________________\n",
      "Layer (type)                 Output Shape              Param #   \n",
      "=================================================================\n",
      "dense_21 (Dense)             (None, 128)               100480    \n",
      "_________________________________________________________________\n",
      "dense_22 (Dense)             (None, 10)                1290      \n",
      "=================================================================\n",
      "Total params: 101,770\n",
      "Trainable params: 101,770\n",
      "Non-trainable params: 0\n",
      "_________________________________________________________________\n"
     ]
    }
   ],
   "source": [
    "model = Sequential()\n",
    "model.add(Dense(input_dim = X_train.shape[1], units = 128, kernel_initializer='uniform', activation='sigmoid'))\n",
    "model.add(Dense(units = 10, kernel_initializer='uniform', activation='softmax'))\n",
    "model.compile(optimizer='adam', loss='sparse_categorical_crossentropy', metrics=['accuracy'])\n",
    "model.summary()"
   ]
  },
  {
   "cell_type": "code",
   "execution_count": 63,
   "metadata": {},
   "outputs": [
    {
     "name": "stdout",
     "output_type": "stream",
     "text": [
      "Train on 54000 samples, validate on 6000 samples\n",
      "Epoch 1/5\n",
      "54000/54000 [==============================] - 7s 121us/step - loss: 0.5640 - accuracy: 0.8576 - val_loss: 0.3275 - val_accuracy: 0.9148\n",
      "Epoch 2/5\n",
      "54000/54000 [==============================] - 5s 85us/step - loss: 0.3488 - accuracy: 0.8999 - val_loss: 0.2822 - val_accuracy: 0.9238\n",
      "Epoch 3/5\n",
      "54000/54000 [==============================] - 4s 77us/step - loss: 0.3194 - accuracy: 0.9051 - val_loss: 0.2567 - val_accuracy: 0.9243\n",
      "Epoch 4/5\n",
      "54000/54000 [==============================] - 6s 114us/step - loss: 0.3030 - accuracy: 0.9096 - val_loss: 0.2465 - val_accuracy: 0.9338\n",
      "Epoch 5/5\n",
      "54000/54000 [==============================] - 6s 104us/step - loss: 0.2932 - accuracy: 0.9130 - val_loss: 0.2436 - val_accuracy: 0.9300\n"
     ]
    }
   ],
   "source": [
    "model_fit = model.fit(X_train, y_train,validation_split = 0.1,epochs=5, verbose=1)"
   ]
  },
  {
   "cell_type": "code",
   "execution_count": 64,
   "metadata": {},
   "outputs": [
    {
     "name": "stdout",
     "output_type": "stream",
     "text": [
      "dict_keys(['val_loss', 'val_accuracy', 'loss', 'accuracy'])\n"
     ]
    },
    {
     "data": {
      "image/png": "[encoded data removed]",
      "text/plain": [
       "<Figure size 432x288 with 1 Axes>"
      ]
     },
     "metadata": {
      "needs_background": "light"
     },
     "output_type": "display_data"
    }
   ],
   "source": [
    "print(model_fit.history.keys())\n",
    "plt.plot(model_fit.history['accuracy'])\n",
    "plt.plot(model_fit.history['val_accuracy'])\n",
    "plt.title('model accuracy')\n",
    "plt.ylabel('accuracy')\n",
    "plt.xlabel('epoch')\n",
    "plt.legend(['train', 'test'], loc='upper left')\n",
    "plt.show()"
   ]
  },
  {
   "cell_type": "code",
   "execution_count": 65,
   "metadata": {},
   "outputs": [
    {
     "data": {
      "text/html": [
       "<div>\n",
       "<style scoped>\n",
       "    .dataframe tbody tr th:only-of-type {\n",
       "        vertical-align: middle;\n",
       "    }\n",
       "\n",
       "    .dataframe tbody tr th {\n",
       "        vertical-align: top;\n",
       "    }\n",
       "\n",
       "    .dataframe thead th {\n",
       "        text-align: right;\n",
       "    }\n",
       "</style>\n",
       "<table border=\"1\" class=\"dataframe\">\n",
       "  <thead>\n",
       "    <tr style=\"text-align: right;\">\n",
       "      <th></th>\n",
       "      <th>Test accuracy</th>\n",
       "      <th>F1 score</th>\n",
       "      <th>ROC AUC score</th>\n",
       "      <th>Total Loss</th>\n",
       "    </tr>\n",
       "  </thead>\n",
       "  <tbody>\n",
       "    <tr>\n",
       "      <th>0</th>\n",
       "      <td>91.73</td>\n",
       "      <td>0.917</td>\n",
       "      <td>0.994</td>\n",
       "      <td>0.285</td>\n",
       "    </tr>\n",
       "  </tbody>\n",
       "</table>\n",
       "</div>"
      ],
      "text/plain": [
       "   Test accuracy  F1 score  ROC AUC score  Total Loss\n",
       "0          91.73     0.917          0.994       0.285"
      ]
     },
     "metadata": {},
     "output_type": "display_data"
    }
   ],
   "source": [
    "test_loss = model.evaluate(X_test, y_test, verbose=0)\n",
    "f1 = f1_score(y_test, model.predict_classes(X_test), average='micro')\n",
    "roc = roc_auc_score(y_test, model.predict_proba(X_test), multi_class='ovo')\n",
    "stats = pd.DataFrame({'Test accuracy' :  round(test_loss[1]*100,3),\n",
    "                      'F1 score'      : round(f1,3),\n",
    "                      'ROC AUC score' : round(roc,3),\n",
    "                      'Total Loss'    : round(test_loss[0],3)}, index=[0])\n",
    "display(stats)"
   ]
  },
  {
   "cell_type": "code",
   "execution_count": null,
   "metadata": {},
   "outputs": [],
   "source": []
  },
  {
   "cell_type": "code",
   "execution_count": 1,
   "metadata": {},
   "outputs": [],
   "source": [
    "#Model 3"
   ]
  },
  {
   "cell_type": "code",
   "execution_count": null,
   "metadata": {},
   "outputs": [],
   "source": []
  },
  {
   "cell_type": "code",
   "execution_count": 2,
   "metadata": {},
   "outputs": [
    {
     "name": "stderr",
     "output_type": "stream",
     "text": [
      "Using TensorFlow backend.\n",
      "/home/nishit/.conda/envs/venv/lib/python3.7/site-packages/tensorflow/python/framework/dtypes.py:516: FutureWarning: Passing (type, 1) or '1type' as a synonym of type is deprecated; in a future version of numpy, it will be understood as (type, (1,)) / '(1,)type'.\n",
      "  _np_qint8 = np.dtype([(\"qint8\", np.int8, 1)])\n",
      "/home/nishit/.conda/envs/venv/lib/python3.7/site-packages/tensorflow/python/framework/dtypes.py:517: FutureWarning: Passing (type, 1) or '1type' as a synonym of type is deprecated; in a future version of numpy, it will be understood as (type, (1,)) / '(1,)type'.\n",
      "  _np_quint8 = np.dtype([(\"quint8\", np.uint8, 1)])\n",
      "/home/nishit/.conda/envs/venv/lib/python3.7/site-packages/tensorflow/python/framework/dtypes.py:518: FutureWarning: Passing (type, 1) or '1type' as a synonym of type is deprecated; in a future version of numpy, it will be understood as (type, (1,)) / '(1,)type'.\n",
      "  _np_qint16 = np.dtype([(\"qint16\", np.int16, 1)])\n",
      "/home/nishit/.conda/envs/venv/lib/python3.7/site-packages/tensorflow/python/framework/dtypes.py:519: FutureWarning: Passing (type, 1) or '1type' as a synonym of type is deprecated; in a future version of numpy, it will be understood as (type, (1,)) / '(1,)type'.\n",
      "  _np_quint16 = np.dtype([(\"quint16\", np.uint16, 1)])\n",
      "/home/nishit/.conda/envs/venv/lib/python3.7/site-packages/tensorflow/python/framework/dtypes.py:520: FutureWarning: Passing (type, 1) or '1type' as a synonym of type is deprecated; in a future version of numpy, it will be understood as (type, (1,)) / '(1,)type'.\n",
      "  _np_qint32 = np.dtype([(\"qint32\", np.int32, 1)])\n",
      "/home/nishit/.conda/envs/venv/lib/python3.7/site-packages/tensorflow/python/framework/dtypes.py:525: FutureWarning: Passing (type, 1) or '1type' as a synonym of type is deprecated; in a future version of numpy, it will be understood as (type, (1,)) / '(1,)type'.\n",
      "  np_resource = np.dtype([(\"resource\", np.ubyte, 1)])\n",
      "/home/nishit/.conda/envs/venv/lib/python3.7/site-packages/tensorboard/compat/tensorflow_stub/dtypes.py:541: FutureWarning: Passing (type, 1) or '1type' as a synonym of type is deprecated; in a future version of numpy, it will be understood as (type, (1,)) / '(1,)type'.\n",
      "  _np_qint8 = np.dtype([(\"qint8\", np.int8, 1)])\n",
      "/home/nishit/.conda/envs/venv/lib/python3.7/site-packages/tensorboard/compat/tensorflow_stub/dtypes.py:542: FutureWarning: Passing (type, 1) or '1type' as a synonym of type is deprecated; in a future version of numpy, it will be understood as (type, (1,)) / '(1,)type'.\n",
      "  _np_quint8 = np.dtype([(\"quint8\", np.uint8, 1)])\n",
      "/home/nishit/.conda/envs/venv/lib/python3.7/site-packages/tensorboard/compat/tensorflow_stub/dtypes.py:543: FutureWarning: Passing (type, 1) or '1type' as a synonym of type is deprecated; in a future version of numpy, it will be understood as (type, (1,)) / '(1,)type'.\n",
      "  _np_qint16 = np.dtype([(\"qint16\", np.int16, 1)])\n",
      "/home/nishit/.conda/envs/venv/lib/python3.7/site-packages/tensorboard/compat/tensorflow_stub/dtypes.py:544: FutureWarning: Passing (type, 1) or '1type' as a synonym of type is deprecated; in a future version of numpy, it will be understood as (type, (1,)) / '(1,)type'.\n",
      "  _np_quint16 = np.dtype([(\"quint16\", np.uint16, 1)])\n",
      "/home/nishit/.conda/envs/venv/lib/python3.7/site-packages/tensorboard/compat/tensorflow_stub/dtypes.py:545: FutureWarning: Passing (type, 1) or '1type' as a synonym of type is deprecated; in a future version of numpy, it will be understood as (type, (1,)) / '(1,)type'.\n",
      "  _np_qint32 = np.dtype([(\"qint32\", np.int32, 1)])\n",
      "/home/nishit/.conda/envs/venv/lib/python3.7/site-packages/tensorboard/compat/tensorflow_stub/dtypes.py:550: FutureWarning: Passing (type, 1) or '1type' as a synonym of type is deprecated; in a future version of numpy, it will be understood as (type, (1,)) / '(1,)type'.\n",
      "  np_resource = np.dtype([(\"resource\", np.ubyte, 1)])\n"
     ]
    }
   ],
   "source": [
    "import pandas as pd\n",
    "import numpy as np\n",
    "import matplotlib.pyplot as plt\n",
    "import keras\n",
    "from keras.models import Sequential\n",
    "from keras.layers import Dense\n",
    "from keras.layers import Dropout\n",
    "from sklearn.metrics import f1_score, roc_auc_score, log_loss\n"
   ]
  },
  {
   "cell_type": "code",
   "execution_count": 3,
   "metadata": {},
   "outputs": [],
   "source": [
    "import pandas as pd\n",
    "mnist_train = pd.read_csv('mnist_train.csv', sep=',')\n",
    "mnist_test = pd.read_csv('mnist_test.csv', sep=',')\n",
    "X_train = mnist_train.drop(labels = [\"label\"],axis = 1) \n",
    "y_train = mnist_train[\"label\"]\n",
    "X_test = mnist_test.drop(labels = [\"label\"],axis = 1) \n",
    "y_test=mnist_test[\"label\"]"
   ]
  },
  {
   "cell_type": "code",
   "execution_count": 4,
   "metadata": {},
   "outputs": [
    {
     "name": "stdout",
     "output_type": "stream",
     "text": [
      "Number of unique classes:  10\n",
      "Classes:  [0 1 2 3 4 5 6 7 8 9]\n"
     ]
    }
   ],
   "source": [
    "X_train = X_train.values.reshape(60000, 784)\n",
    "X_test = X_test.values.reshape(10000, 784)"
   ]
  },
  {
   "cell_type": "code",
   "execution_count": 6,
   "metadata": {},
   "outputs": [
    {
     "name": "stdout",
     "output_type": "stream",
     "text": [
      "Model: \"sequential_1\"\n",
      "_________________________________________________________________\n",
      "Layer (type)                 Output Shape              Param #   \n",
      "=================================================================\n",
      "dense_1 (Dense)              (None, 128)               100480    \n",
      "_________________________________________________________________\n",
      "dense_2 (Dense)              (None, 10)                1290      \n",
      "=================================================================\n",
      "Total params: 101,770\n",
      "Trainable params: 101,770\n",
      "Non-trainable params: 0\n",
      "_________________________________________________________________\n"
     ]
    }
   ],
   "source": [
    "model = Sequential()\n",
    "model.add(Dense(input_dim = X_train.shape[1], units = 128, kernel_initializer='uniform', activation='tanh'))\n",
    "model.add(Dense(units = 10, kernel_initializer='uniform', activation='softmax'))\n",
    "model.compile(optimizer='adam', loss='sparse_categorical_crossentropy', metrics=['accuracy'])\n",
    "model.summary()"
   ]
  },
  {
   "cell_type": "code",
   "execution_count": 7,
   "metadata": {},
   "outputs": [
    {
     "name": "stdout",
     "output_type": "stream",
     "text": [
      "WARNING:tensorflow:From /home/nishit/.conda/envs/venv/lib/python3.7/site-packages/keras/backend/tensorflow_backend.py:422: The name tf.global_variables is deprecated. Please use tf.compat.v1.global_variables instead.\n",
      "\n",
      "Train on 54000 samples, validate on 6000 samples\n",
      "Epoch 1/5\n",
      "54000/54000 [==============================] - ETA: 0s - loss: 0.5851 - accuracy: 0.83 - 6s 110us/step - loss: 0.5843 - accuracy: 0.8380 - val_loss: 0.3910 - val_accuracy: 0.8902\n",
      "Epoch 2/5\n",
      "54000/54000 [==============================] - 6s 104us/step - loss: 0.4323 - accuracy: 0.8695 - val_loss: 0.3213 - val_accuracy: 0.9073\n",
      "Epoch 3/5\n",
      "54000/54000 [==============================] - 6s 103us/step - loss: 0.3929 - accuracy: 0.8803 - val_loss: 0.2910 - val_accuracy: 0.9127\n",
      "Epoch 4/5\n",
      "54000/54000 [==============================] - 6s 104us/step - loss: 0.3725 - accuracy: 0.8877 - val_loss: 0.2763 - val_accuracy: 0.9172\n",
      "Epoch 5/5\n",
      "54000/54000 [==============================] - 6s 103us/step - loss: 0.3538 - accuracy: 0.8929 - val_loss: 0.3077 - val_accuracy: 0.9040\n"
     ]
    }
   ],
   "source": [
    "model_fit = model.fit(X_train, y_train,validation_split = 0.1,epochs=5, verbose=1)"
   ]
  },
  {
   "cell_type": "code",
   "execution_count": 8,
   "metadata": {},
   "outputs": [
    {
     "name": "stdout",
     "output_type": "stream",
     "text": [
      "dict_keys(['val_loss', 'val_accuracy', 'loss', 'accuracy'])\n"
     ]
    },
    {
     "data": {
      "image/png": "[encoded data removed]",
      "text/plain": [
       "<Figure size 432x288 with 1 Axes>"
      ]
     },
     "metadata": {
      "needs_background": "light"
     },
     "output_type": "display_data"
    }
   ],
   "source": [
    "print(model_fit.history.keys())\n",
    "plt.plot(model_fit.history['accuracy'])\n",
    "plt.plot(model_fit.history['val_accuracy'])\n",
    "plt.title('model accuracy')\n",
    "plt.ylabel('accuracy')\n",
    "plt.xlabel('epoch')\n",
    "plt.legend(['train', 'test'], loc='upper left')\n",
    "plt.show()"
   ]
  },
  {
   "cell_type": "code",
   "execution_count": 3,
   "metadata": {},
   "outputs": [
    {
     "ename": "NameError",
     "evalue": "name 'model' is not defined",
     "output_type": "error",
     "traceback": [
      "\u001b[0;31m---------------------------------------------------------------------------\u001b[0m",
      "\u001b[0;31mNameError\u001b[0m                                 Traceback (most recent call last)",
      "\u001b[0;32m<ipython-input-3-5d73ab3e37c4>\u001b[0m in \u001b[0;36m<module>\u001b[0;34m()\u001b[0m\n\u001b[0;32m----> 1\u001b[0;31m \u001b[0mtest_loss\u001b[0m \u001b[0;34m=\u001b[0m \u001b[0mmodel\u001b[0m\u001b[0;34m.\u001b[0m\u001b[0mevaluate\u001b[0m\u001b[0;34m(\u001b[0m\u001b[0mX_test\u001b[0m\u001b[0;34m,\u001b[0m \u001b[0my_test\u001b[0m\u001b[0;34m,\u001b[0m \u001b[0mverbose\u001b[0m\u001b[0;34m=\u001b[0m\u001b[0;36m0\u001b[0m\u001b[0;34m)\u001b[0m\u001b[0;34m\u001b[0m\u001b[0;34m\u001b[0m\u001b[0m\n\u001b[0m\u001b[1;32m      2\u001b[0m \u001b[0mf1\u001b[0m \u001b[0;34m=\u001b[0m \u001b[0mf1_score\u001b[0m\u001b[0;34m(\u001b[0m\u001b[0my_test\u001b[0m\u001b[0;34m,\u001b[0m \u001b[0mmodel\u001b[0m\u001b[0;34m.\u001b[0m\u001b[0mpredict_classes\u001b[0m\u001b[0;34m(\u001b[0m\u001b[0mX_test\u001b[0m\u001b[0;34m)\u001b[0m\u001b[0;34m,\u001b[0m \u001b[0maverage\u001b[0m\u001b[0;34m=\u001b[0m\u001b[0;34m'micro'\u001b[0m\u001b[0;34m)\u001b[0m\u001b[0;34m\u001b[0m\u001b[0;34m\u001b[0m\u001b[0m\n\u001b[1;32m      3\u001b[0m \u001b[0mroc\u001b[0m \u001b[0;34m=\u001b[0m \u001b[0mroc_auc_score\u001b[0m\u001b[0;34m(\u001b[0m\u001b[0my_test\u001b[0m\u001b[0;34m,\u001b[0m \u001b[0mmodel\u001b[0m\u001b[0;34m.\u001b[0m\u001b[0mpredict_proba\u001b[0m\u001b[0;34m(\u001b[0m\u001b[0mX_test\u001b[0m\u001b[0;34m)\u001b[0m\u001b[0;34m,\u001b[0m \u001b[0mmulti_class\u001b[0m\u001b[0;34m=\u001b[0m\u001b[0;34m'ovo'\u001b[0m\u001b[0;34m)\u001b[0m\u001b[0;34m\u001b[0m\u001b[0;34m\u001b[0m\u001b[0m\n\u001b[1;32m      4\u001b[0m stats = pd.DataFrame({'Test accuracy' :  round(test_loss[1]*100,3),\n\u001b[1;32m      5\u001b[0m                       \u001b[0;34m'F1 score'\u001b[0m      \u001b[0;34m:\u001b[0m \u001b[0mround\u001b[0m\u001b[0;34m(\u001b[0m\u001b[0mf1\u001b[0m\u001b[0;34m,\u001b[0m\u001b[0;36m3\u001b[0m\u001b[0;34m)\u001b[0m\u001b[0;34m,\u001b[0m\u001b[0;34m\u001b[0m\u001b[0;34m\u001b[0m\u001b[0m\n",
      "\u001b[0;31mNameError\u001b[0m: name 'model' is not defined"
     ]
    }
   ],
   "source": [
    "test_loss = model.evaluate(X_test, y_test, verbose=0)\n",
    "f1 = f1_score(y_test, model.predict_classes(X_test), average='micro')\n",
    "roc = roc_auc_score(y_test, model.predict_proba(X_test), multi_class='ovo')\n",
    "stats = pd.DataFrame({'Test accuracy' :  round(test_loss[1]*100,3),\n",
    "                      'F1 score'      : round(f1,3),\n",
    "                      'ROC AUC score' : round(roc,3),\n",
    "                      'Total Loss'    : round(test_loss[0],3)}, index=[0])\n",
    "display(stats)"
   ]
  },
  {
   "cell_type": "code",
   "execution_count": null,
   "metadata": {},
   "outputs": [],
   "source": []
  },
  {
   "cell_type": "code",
   "execution_count": 10,
   "metadata": {},
   "outputs": [],
   "source": [
    "#Model 4"
   ]
  },
  {
   "cell_type": "code",
   "execution_count": null,
   "metadata": {},
   "outputs": [],
   "source": []
  },
  {
   "cell_type": "code",
   "execution_count": 11,
   "metadata": {},
   "outputs": [],
   "source": [
    "import pandas as pd\n",
    "import numpy as np\n",
    "import matplotlib.pyplot as plt\n",
    "import keras\n",
    "from keras.models import Sequential\n",
    "from keras.layers import Dense\n",
    "from keras.layers import Dropout\n",
    "from sklearn.metrics import f1_score, roc_auc_score, log_loss\n"
   ]
  },
  {
   "cell_type": "code",
   "execution_count": 12,
   "metadata": {},
   "outputs": [],
   "source": [
    "import pandas as pd\n",
    "mnist_train = pd.read_csv('mnist_train.csv', sep=',')\n",
    "mnist_test = pd.read_csv('mnist_test.csv', sep=',')\n",
    "X_train = mnist_train.drop(labels = [\"label\"],axis = 1) \n",
    "y_train = mnist_train[\"label\"]\n",
    "X_test = mnist_test.drop(labels = [\"label\"],axis = 1) \n",
    "y_test=mnist_test[\"label\"]"
   ]
  },
  {
   "cell_type": "code",
   "execution_count": 13,
   "metadata": {},
   "outputs": [
    {
     "name": "stdout",
     "output_type": "stream",
     "text": [
      "Number of unique classes:  10\n",
      "Classes:  [0 1 2 3 4 5 6 7 8 9]\n"
     ]
    }
   ],
   "source": [
    "X_train = X_train.values.reshape(60000, 784)\n",
    "X_test = X_test.values.reshape(10000, 784)\n"
   ]
  },
  {
   "cell_type": "code",
   "execution_count": 15,
   "metadata": {},
   "outputs": [
    {
     "name": "stdout",
     "output_type": "stream",
     "text": [
      "Model: \"sequential_2\"\n",
      "_________________________________________________________________\n",
      "Layer (type)                 Output Shape              Param #   \n",
      "=================================================================\n",
      "dense_3 (Dense)              (None, 256)               200960    \n",
      "_________________________________________________________________\n",
      "dense_4 (Dense)              (None, 10)                2570      \n",
      "=================================================================\n",
      "Total params: 203,530\n",
      "Trainable params: 203,530\n",
      "Non-trainable params: 0\n",
      "_________________________________________________________________\n"
     ]
    }
   ],
   "source": [
    "model = Sequential()\n",
    "model.add(Dense(input_dim = X_train.shape[1], units = 256, kernel_initializer='uniform', activation='relu'))\n",
    "model.add(Dense(units = 10, kernel_initializer='uniform', activation='softmax'))\n",
    "model.compile(optimizer='adam', loss='sparse_categorical_crossentropy', metrics=['accuracy'])\n",
    "model.summary()"
   ]
  },
  {
   "cell_type": "code",
   "execution_count": 16,
   "metadata": {},
   "outputs": [
    {
     "name": "stdout",
     "output_type": "stream",
     "text": [
      "Train on 54000 samples, validate on 6000 samples\n",
      "Epoch 1/5\n",
      "54000/54000 [==============================] - 9s 161us/step - loss: 0.5578 - accuracy: 0.9066 - val_loss: 0.2201 - val_accuracy: 0.9410\n",
      "Epoch 2/5\n",
      "54000/54000 [==============================] - 9s 160us/step - loss: 0.2363 - accuracy: 0.9391 - val_loss: 0.2307 - val_accuracy: 0.9465\n",
      "Epoch 3/5\n",
      "54000/54000 [==============================] - 8s 156us/step - loss: 0.2348 - accuracy: 0.9453 - val_loss: 0.2394 - val_accuracy: 0.9467\n",
      "Epoch 4/5\n",
      "54000/54000 [==============================] - 9s 160us/step - loss: 0.2198 - accuracy: 0.9491 - val_loss: 0.2463 - val_accuracy: 0.9498\n",
      "Epoch 5/5\n",
      "54000/54000 [==============================] - 9s 164us/step - loss: 0.2068 - accuracy: 0.9536 - val_loss: 0.2577 - val_accuracy: 0.9538\n"
     ]
    }
   ],
   "source": [
    "model_fit = model.fit(X_train, y_train,validation_split = 0.1,epochs=5, verbose=1)"
   ]
  },
  {
   "cell_type": "code",
   "execution_count": 17,
   "metadata": {},
   "outputs": [
    {
     "name": "stdout",
     "output_type": "stream",
     "text": [
      "dict_keys(['val_loss', 'val_accuracy', 'loss', 'accuracy'])\n"
     ]
    },
    {
     "data": {
      "image/png": "[encoded data removed]",
      "text/plain": [
       "<Figure size 432x288 with 1 Axes>"
      ]
     },
     "metadata": {
      "needs_background": "light"
     },
     "output_type": "display_data"
    }
   ],
   "source": [
    "print(model_fit.history.keys())\n",
    "plt.plot(model_fit.history['accuracy'])\n",
    "plt.plot(model_fit.history['val_accuracy'])\n",
    "plt.title('model accuracy')\n",
    "plt.ylabel('accuracy')\n",
    "plt.xlabel('epoch')\n",
    "plt.legend(['train', 'test'], loc='upper left')\n",
    "plt.show()"
   ]
  },
  {
   "cell_type": "code",
   "execution_count": 18,
   "metadata": {},
   "outputs": [
    {
     "data": {
      "text/html": [
       "<div>\n",
       "<style scoped>\n",
       "    .dataframe tbody tr th:only-of-type {\n",
       "        vertical-align: middle;\n",
       "    }\n",
       "\n",
       "    .dataframe tbody tr th {\n",
       "        vertical-align: top;\n",
       "    }\n",
       "\n",
       "    .dataframe thead th {\n",
       "        text-align: right;\n",
       "    }\n",
       "</style>\n",
       "<table border=\"1\" class=\"dataframe\">\n",
       "  <thead>\n",
       "    <tr style=\"text-align: right;\">\n",
       "      <th></th>\n",
       "      <th>Test accuracy</th>\n",
       "      <th>F1 score</th>\n",
       "      <th>ROC AUC score</th>\n",
       "      <th>Total Loss</th>\n",
       "    </tr>\n",
       "  </thead>\n",
       "  <tbody>\n",
       "    <tr>\n",
       "      <th>0</th>\n",
       "      <td>95.45</td>\n",
       "      <td>0.954</td>\n",
       "      <td>0.997</td>\n",
       "      <td>0.267</td>\n",
       "    </tr>\n",
       "  </tbody>\n",
       "</table>\n",
       "</div>"
      ],
      "text/plain": [
       "   Test accuracy  F1 score  ROC AUC score  Total Loss\n",
       "0          95.45     0.954          0.997       0.267"
      ]
     },
     "metadata": {},
     "output_type": "display_data"
    }
   ],
   "source": [
    "test_loss = model.evaluate(X_test, y_test, verbose=0)\n",
    "f1 = f1_score(y_test, model.predict_classes(X_test), average='micro')\n",
    "roc = roc_auc_score(y_test, model.predict_proba(X_test), multi_class='ovo')\n",
    "stats = pd.DataFrame({'Test accuracy' :  round(test_loss[1]*100,3),\n",
    "                      'F1 score'      : round(f1,3),\n",
    "                      'ROC AUC score' : round(roc,3),\n",
    "                      'Total Loss'    : round(test_loss[0],3)}, index=[0])\n",
    "display(stats)"
   ]
  },
  {
   "cell_type": "code",
   "execution_count": null,
   "metadata": {},
   "outputs": [],
   "source": []
  },
  {
   "cell_type": "code",
   "execution_count": 19,
   "metadata": {},
   "outputs": [],
   "source": [
    "#Model 5"
   ]
  },
  {
   "cell_type": "code",
   "execution_count": null,
   "metadata": {},
   "outputs": [],
   "source": []
  },
  {
   "cell_type": "code",
   "execution_count": null,
   "metadata": {},
   "outputs": [],
   "source": []
  },
  {
   "cell_type": "code",
   "execution_count": 20,
   "metadata": {},
   "outputs": [],
   "source": [
    "import pandas as pd\n",
    "import numpy as np\n",
    "import matplotlib.pyplot as plt\n",
    "import keras\n",
    "from keras.models import Sequential\n",
    "from keras.layers import Dense\n",
    "from keras.layers import Dropout\n",
    "from sklearn.metrics import f1_score, roc_auc_score, log_loss"
   ]
  },
  {
   "cell_type": "code",
   "execution_count": 21,
   "metadata": {},
   "outputs": [],
   "source": [
    "import pandas as pd\n",
    "mnist_train = pd.read_csv('mnist_train.csv', sep=',')\n",
    "mnist_test = pd.read_csv('mnist_test.csv', sep=',')\n",
    "X_train = mnist_train.drop(labels = [\"label\"],axis = 1) \n",
    "y_train = mnist_train[\"label\"]\n",
    "X_test = mnist_test.drop(labels = [\"label\"],axis = 1) \n",
    "y_test=mnist_test[\"label\"]"
   ]
  },
  {
   "cell_type": "code",
   "execution_count": 22,
   "metadata": {},
   "outputs": [
    {
     "name": "stdout",
     "output_type": "stream",
     "text": [
      "Number of unique classes:  10\n",
      "Classes:  [0 1 2 3 4 5 6 7 8 9]\n"
     ]
    }
   ],
   "source": [
    "X_train = X_train.values.reshape(60000, 784)\n",
    "X_test = X_test.values.reshape(10000, 784)"
   ]
  },
  {
   "cell_type": "code",
   "execution_count": 23,
   "metadata": {},
   "outputs": [
    {
     "data": {
      "image/png": "[encoded data removed]",
      "text/plain": [
       "<Figure size 1080x360 with 10 Axes>"
      ]
     },
     "metadata": {
      "needs_background": "light"
     },
     "output_type": "display_data"
    }
   ],
   "source": [
    "\n",
    "fig, axes = plt.subplots(nrows=2, ncols=5,figsize=(15,5))          \n",
    "ax = axes.ravel()\n",
    "for i in range(10):\n",
    "    ax[i].imshow(X_train[i].reshape(28,28))\n",
    "    ax[i].title.set_text('Class: ' + str(y_train[i]))              \n",
    "plt.subplots_adjust(hspace=0.5)                                    \n",
    "plt.show()"
   ]
  },
  {
   "cell_type": "code",
   "execution_count": 24,
   "metadata": {},
   "outputs": [
    {
     "name": "stdout",
     "output_type": "stream",
     "text": [
      "Model: \"sequential_3\"\n",
      "_________________________________________________________________\n",
      "Layer (type)                 Output Shape              Param #   \n",
      "=================================================================\n",
      "dense_5 (Dense)              (None, 512)               401920    \n",
      "_________________________________________________________________\n",
      "dense_6 (Dense)              (None, 10)                5130      \n",
      "=================================================================\n",
      "Total params: 407,050\n",
      "Trainable params: 407,050\n",
      "Non-trainable params: 0\n",
      "_________________________________________________________________\n"
     ]
    }
   ],
   "source": [
    "model = Sequential()\n",
    "model.add(Dense(input_dim = X_train.shape[1], units = 512, kernel_initializer='uniform', activation='relu'))\n",
    "model.add(Dense(units = 10, kernel_initializer='uniform', activation='softmax'))\n",
    "model.compile(optimizer='adam', loss='sparse_categorical_crossentropy', metrics=['accuracy'])\n",
    "model.summary()"
   ]
  },
  {
   "cell_type": "code",
   "execution_count": 25,
   "metadata": {},
   "outputs": [
    {
     "name": "stdout",
     "output_type": "stream",
     "text": [
      "Train on 54000 samples, validate on 6000 samples\n",
      "Epoch 1/5\n",
      "54000/54000 [==============================] - 15s 283us/step - loss: 0.9178 - accuracy: 0.9093 - val_loss: 0.2315 - val_accuracy: 0.9420\n",
      "Epoch 2/5\n",
      "54000/54000 [==============================] - 17s 308us/step - loss: 0.2721 - accuracy: 0.9370 - val_loss: 0.3016 - val_accuracy: 0.9412\n",
      "Epoch 3/5\n",
      "54000/54000 [==============================] - 18s 342us/step - loss: 0.2794 - accuracy: 0.9400 - val_loss: 0.2530 - val_accuracy: 0.9497\n",
      "Epoch 4/5\n",
      "54000/54000 [==============================] - 15s 285us/step - loss: 0.2520 - accuracy: 0.9458 - val_loss: 0.2184 - val_accuracy: 0.9527\n",
      "Epoch 5/5\n",
      "54000/54000 [==============================] - 15s 283us/step - loss: 0.2249 - accuracy: 0.9526 - val_loss: 0.2608 - val_accuracy: 0.9523\n"
     ]
    }
   ],
   "source": [
    "model_fit = model.fit(X_train, y_train,validation_split = 0.1,epochs=5, verbose=1)"
   ]
  },
  {
   "cell_type": "code",
   "execution_count": 27,
   "metadata": {},
   "outputs": [
    {
     "name": "stdout",
     "output_type": "stream",
     "text": [
      "dict_keys(['val_loss', 'val_accuracy', 'loss', 'accuracy'])\n"
     ]
    },
    {
     "data": {
      "image/png": "[encoded data removed]",
      "text/plain": [
       "<Figure size 432x288 with 1 Axes>"
      ]
     },
     "metadata": {
      "needs_background": "light"
     },
     "output_type": "display_data"
    }
   ],
   "source": [
    "print(model_fit.history.keys())\n",
    "plt.plot(model_fit.history['accuracy'])\n",
    "plt.plot(model_fit.history['val_accuracy'])\n",
    "plt.title('model accuracy')\n",
    "plt.ylabel('accuracy')\n",
    "plt.xlabel('epoch')\n",
    "plt.legend(['train', 'test'], loc='upper left')\n",
    "plt.show()"
   ]
  },
  {
   "cell_type": "code",
   "execution_count": 28,
   "metadata": {},
   "outputs": [
    {
     "data": {
      "text/html": [
       "<div>\n",
       "<style scoped>\n",
       "    .dataframe tbody tr th:only-of-type {\n",
       "        vertical-align: middle;\n",
       "    }\n",
       "\n",
       "    .dataframe tbody tr th {\n",
       "        vertical-align: top;\n",
       "    }\n",
       "\n",
       "    .dataframe thead th {\n",
       "        text-align: right;\n",
       "    }\n",
       "</style>\n",
       "<table border=\"1\" class=\"dataframe\">\n",
       "  <thead>\n",
       "    <tr style=\"text-align: right;\">\n",
       "      <th></th>\n",
       "      <th>Test accuracy</th>\n",
       "      <th>F1 score</th>\n",
       "      <th>ROC AUC score</th>\n",
       "      <th>Total Loss</th>\n",
       "    </tr>\n",
       "  </thead>\n",
       "  <tbody>\n",
       "    <tr>\n",
       "      <th>0</th>\n",
       "      <td>94.35</td>\n",
       "      <td>0.944</td>\n",
       "      <td>0.997</td>\n",
       "      <td>0.326</td>\n",
       "    </tr>\n",
       "  </tbody>\n",
       "</table>\n",
       "</div>"
      ],
      "text/plain": [
       "   Test accuracy  F1 score  ROC AUC score  Total Loss\n",
       "0          94.35     0.944          0.997       0.326"
      ]
     },
     "metadata": {},
     "output_type": "display_data"
    }
   ],
   "source": [
    "test_loss = model.evaluate(X_test, y_test, verbose=0)\n",
    "f1 = f1_score(y_test, model.predict_classes(X_test), average='micro')\n",
    "roc = roc_auc_score(y_test, model.predict_proba(X_test), multi_class='ovo')\n",
    "stats = pd.DataFrame({'Test accuracy' :  round(test_loss[1]*100,3),\n",
    "                      'F1 score'      : round(f1,3),\n",
    "                      'ROC AUC score' : round(roc,3),\n",
    "                      'Total Loss'    : round(test_loss[0],3)}, index=[0])\n",
    "display(stats)"
   ]
  },
  {
   "cell_type": "code",
   "execution_count": 29,
   "metadata": {},
   "outputs": [],
   "source": [
    "#Model 6"
   ]
  },
  {
   "cell_type": "code",
   "execution_count": null,
   "metadata": {},
   "outputs": [],
   "source": []
  },
  {
   "cell_type": "code",
   "execution_count": 35,
   "metadata": {},
   "outputs": [],
   "source": [
    "import pandas as pd\n",
    "import numpy as np\n",
    "import matplotlib.pyplot as plt\n",
    "import keras\n",
    "from keras.models import Sequential\n",
    "from keras.layers import Dense\n",
    "from keras.wrappers.scikit_learn import KerasClassifier\n",
    "from keras.layers import Dropout\n",
    "from sklearn.metrics import f1_score, roc_auc_score, log_loss\n"
   ]
  },
  {
   "cell_type": "code",
   "execution_count": 36,
   "metadata": {},
   "outputs": [],
   "source": [
    "import pandas as pd\n",
    "mnist_train = pd.read_csv('mnist_train.csv', sep=',')\n",
    "mnist_test = pd.read_csv('mnist_test.csv', sep=',')\n",
    "X_train = mnist_train.drop(labels = [\"label\"],axis = 1) \n",
    "y_train = mnist_train[\"label\"]\n",
    "X_test = mnist_test.drop(labels = [\"label\"],axis = 1) \n",
    "y_test=mnist_test[\"label\"]"
   ]
  },
  {
   "cell_type": "code",
   "execution_count": 37,
   "metadata": {},
   "outputs": [
    {
     "name": "stdout",
     "output_type": "stream",
     "text": [
      "Number of unique classes:  10\n",
      "Classes:  [0 1 2 3 4 5 6 7 8 9]\n"
     ]
    }
   ],
   "source": [
    "X_train = X_train.values.reshape(60000, 784)\n",
    "X_test = X_test.values.reshape(10000, 784)"
   ]
  },
  {
   "cell_type": "code",
   "execution_count": 39,
   "metadata": {},
   "outputs": [
    {
     "name": "stdout",
     "output_type": "stream",
     "text": [
      "Model: \"sequential_5\"\n",
      "_________________________________________________________________\n",
      "Layer (type)                 Output Shape              Param #   \n",
      "=================================================================\n",
      "dense_9 (Dense)              (None, 256)               200960    \n",
      "_________________________________________________________________\n",
      "dense_10 (Dense)             (None, 10)                2570      \n",
      "=================================================================\n",
      "Total params: 203,530\n",
      "Trainable params: 203,530\n",
      "Non-trainable params: 0\n",
      "_________________________________________________________________\n"
     ]
    }
   ],
   "source": [
    "model = Sequential()\n",
    "#add 1st hidden layer\n",
    "model.add(Dense(input_dim = X_train.shape[1], units = 256, kernel_initializer='uniform', activation='relu'))\n",
    "#add output layer\n",
    "model.add(Dense(units = 10, kernel_initializer='uniform', activation='softmax'))\n",
    "#compile the neural network\n",
    "model.compile(optimizer='adam', loss='sparse_categorical_crossentropy', metrics=['accuracy'])\n",
    "#model summary\n",
    "model.summary()"
   ]
  },
  {
   "cell_type": "code",
   "execution_count": 40,
   "metadata": {},
   "outputs": [
    {
     "name": "stdout",
     "output_type": "stream",
     "text": [
      "Train on 54000 samples, validate on 6000 samples\n",
      "Epoch 1/10\n",
      "54000/54000 [==============================] - 10s 178us/step - loss: 0.5660 - accuracy: 0.9061 - val_loss: 0.2087 - val_accuracy: 0.9468\n",
      "Epoch 2/10\n",
      "54000/54000 [==============================] - 8s 145us/step - loss: 0.2543 - accuracy: 0.9376 - val_loss: 0.2689 - val_accuracy: 0.9360\n",
      "Epoch 3/10\n",
      "54000/54000 [==============================] - 6s 119us/step - loss: 0.2424 - accuracy: 0.9436 - val_loss: 0.2619 - val_accuracy: 0.9455\n",
      "Epoch 4/10\n",
      "54000/54000 [==============================] - 7s 138us/step - loss: 0.2274 - accuracy: 0.9492 - val_loss: 0.2444 - val_accuracy: 0.9512\n",
      "Epoch 5/10\n",
      "54000/54000 [==============================] - 9s 166us/step - loss: 0.2132 - accuracy: 0.9523 - val_loss: 0.2472 - val_accuracy: 0.9580\n",
      "Epoch 6/10\n",
      "54000/54000 [==============================] - 9s 168us/step - loss: 0.2046 - accuracy: 0.9545 - val_loss: 0.2636 - val_accuracy: 0.9533\n",
      "Epoch 7/10\n",
      "54000/54000 [==============================] - 9s 165us/step - loss: 0.2030 - accuracy: 0.9575 - val_loss: 0.2661 - val_accuracy: 0.9465\n",
      "Epoch 8/10\n",
      "54000/54000 [==============================] - 9s 166us/step - loss: 0.1865 - accuracy: 0.9595 - val_loss: 0.2447 - val_accuracy: 0.9617\n",
      "Epoch 9/10\n",
      "54000/54000 [==============================] - 9s 166us/step - loss: 0.1862 - accuracy: 0.9596 - val_loss: 0.2438 - val_accuracy: 0.9588\n",
      "Epoch 10/10\n",
      "54000/54000 [==============================] - 9s 170us/step - loss: 0.1776 - accuracy: 0.9625 - val_loss: 0.2643 - val_accuracy: 0.9610\n"
     ]
    }
   ],
   "source": [
    "model_fit = model.fit(X_train, y_train,validation_split = 0.1,epochs=10, verbose=1)"
   ]
  },
  {
   "cell_type": "code",
   "execution_count": 41,
   "metadata": {},
   "outputs": [
    {
     "name": "stdout",
     "output_type": "stream",
     "text": [
      "dict_keys(['val_loss', 'val_accuracy', 'loss', 'accuracy'])\n"
     ]
    },
    {
     "data": {
      "image/png": "[encoded data removed]",
      "text/plain": [
       "<Figure size 432x288 with 1 Axes>"
      ]
     },
     "metadata": {
      "needs_background": "light"
     },
     "output_type": "display_data"
    }
   ],
   "source": [
    "print(model_fit.history.keys())\n",
    "plt.plot(model_fit.history['accuracy'])\n",
    "plt.plot(model_fit.history['val_accuracy'])\n",
    "plt.title('model accuracy')\n",
    "plt.ylabel('accuracy')\n",
    "plt.xlabel('epoch')\n",
    "plt.legend(['train', 'test'], loc='upper left')\n",
    "plt.show()"
   ]
  },
  {
   "cell_type": "code",
   "execution_count": 42,
   "metadata": {},
   "outputs": [
    {
     "data": {
      "text/html": [
       "<div>\n",
       "<style scoped>\n",
       "    .dataframe tbody tr th:only-of-type {\n",
       "        vertical-align: middle;\n",
       "    }\n",
       "\n",
       "    .dataframe tbody tr th {\n",
       "        vertical-align: top;\n",
       "    }\n",
       "\n",
       "    .dataframe thead th {\n",
       "        text-align: right;\n",
       "    }\n",
       "</style>\n",
       "<table border=\"1\" class=\"dataframe\">\n",
       "  <thead>\n",
       "    <tr style=\"text-align: right;\">\n",
       "      <th></th>\n",
       "      <th>Test accuracy</th>\n",
       "      <th>F1 score</th>\n",
       "      <th>ROC AUC score</th>\n",
       "      <th>Total Loss</th>\n",
       "    </tr>\n",
       "  </thead>\n",
       "  <tbody>\n",
       "    <tr>\n",
       "      <th>0</th>\n",
       "      <td>95.21</td>\n",
       "      <td>0.952</td>\n",
       "      <td>0.998</td>\n",
       "      <td>0.331</td>\n",
       "    </tr>\n",
       "  </tbody>\n",
       "</table>\n",
       "</div>"
      ],
      "text/plain": [
       "   Test accuracy  F1 score  ROC AUC score  Total Loss\n",
       "0          95.21     0.952          0.998       0.331"
      ]
     },
     "metadata": {},
     "output_type": "display_data"
    }
   ],
   "source": [
    "test_loss = model.evaluate(X_test, y_test, verbose=0)\n",
    "f1 = f1_score(y_test, model.predict_classes(X_test), average='micro')\n",
    "roc = roc_auc_score(y_test, model.predict_proba(X_test), multi_class='ovo')\n",
    "stats = pd.DataFrame({'Test accuracy' :  round(test_loss[1]*100,3),\n",
    "                      'F1 score'      : round(f1,3),\n",
    "                      'ROC AUC score' : round(roc,3),\n",
    "                      'Total Loss'    : round(test_loss[0],3)}, index=[0])\n",
    "display(stats)"
   ]
  },
  {
   "cell_type": "code",
   "execution_count": 2,
   "metadata": {},
   "outputs": [],
   "source": [
    "#Model 7"
   ]
  },
  {
   "cell_type": "code",
   "execution_count": 14,
   "metadata": {},
   "outputs": [],
   "source": []
  },
  {
   "cell_type": "code",
   "execution_count": 3,
   "metadata": {},
   "outputs": [
    {
     "name": "stderr",
     "output_type": "stream",
     "text": [
      "Using TensorFlow backend.\n",
      "/home/nishit/.conda/envs/venv/lib/python3.7/site-packages/tensorflow/python/framework/dtypes.py:516: FutureWarning: Passing (type, 1) or '1type' as a synonym of type is deprecated; in a future version of numpy, it will be understood as (type, (1,)) / '(1,)type'.\n",
      "  _np_qint8 = np.dtype([(\"qint8\", np.int8, 1)])\n",
      "/home/nishit/.conda/envs/venv/lib/python3.7/site-packages/tensorflow/python/framework/dtypes.py:517: FutureWarning: Passing (type, 1) or '1type' as a synonym of type is deprecated; in a future version of numpy, it will be understood as (type, (1,)) / '(1,)type'.\n",
      "  _np_quint8 = np.dtype([(\"quint8\", np.uint8, 1)])\n",
      "/home/nishit/.conda/envs/venv/lib/python3.7/site-packages/tensorflow/python/framework/dtypes.py:518: FutureWarning: Passing (type, 1) or '1type' as a synonym of type is deprecated; in a future version of numpy, it will be understood as (type, (1,)) / '(1,)type'.\n",
      "  _np_qint16 = np.dtype([(\"qint16\", np.int16, 1)])\n",
      "/home/nishit/.conda/envs/venv/lib/python3.7/site-packages/tensorflow/python/framework/dtypes.py:519: FutureWarning: Passing (type, 1) or '1type' as a synonym of type is deprecated; in a future version of numpy, it will be understood as (type, (1,)) / '(1,)type'.\n",
      "  _np_quint16 = np.dtype([(\"quint16\", np.uint16, 1)])\n",
      "/home/nishit/.conda/envs/venv/lib/python3.7/site-packages/tensorflow/python/framework/dtypes.py:520: FutureWarning: Passing (type, 1) or '1type' as a synonym of type is deprecated; in a future version of numpy, it will be understood as (type, (1,)) / '(1,)type'.\n",
      "  _np_qint32 = np.dtype([(\"qint32\", np.int32, 1)])\n",
      "/home/nishit/.conda/envs/venv/lib/python3.7/site-packages/tensorflow/python/framework/dtypes.py:525: FutureWarning: Passing (type, 1) or '1type' as a synonym of type is deprecated; in a future version of numpy, it will be understood as (type, (1,)) / '(1,)type'.\n",
      "  np_resource = np.dtype([(\"resource\", np.ubyte, 1)])\n",
      "/home/nishit/.conda/envs/venv/lib/python3.7/site-packages/tensorboard/compat/tensorflow_stub/dtypes.py:541: FutureWarning: Passing (type, 1) or '1type' as a synonym of type is deprecated; in a future version of numpy, it will be understood as (type, (1,)) / '(1,)type'.\n",
      "  _np_qint8 = np.dtype([(\"qint8\", np.int8, 1)])\n",
      "/home/nishit/.conda/envs/venv/lib/python3.7/site-packages/tensorboard/compat/tensorflow_stub/dtypes.py:542: FutureWarning: Passing (type, 1) or '1type' as a synonym of type is deprecated; in a future version of numpy, it will be understood as (type, (1,)) / '(1,)type'.\n",
      "  _np_quint8 = np.dtype([(\"quint8\", np.uint8, 1)])\n",
      "/home/nishit/.conda/envs/venv/lib/python3.7/site-packages/tensorboard/compat/tensorflow_stub/dtypes.py:543: FutureWarning: Passing (type, 1) or '1type' as a synonym of type is deprecated; in a future version of numpy, it will be understood as (type, (1,)) / '(1,)type'.\n",
      "  _np_qint16 = np.dtype([(\"qint16\", np.int16, 1)])\n",
      "/home/nishit/.conda/envs/venv/lib/python3.7/site-packages/tensorboard/compat/tensorflow_stub/dtypes.py:544: FutureWarning: Passing (type, 1) or '1type' as a synonym of type is deprecated; in a future version of numpy, it will be understood as (type, (1,)) / '(1,)type'.\n",
      "  _np_quint16 = np.dtype([(\"quint16\", np.uint16, 1)])\n",
      "/home/nishit/.conda/envs/venv/lib/python3.7/site-packages/tensorboard/compat/tensorflow_stub/dtypes.py:545: FutureWarning: Passing (type, 1) or '1type' as a synonym of type is deprecated; in a future version of numpy, it will be understood as (type, (1,)) / '(1,)type'.\n",
      "  _np_qint32 = np.dtype([(\"qint32\", np.int32, 1)])\n",
      "/home/nishit/.conda/envs/venv/lib/python3.7/site-packages/tensorboard/compat/tensorflow_stub/dtypes.py:550: FutureWarning: Passing (type, 1) or '1type' as a synonym of type is deprecated; in a future version of numpy, it will be understood as (type, (1,)) / '(1,)type'.\n",
      "  np_resource = np.dtype([(\"resource\", np.ubyte, 1)])\n"
     ]
    }
   ],
   "source": [
    "import pandas as pd\n",
    "import numpy as np\n",
    "import matplotlib.pyplot as plt\n",
    "import keras\n",
    "from keras.models import Sequential\n",
    "from keras.layers import Dense\n",
    "from keras.layers import Dropout\n",
    "from sklearn.metrics import f1_score, roc_auc_score, log_loss"
   ]
  },
  {
   "cell_type": "code",
   "execution_count": 4,
   "metadata": {},
   "outputs": [],
   "source": [
    "import pandas as pd\n",
    "mnist_train = pd.read_csv('mnist_train.csv', sep=',')\n",
    "mnist_test = pd.read_csv('mnist_test.csv', sep=',')\n",
    "X_train = mnist_train.drop(labels = [\"label\"],axis = 1) \n",
    "y_train = mnist_train[\"label\"]\n",
    "X_test = mnist_test.drop(labels = [\"label\"],axis = 1) \n",
    "y_test=mnist_test[\"label\"]"
   ]
  },
  {
   "cell_type": "code",
   "execution_count": 5,
   "metadata": {},
   "outputs": [
    {
     "name": "stdout",
     "output_type": "stream",
     "text": [
      "Number of unique classes:  10\n",
      "Classes:  [0 1 2 3 4 5 6 7 8 9]\n"
     ]
    }
   ],
   "source": [
    "X_train = X_train.values.reshape(60000, 784)\n",
    "X_test = X_test.values.reshape(10000, 784)"
   ]
  },
  {
   "cell_type": "code",
   "execution_count": 7,
   "metadata": {},
   "outputs": [
    {
     "name": "stdout",
     "output_type": "stream",
     "text": [
      "Model: \"sequential_1\"\n",
      "_________________________________________________________________\n",
      "Layer (type)                 Output Shape              Param #   \n",
      "=================================================================\n",
      "dense_1 (Dense)              (None, 256)               200960    \n",
      "_________________________________________________________________\n",
      "dense_2 (Dense)              (None, 256)               65792     \n",
      "_________________________________________________________________\n",
      "dense_3 (Dense)              (None, 256)               65792     \n",
      "_________________________________________________________________\n",
      "dense_4 (Dense)              (None, 10)                2570      \n",
      "=================================================================\n",
      "Total params: 335,114\n",
      "Trainable params: 335,114\n",
      "Non-trainable params: 0\n",
      "_________________________________________________________________\n"
     ]
    }
   ],
   "source": [
    "model = Sequential()\n",
    "model.add(Dense(input_dim = X_train.shape[1], units = 256, kernel_initializer='uniform', activation='relu'))\n",
    "model.add(Dense(input_dim = X_train.shape[1], units = 128, kernel_initializer='uniform', activation='relu'))\n",
    "model.add(Dense(input_dim = X_train.shape[1], units = 64, kernel_initializer='uniform', activation='relu'))\n",
    "model.add(Dense(units = 10, kernel_initializer='uniform', activation='softmax'))\n",
    "model.compile(optimizer='adam', loss='sparse_categorical_crossentropy', metrics=['accuracy'])\n",
    "model.summary()"
   ]
  },
  {
   "cell_type": "code",
   "execution_count": 8,
   "metadata": {},
   "outputs": [
    {
     "name": "stdout",
     "output_type": "stream",
     "text": [
      "WARNING:tensorflow:From /home/nishit/.conda/envs/venv/lib/python3.7/site-packages/keras/backend/tensorflow_backend.py:422: The name tf.global_variables is deprecated. Please use tf.compat.v1.global_variables instead.\n",
      "\n",
      "Train on 54000 samples, validate on 6000 samples\n",
      "Epoch 1/10\n",
      "54000/54000 [==============================] - 10s 176us/step - loss: 0.2570 - accuracy: 0.9248 - val_loss: 0.1326 - val_accuracy: 0.9602\n",
      "Epoch 2/10\n",
      "54000/54000 [==============================] - 9s 160us/step - loss: 0.1514 - accuracy: 0.9569 - val_loss: 0.1336 - val_accuracy: 0.9667\n",
      "Epoch 3/10\n",
      "54000/54000 [==============================] - 12s 215us/step - loss: 0.1260 - accuracy: 0.9646 - val_loss: 0.0987 - val_accuracy: 0.9752\n",
      "Epoch 4/10\n",
      "54000/54000 [==============================] - 9s 162us/step - loss: 0.1057 - accuracy: 0.9716 - val_loss: 0.1193 - val_accuracy: 0.9703\n",
      "Epoch 5/10\n",
      "54000/54000 [==============================] - 9s 167us/step - loss: 0.0951 - accuracy: 0.9746 - val_loss: 0.1338 - val_accuracy: 0.9717\n",
      "Epoch 6/10\n",
      "54000/54000 [==============================] - 9s 171us/step - loss: 0.0835 - accuracy: 0.9773 - val_loss: 0.1535 - val_accuracy: 0.9660\n",
      "Epoch 7/10\n",
      "54000/54000 [==============================] - 11s 197us/step - loss: 0.0820 - accuracy: 0.9783 - val_loss: 0.1221 - val_accuracy: 0.9727\n",
      "Epoch 8/10\n",
      "54000/54000 [==============================] - 11s 204us/step - loss: 0.0693 - accuracy: 0.9814 - val_loss: 0.1459 - val_accuracy: 0.9712\n",
      "Epoch 9/10\n",
      "54000/54000 [==============================] - 10s 194us/step - loss: 0.0724 - accuracy: 0.9821 - val_loss: 0.1138 - val_accuracy: 0.9767\n",
      "Epoch 10/10\n",
      "54000/54000 [==============================] - 9s 175us/step - loss: 0.0559 - accuracy: 0.9854 - val_loss: 0.1096 - val_accuracy: 0.9752\n"
     ]
    }
   ],
   "source": [
    "model_fit = model.fit(X_train, y_train,validation_split = 0.1,epochs=10, verbose=1)"
   ]
  },
  {
   "cell_type": "code",
   "execution_count": 9,
   "metadata": {},
   "outputs": [
    {
     "name": "stdout",
     "output_type": "stream",
     "text": [
      "dict_keys(['val_loss', 'val_accuracy', 'loss', 'accuracy'])\n"
     ]
    },
    {
     "data": {
      "image/png": "[encoded data removed]",
      "text/plain": [
       "<Figure size 432x288 with 1 Axes>"
      ]
     },
     "metadata": {
      "needs_background": "light"
     },
     "output_type": "display_data"
    }
   ],
   "source": [
    "print(model_fit.history.keys())\n",
    "plt.plot(model_fit.history['accuracy'])\n",
    "plt.plot(model_fit.history['val_accuracy'])\n",
    "plt.title('model accuracy')\n",
    "plt.ylabel('accuracy')\n",
    "plt.xlabel('epoch')\n",
    "plt.legend(['train', 'test'], loc='upper left')\n",
    "plt.show()"
   ]
  },
  {
   "cell_type": "code",
   "execution_count": 11,
   "metadata": {},
   "outputs": [
    {
     "data": {
      "text/html": [
       "<div>\n",
       "<style scoped>\n",
       "    .dataframe tbody tr th:only-of-type {\n",
       "        vertical-align: middle;\n",
       "    }\n",
       "\n",
       "    .dataframe tbody tr th {\n",
       "        vertical-align: top;\n",
       "    }\n",
       "\n",
       "    .dataframe thead th {\n",
       "        text-align: right;\n",
       "    }\n",
       "</style>\n",
       "<table border=\"1\" class=\"dataframe\">\n",
       "  <thead>\n",
       "    <tr style=\"text-align: right;\">\n",
       "      <th></th>\n",
       "      <th>Test accuracy</th>\n",
       "      <th>F1 score</th>\n",
       "      <th>ROC AUC score</th>\n",
       "      <th>Total Loss</th>\n",
       "    </tr>\n",
       "  </thead>\n",
       "  <tbody>\n",
       "    <tr>\n",
       "      <th>0</th>\n",
       "      <td>97.45</td>\n",
       "      <td>0.974</td>\n",
       "      <td>0.999</td>\n",
       "      <td>0.127</td>\n",
       "    </tr>\n",
       "  </tbody>\n",
       "</table>\n",
       "</div>"
      ],
      "text/plain": [
       "   Test accuracy  F1 score  ROC AUC score  Total Loss\n",
       "0          97.45     0.974          0.999       0.127"
      ]
     },
     "metadata": {},
     "output_type": "display_data"
    }
   ],
   "source": [
    "test_loss = model.evaluate(X_test, y_test, verbose=0)\n",
    "f1 = f1_score(y_test, model.predict_classes(X_test), average='micro')\n",
    "roc = roc_auc_score(y_test, model.predict_proba(X_test), multi_class='ovo')\n",
    "stats = pd.DataFrame({'Test accuracy' :  round(test_loss[1]*100,3),\n",
    "                      'F1 score'      : round(f1,3),\n",
    "                      'ROC AUC score' : round(roc,3),\n",
    "                      'Total Loss'    : round(test_loss[0],3)}, index=[0])\n",
    "display(stats)"
   ]
  },
  {
   "cell_type": "code",
   "execution_count": 12,
   "metadata": {},
   "outputs": [],
   "source": [
    "#Model 8"
   ]
  },
  {
   "cell_type": "code",
   "execution_count": null,
   "metadata": {},
   "outputs": [],
   "source": []
  },
  {
   "cell_type": "code",
   "execution_count": 15,
   "metadata": {},
   "outputs": [],
   "source": [
    "import pandas as pd\n",
    "import numpy as np\n",
    "import matplotlib.pyplot as plt\n",
    "import keras\n",
    "from keras.models import Sequential\n",
    "from keras.layers import Dense\n",
    "from keras.layers import Dropout\n",
    "from sklearn.metrics import f1_score, roc_auc_score, log_loss"
   ]
  },
  {
   "cell_type": "code",
   "execution_count": 16,
   "metadata": {},
   "outputs": [],
   "source": [
    "import pandas as pd\n",
    "mnist_train = pd.read_csv('mnist_train.csv', sep=',')\n",
    "mnist_test = pd.read_csv('mnist_test.csv', sep=',')\n",
    "X_train = mnist_train.drop(labels = [\"label\"],axis = 1) \n",
    "y_train = mnist_train[\"label\"]\n",
    "X_test = mnist_test.drop(labels = [\"label\"],axis = 1) \n",
    "y_test=mnist_test[\"label\"]"
   ]
  },
  {
   "cell_type": "code",
   "execution_count": 17,
   "metadata": {},
   "outputs": [
    {
     "name": "stdout",
     "output_type": "stream",
     "text": [
      "Number of unique classes:  10\n",
      "Classes:  [0 1 2 3 4 5 6 7 8 9]\n"
     ]
    }
   ],
   "source": [
    "X_train = X_train.values.reshape(60000, 784)\n",
    "X_test = X_test.values.reshape(10000, 784)"
   ]
  },
  {
   "cell_type": "code",
   "execution_count": 19,
   "metadata": {},
   "outputs": [
    {
     "name": "stdout",
     "output_type": "stream",
     "text": [
      "Model: \"sequential_2\"\n",
      "_________________________________________________________________\n",
      "Layer (type)                 Output Shape              Param #   \n",
      "=================================================================\n",
      "dense_5 (Dense)              (None, 256)               200960    \n",
      "_________________________________________________________________\n",
      "dense_6 (Dense)              (None, 256)               65792     \n",
      "_________________________________________________________________\n",
      "dense_7 (Dense)              (None, 256)               65792     \n",
      "_________________________________________________________________\n",
      "dense_8 (Dense)              (None, 256)               65792     \n",
      "_________________________________________________________________\n",
      "dense_9 (Dense)              (None, 10)                2570      \n",
      "=================================================================\n",
      "Total params: 400,906\n",
      "Trainable params: 400,906\n",
      "Non-trainable params: 0\n",
      "_________________________________________________________________\n"
     ]
    }
   ],
   "source": [
    "model = Sequential()\n",
    "model.add(Dense(input_dim = X_train.shape[1], units = 256, kernel_initializer='uniform', activation='relu'))\n",
    "model.add(Dense(input_dim = X_train.shape[1], units = 128, kernel_initializer='uniform', activation='relu'))\n",
    "model.add(Dense(input_dim = X_train.shape[1], units = 64, kernel_initializer='uniform', activation='relu'))\n",
    "model.add(Dense(input_dim = X_train.shape[1], units = 32, kernel_initializer='uniform', activation='relu'))\n",
    "model.add(Dense(units = 10, kernel_initializer='uniform', activation='softmax'))\n",
    "model.compile(optimizer='adam', loss='sparse_categorical_crossentropy', metrics=['accuracy'])\n",
    "model.summary()"
   ]
  },
  {
   "cell_type": "code",
   "execution_count": 20,
   "metadata": {},
   "outputs": [
    {
     "name": "stdout",
     "output_type": "stream",
     "text": [
      "Train on 54000 samples, validate on 6000 samples\n",
      "Epoch 1/10\n",
      "54000/54000 [==============================] - 13s 241us/step - loss: 0.2591 - accuracy: 0.9259 - val_loss: 0.1368 - val_accuracy: 0.9587\n",
      "Epoch 2/10\n",
      "54000/54000 [==============================] - 13s 246us/step - loss: 0.1483 - accuracy: 0.9605 - val_loss: 0.1152 - val_accuracy: 0.9732\n",
      "Epoch 3/10\n",
      "54000/54000 [==============================] - 13s 240us/step - loss: 0.1159 - accuracy: 0.9685 - val_loss: 0.1472 - val_accuracy: 0.9652\n",
      "Epoch 4/10\n",
      "54000/54000 [==============================] - 13s 245us/step - loss: 0.1014 - accuracy: 0.9742 - val_loss: 0.0806 - val_accuracy: 0.9753\n",
      "Epoch 5/10\n",
      "54000/54000 [==============================] - 14s 255us/step - loss: 0.0889 - accuracy: 0.9770 - val_loss: 0.1288 - val_accuracy: 0.9745\n",
      "Epoch 6/10\n",
      "54000/54000 [==============================] - 14s 256us/step - loss: 0.0844 - accuracy: 0.9792 - val_loss: 0.1678 - val_accuracy: 0.9702\n",
      "Epoch 7/10\n",
      "54000/54000 [==============================] - 13s 240us/step - loss: 0.0756 - accuracy: 0.9803 - val_loss: 0.1010 - val_accuracy: 0.9773\n",
      "Epoch 8/10\n",
      "54000/54000 [==============================] - 13s 243us/step - loss: 0.0651 - accuracy: 0.9834 - val_loss: 0.1016 - val_accuracy: 0.9765\n",
      "Epoch 9/10\n",
      "54000/54000 [==============================] - 14s 251us/step - loss: 0.0635 - accuracy: 0.9837 - val_loss: 0.1095 - val_accuracy: 0.9782\n",
      "Epoch 10/10\n",
      "54000/54000 [==============================] - 13s 240us/step - loss: 0.0585 - accuracy: 0.9857 - val_loss: 0.1050 - val_accuracy: 0.9797\n"
     ]
    }
   ],
   "source": [
    "model_fit = model.fit(X_train, y_train,validation_split = 0.1,epochs=10, verbose=1)"
   ]
  },
  {
   "cell_type": "code",
   "execution_count": 23,
   "metadata": {},
   "outputs": [
    {
     "name": "stdout",
     "output_type": "stream",
     "text": [
      "dict_keys(['val_loss', 'val_accuracy', 'loss', 'accuracy'])\n"
     ]
    },
    {
     "data": {
      "image/png": "[encoded data removed]",
      "text/plain": [
       "<Figure size 432x288 with 1 Axes>"
      ]
     },
     "metadata": {
      "needs_background": "light"
     },
     "output_type": "display_data"
    }
   ],
   "source": [
    "print(model_fit.history.keys())\n",
    "plt.plot(model_fit.history['accuracy'])\n",
    "plt.plot(model_fit.history['val_accuracy'])\n",
    "plt.title('model accuracy')\n",
    "plt.ylabel('accuracy')\n",
    "plt.xlabel('epoch')\n",
    "plt.legend(['train', 'test'], loc='upper left')\n",
    "plt.show()"
   ]
  },
  {
   "cell_type": "code",
   "execution_count": 24,
   "metadata": {},
   "outputs": [
    {
     "data": {
      "text/html": [
       "<div>\n",
       "<style scoped>\n",
       "    .dataframe tbody tr th:only-of-type {\n",
       "        vertical-align: middle;\n",
       "    }\n",
       "\n",
       "    .dataframe tbody tr th {\n",
       "        vertical-align: top;\n",
       "    }\n",
       "\n",
       "    .dataframe thead th {\n",
       "        text-align: right;\n",
       "    }\n",
       "</style>\n",
       "<table border=\"1\" class=\"dataframe\">\n",
       "  <thead>\n",
       "    <tr style=\"text-align: right;\">\n",
       "      <th></th>\n",
       "      <th>Test accuracy</th>\n",
       "      <th>F1 score</th>\n",
       "      <th>ROC AUC score</th>\n",
       "      <th>Total Loss</th>\n",
       "    </tr>\n",
       "  </thead>\n",
       "  <tbody>\n",
       "    <tr>\n",
       "      <th>0</th>\n",
       "      <td>97.67</td>\n",
       "      <td>0.977</td>\n",
       "      <td>0.999</td>\n",
       "      <td>0.139</td>\n",
       "    </tr>\n",
       "  </tbody>\n",
       "</table>\n",
       "</div>"
      ],
      "text/plain": [
       "   Test accuracy  F1 score  ROC AUC score  Total Loss\n",
       "0          97.67     0.977          0.999       0.139"
      ]
     },
     "metadata": {},
     "output_type": "display_data"
    }
   ],
   "source": [
    "test_loss = model.evaluate(X_test, y_test, verbose=0)\n",
    "f1 = f1_score(y_test, model.predict_classes(X_test), average='micro')\n",
    "roc = roc_auc_score(y_test, model.predict_proba(X_test), multi_class='ovo')\n",
    "stats = pd.DataFrame({'Test accuracy' :  round(test_loss[1]*100,3),\n",
    "                      'F1 score'      : round(f1,3),\n",
    "                      'ROC AUC score' : round(roc,3),\n",
    "                      'Total Loss'    : round(test_loss[0],3)}, index=[0])\n",
    "display(stats)"
   ]
  },
  {
   "cell_type": "code",
   "execution_count": null,
   "metadata": {},
   "outputs": [],
   "source": [
    "#Model 9"
   ]
  },
  {
   "cell_type": "code",
   "execution_count": 56,
   "metadata": {},
   "outputs": [],
   "source": []
  },
  {
   "cell_type": "code",
   "execution_count": 39,
   "metadata": {},
   "outputs": [],
   "source": [
    "import pandas as pd\n",
    "import numpy as np\n",
    "import matplotlib.pyplot as plt\n",
    "import keras\n",
    "from keras.models import Sequential\n",
    "from keras.layers import Dense\n",
    "from keras.layers import Dropout\n",
    "from sklearn.metrics import f1_score, roc_auc_score, log_loss"
   ]
  },
  {
   "cell_type": "code",
   "execution_count": 40,
   "metadata": {},
   "outputs": [],
   "source": [
    "import pandas as pd\n",
    "mnist_train = pd.read_csv('mnist_train.csv', sep=',')\n",
    "mnist_test = pd.read_csv('mnist_test.csv', sep=',')\n",
    "X_train = mnist_train.drop(labels = [\"label\"],axis = 1) \n",
    "y_train = mnist_train[\"label\"]\n",
    "X_test = mnist_test.drop(labels = [\"label\"],axis = 1) \n",
    "y_test=mnist_test[\"label\"]"
   ]
  },
  {
   "cell_type": "code",
   "execution_count": 41,
   "metadata": {},
   "outputs": [
    {
     "name": "stdout",
     "output_type": "stream",
     "text": [
      "Number of unique classes:  10\n",
      "Classes:  [0 1 2 3 4 5 6 7 8 9]\n"
     ]
    }
   ],
   "source": [
    "\n",
    "X_train = X_train.values.reshape(60000, 784)\n",
    "X_test = X_test.values.reshape(10000, 784)\n",
    "from sklearn.preprocessing import MinMaxScaler\n",
    "minmax = MinMaxScaler()\n",
    "X_train = minmax.fit_transform(X_train)\n",
    "X_test = minmax.transform(X_test)"
   ]
  },
  {
   "cell_type": "code",
   "execution_count": 43,
   "metadata": {},
   "outputs": [
    {
     "name": "stdout",
     "output_type": "stream",
     "text": [
      "Model: \"sequential_6\"\n",
      "_________________________________________________________________\n",
      "Layer (type)                 Output Shape              Param #   \n",
      "=================================================================\n",
      "dense_16 (Dense)             (None, 256)               200960    \n",
      "_________________________________________________________________\n",
      "dense_17 (Dense)             (None, 256)               65792     \n",
      "_________________________________________________________________\n",
      "dense_18 (Dense)             (None, 10)                2570      \n",
      "=================================================================\n",
      "Total params: 269,322\n",
      "Trainable params: 269,322\n",
      "Non-trainable params: 0\n",
      "_________________________________________________________________\n"
     ]
    }
   ],
   "source": [
    "model = Sequential()\n",
    "model.add(Dense(input_dim = X_train.shape[1], units = 256, kernel_initializer='uniform', activation='relu'))\n",
    "model.add(Dense(input_dim = X_train.shape[1], units = 256, kernel_initializer='uniform', activation='relu'))\n",
    "model.add(Dense(units = 10, kernel_initializer='uniform', activation='softmax'))\n",
    "model.compile(optimizer='adam', loss='sparse_categorical_crossentropy', metrics=['accuracy'])\n",
    "model.summary()"
   ]
  },
  {
   "cell_type": "code",
   "execution_count": 44,
   "metadata": {},
   "outputs": [
    {
     "name": "stdout",
     "output_type": "stream",
     "text": [
      "Train on 54000 samples, validate on 6000 samples\n",
      "Epoch 1/10\n",
      "54000/54000 [==============================] - 10s 182us/step - loss: 0.2446 - accuracy: 0.9271 - val_loss: 0.1029 - val_accuracy: 0.9707\n",
      "Epoch 2/10\n",
      "54000/54000 [==============================] - 10s 180us/step - loss: 0.0956 - accuracy: 0.9700 - val_loss: 0.0862 - val_accuracy: 0.9735\n",
      "Epoch 3/10\n",
      "54000/54000 [==============================] - 10s 179us/step - loss: 0.0637 - accuracy: 0.9796 - val_loss: 0.0912 - val_accuracy: 0.9748\n",
      "Epoch 4/10\n",
      "54000/54000 [==============================] - 10s 184us/step - loss: 0.0472 - accuracy: 0.9849 - val_loss: 0.0766 - val_accuracy: 0.9788\n",
      "Epoch 5/10\n",
      "54000/54000 [==============================] - 10s 177us/step - loss: 0.0377 - accuracy: 0.9876 - val_loss: 0.0723 - val_accuracy: 0.9830\n",
      "Epoch 6/10\n",
      "54000/54000 [==============================] - 10s 178us/step - loss: 0.0303 - accuracy: 0.9898 - val_loss: 0.0937 - val_accuracy: 0.9770\n",
      "Epoch 7/10\n",
      "54000/54000 [==============================] - 10s 176us/step - loss: 0.0266 - accuracy: 0.9908 - val_loss: 0.0869 - val_accuracy: 0.9800\n",
      "Epoch 8/10\n",
      "54000/54000 [==============================] - 9s 176us/step - loss: 0.0221 - accuracy: 0.9924 - val_loss: 0.0871 - val_accuracy: 0.9813\n",
      "Epoch 9/10\n",
      "54000/54000 [==============================] - 10s 181us/step - loss: 0.0191 - accuracy: 0.9937 - val_loss: 0.1092 - val_accuracy: 0.9778\n",
      "Epoch 10/10\n",
      "54000/54000 [==============================] - 10s 182us/step - loss: 0.0176 - accuracy: 0.9940 - val_loss: 0.1005 - val_accuracy: 0.9792\n"
     ]
    }
   ],
   "source": [
    "model_fit = model.fit(X_train, y_train,validation_split = 0.1,epochs=10, verbose=1)"
   ]
  },
  {
   "cell_type": "code",
   "execution_count": 47,
   "metadata": {},
   "outputs": [
    {
     "name": "stdout",
     "output_type": "stream",
     "text": [
      "dict_keys(['val_loss', 'val_accuracy', 'loss', 'accuracy'])\n"
     ]
    },
    {
     "data": {
      "image/png": "[encoded data removed]",
      "text/plain": [
       "<Figure size 432x288 with 1 Axes>"
      ]
     },
     "metadata": {
      "needs_background": "light"
     },
     "output_type": "display_data"
    }
   ],
   "source": [
    "print(model_fit.history.keys())\n",
    "plt.plot(model_fit.history['accuracy'])\n",
    "plt.plot(model_fit.history['val_accuracy'])\n",
    "plt.title('model accuracy')\n",
    "plt.ylabel('accuracy')\n",
    "plt.xlabel('epoch')\n",
    "plt.legend(['train', 'test'], loc='upper left')\n",
    "plt.show()"
   ]
  },
  {
   "cell_type": "code",
   "execution_count": 48,
   "metadata": {},
   "outputs": [
    {
     "data": {
      "text/html": [
       "<div>\n",
       "<style scoped>\n",
       "    .dataframe tbody tr th:only-of-type {\n",
       "        vertical-align: middle;\n",
       "    }\n",
       "\n",
       "    .dataframe tbody tr th {\n",
       "        vertical-align: top;\n",
       "    }\n",
       "\n",
       "    .dataframe thead th {\n",
       "        text-align: right;\n",
       "    }\n",
       "</style>\n",
       "<table border=\"1\" class=\"dataframe\">\n",
       "  <thead>\n",
       "    <tr style=\"text-align: right;\">\n",
       "      <th></th>\n",
       "      <th>Test accuracy</th>\n",
       "      <th>F1 score</th>\n",
       "      <th>ROC AUC score</th>\n",
       "      <th>Total Loss</th>\n",
       "    </tr>\n",
       "  </thead>\n",
       "  <tbody>\n",
       "    <tr>\n",
       "      <th>0</th>\n",
       "      <td>98.12</td>\n",
       "      <td>0.981</td>\n",
       "      <td>1.0</td>\n",
       "      <td>0.092</td>\n",
       "    </tr>\n",
       "  </tbody>\n",
       "</table>\n",
       "</div>"
      ],
      "text/plain": [
       "   Test accuracy  F1 score  ROC AUC score  Total Loss\n",
       "0          98.12     0.981            1.0       0.092"
      ]
     },
     "metadata": {},
     "output_type": "display_data"
    }
   ],
   "source": [
    "test_loss = model.evaluate(X_test, y_test, verbose=0)\n",
    "f1 = f1_score(y_test, model.predict_classes(X_test), average='micro')\n",
    "roc = roc_auc_score(y_test, model.predict_proba(X_test), multi_class='ovo')\n",
    "stats = pd.DataFrame({'Test accuracy' :  round(test_loss[1]*100,3),\n",
    "                      'F1 score'      : round(f1,3),\n",
    "                      'ROC AUC score' : round(roc,3),\n",
    "                      'Total Loss'    : round(test_loss[0],3)}, index=[0])\n",
    "display(stats)"
   ]
  },
  {
   "cell_type": "code",
   "execution_count": 1,
   "metadata": {},
   "outputs": [],
   "source": [
    "#Model 10"
   ]
  },
  {
   "cell_type": "code",
   "execution_count": 1,
   "metadata": {},
   "outputs": [
    {
     "name": "stderr",
     "output_type": "stream",
     "text": [
      "Using TensorFlow backend.\n",
      "/home/nishit/.conda/envs/venv/lib/python3.7/site-packages/tensorflow/python/framework/dtypes.py:516: FutureWarning: Passing (type, 1) or '1type' as a synonym of type is deprecated; in a future version of numpy, it will be understood as (type, (1,)) / '(1,)type'.\n",
      "  _np_qint8 = np.dtype([(\"qint8\", np.int8, 1)])\n",
      "/home/nishit/.conda/envs/venv/lib/python3.7/site-packages/tensorflow/python/framework/dtypes.py:517: FutureWarning: Passing (type, 1) or '1type' as a synonym of type is deprecated; in a future version of numpy, it will be understood as (type, (1,)) / '(1,)type'.\n",
      "  _np_quint8 = np.dtype([(\"quint8\", np.uint8, 1)])\n",
      "/home/nishit/.conda/envs/venv/lib/python3.7/site-packages/tensorflow/python/framework/dtypes.py:518: FutureWarning: Passing (type, 1) or '1type' as a synonym of type is deprecated; in a future version of numpy, it will be understood as (type, (1,)) / '(1,)type'.\n",
      "  _np_qint16 = np.dtype([(\"qint16\", np.int16, 1)])\n",
      "/home/nishit/.conda/envs/venv/lib/python3.7/site-packages/tensorflow/python/framework/dtypes.py:519: FutureWarning: Passing (type, 1) or '1type' as a synonym of type is deprecated; in a future version of numpy, it will be understood as (type, (1,)) / '(1,)type'.\n",
      "  _np_quint16 = np.dtype([(\"quint16\", np.uint16, 1)])\n",
      "/home/nishit/.conda/envs/venv/lib/python3.7/site-packages/tensorflow/python/framework/dtypes.py:520: FutureWarning: Passing (type, 1) or '1type' as a synonym of type is deprecated; in a future version of numpy, it will be understood as (type, (1,)) / '(1,)type'.\n",
      "  _np_qint32 = np.dtype([(\"qint32\", np.int32, 1)])\n",
      "/home/nishit/.conda/envs/venv/lib/python3.7/site-packages/tensorflow/python/framework/dtypes.py:525: FutureWarning: Passing (type, 1) or '1type' as a synonym of type is deprecated; in a future version of numpy, it will be understood as (type, (1,)) / '(1,)type'.\n",
      "  np_resource = np.dtype([(\"resource\", np.ubyte, 1)])\n",
      "/home/nishit/.conda/envs/venv/lib/python3.7/site-packages/tensorboard/compat/tensorflow_stub/dtypes.py:541: FutureWarning: Passing (type, 1) or '1type' as a synonym of type is deprecated; in a future version of numpy, it will be understood as (type, (1,)) / '(1,)type'.\n",
      "  _np_qint8 = np.dtype([(\"qint8\", np.int8, 1)])\n",
      "/home/nishit/.conda/envs/venv/lib/python3.7/site-packages/tensorboard/compat/tensorflow_stub/dtypes.py:542: FutureWarning: Passing (type, 1) or '1type' as a synonym of type is deprecated; in a future version of numpy, it will be understood as (type, (1,)) / '(1,)type'.\n",
      "  _np_quint8 = np.dtype([(\"quint8\", np.uint8, 1)])\n",
      "/home/nishit/.conda/envs/venv/lib/python3.7/site-packages/tensorboard/compat/tensorflow_stub/dtypes.py:543: FutureWarning: Passing (type, 1) or '1type' as a synonym of type is deprecated; in a future version of numpy, it will be understood as (type, (1,)) / '(1,)type'.\n",
      "  _np_qint16 = np.dtype([(\"qint16\", np.int16, 1)])\n",
      "/home/nishit/.conda/envs/venv/lib/python3.7/site-packages/tensorboard/compat/tensorflow_stub/dtypes.py:544: FutureWarning: Passing (type, 1) or '1type' as a synonym of type is deprecated; in a future version of numpy, it will be understood as (type, (1,)) / '(1,)type'.\n",
      "  _np_quint16 = np.dtype([(\"quint16\", np.uint16, 1)])\n",
      "/home/nishit/.conda/envs/venv/lib/python3.7/site-packages/tensorboard/compat/tensorflow_stub/dtypes.py:545: FutureWarning: Passing (type, 1) or '1type' as a synonym of type is deprecated; in a future version of numpy, it will be understood as (type, (1,)) / '(1,)type'.\n",
      "  _np_qint32 = np.dtype([(\"qint32\", np.int32, 1)])\n",
      "/home/nishit/.conda/envs/venv/lib/python3.7/site-packages/tensorboard/compat/tensorflow_stub/dtypes.py:550: FutureWarning: Passing (type, 1) or '1type' as a synonym of type is deprecated; in a future version of numpy, it will be understood as (type, (1,)) / '(1,)type'.\n",
      "  np_resource = np.dtype([(\"resource\", np.ubyte, 1)])\n"
     ]
    }
   ],
   "source": [
    "import pandas as pd\n",
    "import numpy as np\n",
    "import matplotlib.pyplot as plt\n",
    "import keras\n",
    "from keras.models import Sequential\n",
    "from keras.layers import Dense\n",
    "from keras.layers import Dropout\n",
    "from sklearn.metrics import f1_score, roc_auc_score, log_loss"
   ]
  },
  {
   "cell_type": "code",
   "execution_count": 2,
   "metadata": {},
   "outputs": [],
   "source": [
    "import pandas as pd\n",
    "mnist_train = pd.read_csv('mnist_train.csv', sep=',')\n",
    "mnist_test = pd.read_csv('mnist_test.csv', sep=',')\n",
    "X_train = mnist_train.drop(labels = [\"label\"],axis = 1) \n",
    "y_train = mnist_train[\"label\"]\n",
    "X_test = mnist_test.drop(labels = [\"label\"],axis = 1) \n",
    "y_test=mnist_test[\"label\"]"
   ]
  },
  {
   "cell_type": "code",
   "execution_count": 3,
   "metadata": {},
   "outputs": [
    {
     "name": "stdout",
     "output_type": "stream",
     "text": [
      "Number of unique classes:  10\n",
      "Classes:  [0 1 2 3 4 5 6 7 8 9]\n"
     ]
    }
   ],
   "source": [
    "X_train = X_train.values.reshape(60000, 784)\n",
    "X_test = X_test.values.reshape(10000, 784)\n",
    "from sklearn.preprocessing import MinMaxScaler\n",
    "minmax = MinMaxScaler()\n",
    "X_train = minmax.fit_transform(X_train)\n",
    "X_test = minmax.transform(X_test)"
   ]
  },
  {
   "cell_type": "code",
   "execution_count": 5,
   "metadata": {},
   "outputs": [
    {
     "name": "stdout",
     "output_type": "stream",
     "text": [
      "Model: \"sequential_1\"\n",
      "_________________________________________________________________\n",
      "Layer (type)                 Output Shape              Param #   \n",
      "=================================================================\n",
      "dense_1 (Dense)              (None, 256)               200960    \n",
      "_________________________________________________________________\n",
      "dense_2 (Dense)              (None, 128)               32896     \n",
      "_________________________________________________________________\n",
      "dense_3 (Dense)              (None, 10)                1290      \n",
      "=================================================================\n",
      "Total params: 235,146\n",
      "Trainable params: 235,146\n",
      "Non-trainable params: 0\n",
      "_________________________________________________________________\n"
     ]
    }
   ],
   "source": [
    "model = Sequential()\n",
    "model.add(Dense(input_dim = X_train.shape[1], units = 256, kernel_initializer='uniform', activation='relu'))\n",
    "model.add(Dense(input_dim = X_train.shape[1], units = 128, kernel_initializer='uniform', activation='relu'))\n",
    "model.add(Dense(units = 10, kernel_initializer='uniform', activation='softmax'))\n",
    "model.compile(optimizer='adam', loss='sparse_categorical_crossentropy', metrics=['accuracy'])\n",
    "model.summary()"
   ]
  },
  {
   "cell_type": "code",
   "execution_count": 6,
   "metadata": {},
   "outputs": [
    {
     "name": "stdout",
     "output_type": "stream",
     "text": [
      "WARNING:tensorflow:From /home/nishit/.conda/envs/venv/lib/python3.7/site-packages/keras/backend/tensorflow_backend.py:422: The name tf.global_variables is deprecated. Please use tf.compat.v1.global_variables instead.\n",
      "\n",
      "Train on 54000 samples, validate on 6000 samples\n",
      "Epoch 1/20\n",
      "54000/54000 [==============================] - 10s 177us/step - loss: 0.2706 - accuracy: 0.9192 - val_loss: 0.1047 - val_accuracy: 0.9695\n",
      "Epoch 2/20\n",
      "54000/54000 [==============================] - 10s 183us/step - loss: 0.1009 - accuracy: 0.9692 - val_loss: 0.0974 - val_accuracy: 0.9703\n",
      "Epoch 3/20\n",
      "54000/54000 [==============================] - 10s 190us/step - loss: 0.0687 - accuracy: 0.9789 - val_loss: 0.0823 - val_accuracy: 0.9762\n",
      "Epoch 4/20\n",
      "54000/54000 [==============================] - 11s 201us/step - loss: 0.0500 - accuracy: 0.9842 - val_loss: 0.0884 - val_accuracy: 0.9762\n",
      "Epoch 5/20\n",
      "54000/54000 [==============================] - 11s 199us/step - loss: 0.0366 - accuracy: 0.9878 - val_loss: 0.0787 - val_accuracy: 0.9783\n",
      "Epoch 6/20\n",
      "54000/54000 [==============================] - 11s 206us/step - loss: 0.0285 - accuracy: 0.9905 - val_loss: 0.0856 - val_accuracy: 0.9817\n",
      "Epoch 7/20\n",
      "54000/54000 [==============================] - 12s 224us/step - loss: 0.0257 - accuracy: 0.9919 - val_loss: 0.0818 - val_accuracy: 0.9795\n",
      "Epoch 8/20\n",
      "54000/54000 [==============================] - 10s 189us/step - loss: 0.0217 - accuracy: 0.9928 - val_loss: 0.1100 - val_accuracy: 0.9773\n",
      "Epoch 9/20\n",
      "54000/54000 [==============================] - 10s 189us/step - loss: 0.0182 - accuracy: 0.9940 - val_loss: 0.0959 - val_accuracy: 0.9807\n",
      "Epoch 10/20\n",
      "54000/54000 [==============================] - 11s 195us/step - loss: 0.0170 - accuracy: 0.9942 - val_loss: 0.0866 - val_accuracy: 0.9823\n",
      "Epoch 11/20\n",
      "54000/54000 [==============================] - 16s 290us/step - loss: 0.0166 - accuracy: 0.9946 - val_loss: 0.1095 - val_accuracy: 0.9773\n",
      "Epoch 12/20\n",
      "54000/54000 [==============================] - 7s 127us/step - loss: 0.0135 - accuracy: 0.9959 - val_loss: 0.1169 - val_accuracy: 0.9792\n",
      "Epoch 13/20\n",
      "54000/54000 [==============================] - 9s 161us/step - loss: 0.0144 - accuracy: 0.9958 - val_loss: 0.1042 - val_accuracy: 0.9820\n",
      "Epoch 14/20\n",
      "54000/54000 [==============================] - 18s 330us/step - loss: 0.0118 - accuracy: 0.9961 - val_loss: 0.1010 - val_accuracy: 0.9830\n",
      "Epoch 15/20\n",
      "54000/54000 [==============================] - 14s 267us/step - loss: 0.0134 - accuracy: 0.9957 - val_loss: 0.1150 - val_accuracy: 0.9818\n",
      "Epoch 16/20\n",
      "54000/54000 [==============================] - 15s 283us/step - loss: 0.0123 - accuracy: 0.9961 - val_loss: 0.1143 - val_accuracy: 0.9827\n",
      "Epoch 17/20\n",
      "54000/54000 [==============================] - 7s 133us/step - loss: 0.0084 - accuracy: 0.9974 - val_loss: 0.1288 - val_accuracy: 0.9793\n",
      "Epoch 18/20\n",
      "54000/54000 [==============================] - 7s 132us/step - loss: 0.0108 - accuracy: 0.9965 - val_loss: 0.1131 - val_accuracy: 0.9802\n",
      "Epoch 19/20\n",
      "54000/54000 [==============================] - 10s 178us/step - loss: 0.0108 - accuracy: 0.9966 - val_loss: 0.1099 - val_accuracy: 0.9815\n",
      "Epoch 20/20\n",
      "54000/54000 [==============================] - 10s 183us/step - loss: 0.0082 - accuracy: 0.9973 - val_loss: 0.1004 - val_accuracy: 0.9855\n"
     ]
    }
   ],
   "source": [
    "model_fit = model.fit(X_train, y_train,validation_split = 0.1,epochs=20, verbose=1)"
   ]
  },
  {
   "cell_type": "code",
   "execution_count": 7,
   "metadata": {},
   "outputs": [
    {
     "name": "stdout",
     "output_type": "stream",
     "text": [
      "dict_keys(['val_loss', 'val_accuracy', 'loss', 'accuracy'])\n"
     ]
    },
    {
     "data": {
      "image/png": "[encoded data removed]",
      "text/plain": [
       "<Figure size 432x288 with 1 Axes>"
      ]
     },
     "metadata": {
      "needs_background": "light"
     },
     "output_type": "display_data"
    }
   ],
   "source": [
    "print(model_fit.history.keys())\n",
    "plt.plot(model_fit.history['accuracy'])\n",
    "plt.plot(model_fit.history['val_accuracy'])\n",
    "plt.title('model accuracy')\n",
    "plt.ylabel('accuracy')\n",
    "plt.xlabel('epoch')\n",
    "plt.legend(['train', 'test'], loc='upper left')\n",
    "plt.show()"
   ]
  },
  {
   "cell_type": "code",
   "execution_count": 8,
   "metadata": {},
   "outputs": [
    {
     "data": {
      "text/html": [
       "<div>\n",
       "<style scoped>\n",
       "    .dataframe tbody tr th:only-of-type {\n",
       "        vertical-align: middle;\n",
       "    }\n",
       "\n",
       "    .dataframe tbody tr th {\n",
       "        vertical-align: top;\n",
       "    }\n",
       "\n",
       "    .dataframe thead th {\n",
       "        text-align: right;\n",
       "    }\n",
       "</style>\n",
       "<table border=\"1\" class=\"dataframe\">\n",
       "  <thead>\n",
       "    <tr style=\"text-align: right;\">\n",
       "      <th></th>\n",
       "      <th>Test accuracy</th>\n",
       "      <th>F1 score</th>\n",
       "      <th>ROC AUC score</th>\n",
       "      <th>Total Loss</th>\n",
       "    </tr>\n",
       "  </thead>\n",
       "  <tbody>\n",
       "    <tr>\n",
       "      <th>0</th>\n",
       "      <td>98.43</td>\n",
       "      <td>0.984</td>\n",
       "      <td>1.0</td>\n",
       "      <td>0.104</td>\n",
       "    </tr>\n",
       "  </tbody>\n",
       "</table>\n",
       "</div>"
      ],
      "text/plain": [
       "   Test accuracy  F1 score  ROC AUC score  Total Loss\n",
       "0          98.43     0.984            1.0       0.104"
      ]
     },
     "metadata": {},
     "output_type": "display_data"
    }
   ],
   "source": [
    "test_loss = model.evaluate(X_test, y_test, verbose=0)\n",
    "f1 = f1_score(y_test, model.predict_classes(X_test), average='micro')\n",
    "roc = roc_auc_score(y_test, model.predict_proba(X_test), multi_class='ovo')\n",
    "stats = pd.DataFrame({'Test accuracy' :  round(test_loss[1]*100,3),\n",
    "                      'F1 score'      : round(f1,3),\n",
    "                      'ROC AUC score' : round(roc,3),\n",
    "                      'Total Loss'    : round(test_loss[0],3)}, index=[0])\n",
    "display(stats)"
   ]
  },
  {
   "cell_type": "code",
   "execution_count": 12,
   "metadata": {},
   "outputs": [],
   "source": [
    "#Model 11"
   ]
  },
  {
   "cell_type": "code",
   "execution_count": null,
   "metadata": {},
   "outputs": [],
   "source": []
  },
  {
   "cell_type": "code",
   "execution_count": 13,
   "metadata": {},
   "outputs": [],
   "source": [
    "import pandas as pd\n",
    "import numpy as np\n",
    "import matplotlib.pyplot as plt\n",
    "import keras\n",
    "from keras.models import Sequential\n",
    "from keras.layers import Dense\n",
    "from keras.layers import Dropout\n",
    "from sklearn.metrics import f1_score, roc_auc_score, log_loss"
   ]
  },
  {
   "cell_type": "code",
   "execution_count": 14,
   "metadata": {},
   "outputs": [],
   "source": [
    "import pandas as pd\n",
    "mnist_train = pd.read_csv('mnist_train.csv', sep=',')\n",
    "mnist_test = pd.read_csv('mnist_test.csv', sep=',')\n",
    "X_train = mnist_train.drop(labels = [\"label\"],axis = 1) \n",
    "y_train = mnist_train[\"label\"]\n",
    "X_test = mnist_test.drop(labels = [\"label\"],axis = 1) \n",
    "y_test=mnist_test[\"label\"]"
   ]
  },
  {
   "cell_type": "code",
   "execution_count": 15,
   "metadata": {},
   "outputs": [
    {
     "name": "stdout",
     "output_type": "stream",
     "text": [
      "Number of unique classes:  10\n",
      "Classes:  [0 1 2 3 4 5 6 7 8 9]\n"
     ]
    }
   ],
   "source": [
    "X_train = X_train.values.reshape(60000, 784)\n",
    "X_test = X_test.values.reshape(10000, 784)\n",
    "#feature scaling\n",
    "from sklearn.preprocessing import MinMaxScaler\n",
    "minmax = MinMaxScaler()\n",
    "X_train = minmax.fit_transform(X_train)\n",
    "X_test = minmax.transform(X_test)"
   ]
  },
  {
   "cell_type": "code",
   "execution_count": 16,
   "metadata": {},
   "outputs": [
    {
     "data": {
      "image/png": "[encoded data removed]",
      "text/plain": [
       "<Figure size 1080x360 with 10 Axes>"
      ]
     },
     "metadata": {
      "needs_background": "light"
     },
     "output_type": "display_data"
    }
   ],
   "source": [
    "\n",
    "fig, axes = plt.subplots(nrows=2, ncols=5,figsize=(15,5))          \n",
    "ax = axes.ravel()\n",
    "for i in range(10):\n",
    "    ax[i].imshow(X_train[i].reshape(28,28))\n",
    "    ax[i].title.set_text('Class: ' + str(y_train[i]))              \n",
    "plt.subplots_adjust(hspace=0.5)                                    \n",
    "plt.show()"
   ]
  },
  {
   "cell_type": "code",
   "execution_count": 17,
   "metadata": {},
   "outputs": [
    {
     "name": "stdout",
     "output_type": "stream",
     "text": [
      "Model: \"sequential_4\"\n",
      "_________________________________________________________________\n",
      "Layer (type)                 Output Shape              Param #   \n",
      "=================================================================\n",
      "dense_9 (Dense)              (None, 128)               100480    \n",
      "_________________________________________________________________\n",
      "dense_10 (Dense)             (None, 128)               16512     \n",
      "_________________________________________________________________\n",
      "dense_11 (Dense)             (None, 10)                1290      \n",
      "=================================================================\n",
      "Total params: 118,282\n",
      "Trainable params: 118,282\n",
      "Non-trainable params: 0\n",
      "_________________________________________________________________\n"
     ]
    }
   ],
   "source": [
    "model = Sequential()\n",
    "#add 1st hidden layer\n",
    "model.add(Dense(input_dim = X_train.shape[1], units = 128, kernel_initializer='uniform', activation='relu'))\n",
    "#add output layer\n",
    "model.add(Dense(input_dim = X_train.shape[1], units = 128, kernel_initializer='uniform', activation='relu'))\n",
    "model.add(Dense(units = 10, kernel_initializer='uniform', activation='softmax'))\n",
    "#compile the neural network\n",
    "model.compile(optimizer='adam', loss='sparse_categorical_crossentropy', metrics=['accuracy'])\n",
    "#model summary\n",
    "model.summary()"
   ]
  },
  {
   "cell_type": "code",
   "execution_count": 18,
   "metadata": {},
   "outputs": [
    {
     "name": "stdout",
     "output_type": "stream",
     "text": [
      "Train on 54000 samples, validate on 6000 samples\n",
      "Epoch 1/20\n",
      "54000/54000 [==============================] - 7s 126us/step - loss: 0.3185 - accuracy: 0.9054 - val_loss: 0.1362 - val_accuracy: 0.9632\n",
      "Epoch 2/20\n",
      "54000/54000 [==============================] - 5s 89us/step - loss: 0.1238 - accuracy: 0.9626 - val_loss: 0.1180 - val_accuracy: 0.9668\n",
      "Epoch 3/20\n",
      "54000/54000 [==============================] - 6s 113us/step - loss: 0.0827 - accuracy: 0.9744 - val_loss: 0.0925 - val_accuracy: 0.9748\n",
      "Epoch 4/20\n",
      "54000/54000 [==============================] - 7s 133us/step - loss: 0.0607 - accuracy: 0.9809 - val_loss: 0.0838 - val_accuracy: 0.9760\n",
      "Epoch 5/20\n",
      "54000/54000 [==============================] - 8s 151us/step - loss: 0.0493 - accuracy: 0.9839 - val_loss: 0.0948 - val_accuracy: 0.9725\n",
      "Epoch 6/20\n",
      "54000/54000 [==============================] - 7s 133us/step - loss: 0.0370 - accuracy: 0.9880 - val_loss: 0.0898 - val_accuracy: 0.9763\n",
      "Epoch 7/20\n",
      "54000/54000 [==============================] - 5s 89us/step - loss: 0.0317 - accuracy: 0.9898 - val_loss: 0.0990 - val_accuracy: 0.9775\n",
      "Epoch 8/20\n",
      "54000/54000 [==============================] - 5s 88us/step - loss: 0.0288 - accuracy: 0.9903 - val_loss: 0.0860 - val_accuracy: 0.9803\n",
      "Epoch 9/20\n",
      "54000/54000 [==============================] - 5s 85us/step - loss: 0.0224 - accuracy: 0.9927 - val_loss: 0.1029 - val_accuracy: 0.9785\n",
      "Epoch 10/20\n",
      "54000/54000 [==============================] - 6s 115us/step - loss: 0.0205 - accuracy: 0.9929 - val_loss: 0.0847 - val_accuracy: 0.9802\n",
      "Epoch 11/20\n",
      "54000/54000 [==============================] - 6s 114us/step - loss: 0.0157 - accuracy: 0.9951 - val_loss: 0.1117 - val_accuracy: 0.9758\n",
      "Epoch 12/20\n",
      "54000/54000 [==============================] - 6s 113us/step - loss: 0.0160 - accuracy: 0.9943 - val_loss: 0.1078 - val_accuracy: 0.9790\n",
      "Epoch 13/20\n",
      "54000/54000 [==============================] - 5s 86us/step - loss: 0.0169 - accuracy: 0.9942 - val_loss: 0.1067 - val_accuracy: 0.9803\n",
      "Epoch 14/20\n",
      "54000/54000 [==============================] - 6s 113us/step - loss: 0.0127 - accuracy: 0.9960 - val_loss: 0.1410 - val_accuracy: 0.9775\n",
      "Epoch 15/20\n",
      "54000/54000 [==============================] - 7s 122us/step - loss: 0.0144 - accuracy: 0.9951 - val_loss: 0.1117 - val_accuracy: 0.9797\n",
      "Epoch 16/20\n",
      "54000/54000 [==============================] - 4s 82us/step - loss: 0.0124 - accuracy: 0.9959 - val_loss: 0.1092 - val_accuracy: 0.9817\n",
      "Epoch 17/20\n",
      "54000/54000 [==============================] - 5s 85us/step - loss: 0.0107 - accuracy: 0.9966 - val_loss: 0.1148 - val_accuracy: 0.9810\n",
      "Epoch 18/20\n",
      "54000/54000 [==============================] - 7s 130us/step - loss: 0.0119 - accuracy: 0.9959 - val_loss: 0.1216 - val_accuracy: 0.9790\n",
      "Epoch 19/20\n",
      "54000/54000 [==============================] - 5s 89us/step - loss: 0.0120 - accuracy: 0.9964 - val_loss: 0.1279 - val_accuracy: 0.9802\n",
      "Epoch 20/20\n",
      "54000/54000 [==============================] - 5s 85us/step - loss: 0.0084 - accuracy: 0.9971 - val_loss: 0.1330 - val_accuracy: 0.9800\n"
     ]
    }
   ],
   "source": [
    "#fit training dataset into the model\n",
    "model_fit = model.fit(X_train, y_train,validation_split = 0.1,epochs=20, verbose=1)"
   ]
  },
  {
   "cell_type": "code",
   "execution_count": 20,
   "metadata": {},
   "outputs": [
    {
     "name": "stdout",
     "output_type": "stream",
     "text": [
      "dict_keys(['val_loss', 'val_accuracy', 'loss', 'accuracy'])\n"
     ]
    },
    {
     "data": {
      "image/png": "[encoded data removed]",
      "text/plain": [
       "<Figure size 432x288 with 1 Axes>"
      ]
     },
     "metadata": {
      "needs_background": "light"
     },
     "output_type": "display_data"
    }
   ],
   "source": [
    "print(model_fit.history.keys())\n",
    "plt.plot(model_fit.history['accuracy'])\n",
    "plt.plot(model_fit.history['val_accuracy'])\n",
    "plt.title('model accuracy')\n",
    "plt.ylabel('accuracy')\n",
    "plt.xlabel('epoch')\n",
    "plt.legend(['train', 'test'], loc='upper left')\n",
    "plt.show()"
   ]
  },
  {
   "cell_type": "code",
   "execution_count": 21,
   "metadata": {},
   "outputs": [
    {
     "data": {
      "text/html": [
       "<div>\n",
       "<style scoped>\n",
       "    .dataframe tbody tr th:only-of-type {\n",
       "        vertical-align: middle;\n",
       "    }\n",
       "\n",
       "    .dataframe tbody tr th {\n",
       "        vertical-align: top;\n",
       "    }\n",
       "\n",
       "    .dataframe thead th {\n",
       "        text-align: right;\n",
       "    }\n",
       "</style>\n",
       "<table border=\"1\" class=\"dataframe\">\n",
       "  <thead>\n",
       "    <tr style=\"text-align: right;\">\n",
       "      <th></th>\n",
       "      <th>Test accuracy</th>\n",
       "      <th>F1 score</th>\n",
       "      <th>ROC AUC score</th>\n",
       "      <th>Total Loss</th>\n",
       "    </tr>\n",
       "  </thead>\n",
       "  <tbody>\n",
       "    <tr>\n",
       "      <th>0</th>\n",
       "      <td>97.72</td>\n",
       "      <td>0.977</td>\n",
       "      <td>1.0</td>\n",
       "      <td>0.119</td>\n",
       "    </tr>\n",
       "  </tbody>\n",
       "</table>\n",
       "</div>"
      ],
      "text/plain": [
       "   Test accuracy  F1 score  ROC AUC score  Total Loss\n",
       "0          97.72     0.977            1.0       0.119"
      ]
     },
     "metadata": {},
     "output_type": "display_data"
    }
   ],
   "source": [
    "#evaluate the model for testing dataset\n",
    "test_loss = model.evaluate(X_test, y_test, verbose=0)\n",
    "#calculate evaluation parameters\n",
    "f1 = f1_score(y_test, model.predict_classes(X_test), average='micro')\n",
    "roc = roc_auc_score(y_test, model.predict_proba(X_test), multi_class='ovo')\n",
    "#create evaluation dataframe\n",
    "stats = pd.DataFrame({'Test accuracy' :  round(test_loss[1]*100,3),\n",
    "                      'F1 score'      : round(f1,3),\n",
    "                      'ROC AUC score' : round(roc,3),\n",
    "                      'Total Loss'    : round(test_loss[0],3)}, index=[0])\n",
    "#print evaluation dataframe\n",
    "display(stats)"
   ]
  },
  {
   "cell_type": "code",
   "execution_count": 10,
   "metadata": {},
   "outputs": [],
   "source": [
    "#Model 12"
   ]
  },
  {
   "cell_type": "code",
   "execution_count": 10,
   "metadata": {},
   "outputs": [],
   "source": [
    "import pandas as pd\n",
    "import numpy as np\n",
    "#data visualization packages\n",
    "import matplotlib.pyplot as plt\n",
    "#keras packages\n",
    "import keras\n",
    "from keras.models import Sequential\n",
    "from keras.layers import Convolution2D\n",
    "from keras.layers import Dropout\n",
    "from keras.layers import Flatten\n",
    "from keras.layers import Dense\n",
    "from keras.wrappers.scikit_learn import KerasClassifier\n",
    "from keras.layers import Dropout\n",
    "#model evaluation packages\n",
    "from sklearn.metrics import f1_score, roc_auc_score, log_loss\n",
    "from sklearn.model_selection import cross_val_score, cross_validate"
   ]
  },
  {
   "cell_type": "code",
   "execution_count": 11,
   "metadata": {},
   "outputs": [],
   "source": [
    "import pandas as pd\n",
    "mnist_train = pd.read_csv('mnist_train.csv', sep=',')\n",
    "mnist_test = pd.read_csv('mnist_test.csv', sep=',')\n",
    "X_train = mnist_train.drop(labels = [\"label\"],axis = 1) \n",
    "y_train = mnist_train[\"label\"]\n",
    "X_test = mnist_test.drop(labels = [\"label\"],axis = 1) \n",
    "y_test=mnist_test[\"label\"]"
   ]
  },
  {
   "cell_type": "code",
   "execution_count": 12,
   "metadata": {},
   "outputs": [
    {
     "name": "stdout",
     "output_type": "stream",
     "text": [
      "Number of unique classes:  10\n",
      "Classes:  [0 1 2 3 4 5 6 7 8 9]\n"
     ]
    }
   ],
   "source": [
    "\n",
    "#reshape data from 3-D to 2-D array\n",
    "X_train = X_train.values.reshape(60000, 784)\n",
    "X_test = X_test.values.reshape(10000, 784)\n",
    "#feature scaling\n",
    "from sklearn.preprocessing import MinMaxScaler\n",
    "minmax = MinMaxScaler()\n",
    "#fit and transform training dataset\n",
    "X_train = minmax.fit_transform(X_train)\n",
    "#transform testing dataset\n",
    "X_test = minmax.transform(X_test)\n",
    "print('Number of unique classes: ', len(np.unique(y_train)))\n",
    "print('Classes: ', np.unique(y_train))"
   ]
  },
  {
   "cell_type": "code",
   "execution_count": 13,
   "metadata": {},
   "outputs": [
    {
     "data": {
      "image/png": "[encoded data removed]",
      "text/plain": [
       "<Figure size 1080x360 with 10 Axes>"
      ]
     },
     "metadata": {
      "needs_background": "light"
     },
     "output_type": "display_data"
    }
   ],
   "source": [
    "\n",
    "fig, axes = plt.subplots(nrows=2, ncols=5,figsize=(15,5))          \n",
    "ax = axes.ravel()\n",
    "for i in range(10):\n",
    "    ax[i].imshow(X_train[i].reshape(28,28))\n",
    "    ax[i].title.set_text('Class: ' + str(y_train[i]))              \n",
    "plt.subplots_adjust(hspace=0.5)                                    \n",
    "plt.show()"
   ]
  },
  {
   "cell_type": "code",
   "execution_count": 14,
   "metadata": {},
   "outputs": [
    {
     "name": "stdout",
     "output_type": "stream",
     "text": [
      "Model: \"sequential_3\"\n",
      "_________________________________________________________________\n",
      "Layer (type)                 Output Shape              Param #   \n",
      "=================================================================\n",
      "dense_7 (Dense)              (None, 256)               200960    \n",
      "_________________________________________________________________\n",
      "dropout_2 (Dropout)          (None, 256)               0         \n",
      "_________________________________________________________________\n",
      "dense_8 (Dense)              (None, 256)               65792     \n",
      "_________________________________________________________________\n",
      "dense_9 (Dense)              (None, 10)                2570      \n",
      "=================================================================\n",
      "Total params: 269,322\n",
      "Trainable params: 269,322\n",
      "Non-trainable params: 0\n",
      "_________________________________________________________________\n"
     ]
    }
   ],
   "source": [
    "model = Sequential()\n",
    "#add 1st hidden layer\n",
    "model.add(Dense(input_dim = X_train.shape[1], units = 256, kernel_initializer='uniform', activation='relu'))\n",
    "model.add(Dropout(0.2))\n",
    "#add output layer\n",
    "model.add(Dense(input_dim = X_train.shape[1], units = 256, kernel_initializer='uniform', activation='relu'))\n",
    "model.add(Dense(units = 10, kernel_initializer='uniform', activation='softmax'))\n",
    "#compile the neural network\n",
    "model.compile(optimizer='adam', loss='sparse_categorical_crossentropy', metrics=['accuracy'])\n",
    "#model summary\n",
    "model.summary()"
   ]
  },
  {
   "cell_type": "code",
   "execution_count": 15,
   "metadata": {},
   "outputs": [
    {
     "name": "stdout",
     "output_type": "stream",
     "text": [
      "Train on 54000 samples, validate on 6000 samples\n",
      "Epoch 1/20\n",
      "54000/54000 [==============================] - 12s 229us/step - loss: 0.2661 - accuracy: 0.9196 - val_loss: 0.1065 - val_accuracy: 0.9702\n",
      "Epoch 2/20\n",
      "54000/54000 [==============================] - 7s 135us/step - loss: 0.1168 - accuracy: 0.9640 - val_loss: 0.0857 - val_accuracy: 0.9737\n",
      "Epoch 3/20\n",
      "54000/54000 [==============================] - 8s 141us/step - loss: 0.0881 - accuracy: 0.9726 - val_loss: 0.0769 - val_accuracy: 0.9773\n",
      "Epoch 4/20\n",
      "54000/54000 [==============================] - 8s 154us/step - loss: 0.0697 - accuracy: 0.9776 - val_loss: 0.0682 - val_accuracy: 0.9807\n",
      "Epoch 5/20\n",
      "54000/54000 [==============================] - 8s 148us/step - loss: 0.0579 - accuracy: 0.9819 - val_loss: 0.0667 - val_accuracy: 0.9815\n",
      "Epoch 6/20\n",
      "54000/54000 [==============================] - 8s 142us/step - loss: 0.0516 - accuracy: 0.9833 - val_loss: 0.0763 - val_accuracy: 0.9797\n",
      "Epoch 7/20\n",
      "54000/54000 [==============================] - 7s 135us/step - loss: 0.0466 - accuracy: 0.9847 - val_loss: 0.0657 - val_accuracy: 0.9812\n",
      "Epoch 8/20\n",
      "54000/54000 [==============================] - 7s 131us/step - loss: 0.0401 - accuracy: 0.9873 - val_loss: 0.0695 - val_accuracy: 0.9820\n",
      "Epoch 9/20\n",
      "54000/54000 [==============================] - 7s 129us/step - loss: 0.0389 - accuracy: 0.9875 - val_loss: 0.0665 - val_accuracy: 0.9818\n",
      "Epoch 10/20\n",
      "54000/54000 [==============================] - 7s 128us/step - loss: 0.0345 - accuracy: 0.9888 - val_loss: 0.0721 - val_accuracy: 0.9813\n",
      "Epoch 11/20\n",
      "54000/54000 [==============================] - 7s 130us/step - loss: 0.0325 - accuracy: 0.9895 - val_loss: 0.0788 - val_accuracy: 0.9807\n",
      "Epoch 12/20\n",
      "54000/54000 [==============================] - 7s 128us/step - loss: 0.0307 - accuracy: 0.9898 - val_loss: 0.0786 - val_accuracy: 0.9818\n",
      "Epoch 13/20\n",
      "54000/54000 [==============================] - 7s 134us/step - loss: 0.0295 - accuracy: 0.9906 - val_loss: 0.0760 - val_accuracy: 0.9825\n",
      "Epoch 14/20\n",
      "54000/54000 [==============================] - 7s 130us/step - loss: 0.0308 - accuracy: 0.9901 - val_loss: 0.0740 - val_accuracy: 0.9832\n",
      "Epoch 15/20\n",
      "54000/54000 [==============================] - 7s 135us/step - loss: 0.0252 - accuracy: 0.9922 - val_loss: 0.0835 - val_accuracy: 0.9822\n",
      "Epoch 16/20\n",
      "54000/54000 [==============================] - 11s 211us/step - loss: 0.0271 - accuracy: 0.9909 - val_loss: 0.0789 - val_accuracy: 0.9827\n",
      "Epoch 17/20\n",
      "54000/54000 [==============================] - 12s 221us/step - loss: 0.0253 - accuracy: 0.9919 - val_loss: 0.0719 - val_accuracy: 0.9830\n",
      "Epoch 18/20\n",
      "54000/54000 [==============================] - 15s 286us/step - loss: 0.0231 - accuracy: 0.9929 - val_loss: 0.0884 - val_accuracy: 0.9813\n",
      "Epoch 19/20\n",
      "54000/54000 [==============================] - 13s 246us/step - loss: 0.0216 - accuracy: 0.9929 - val_loss: 0.0823 - val_accuracy: 0.9840\n",
      "Epoch 20/20\n",
      "54000/54000 [==============================] - 10s 190us/step - loss: 0.0215 - accuracy: 0.9934 - val_loss: 0.0883 - val_accuracy: 0.9835\n"
     ]
    }
   ],
   "source": [
    "#fit training dataset into the model\n",
    "model_fit = model.fit(X_train, y_train,validation_split = 0.1,epochs=20, verbose=1)"
   ]
  },
  {
   "cell_type": "code",
   "execution_count": 16,
   "metadata": {},
   "outputs": [
    {
     "name": "stdout",
     "output_type": "stream",
     "text": [
      "dict_keys(['val_loss', 'val_accuracy', 'loss', 'accuracy'])\n"
     ]
    },
    {
     "data": {
      "image/png": "[encoded data removed]",
      "text/plain": [
       "<Figure size 432x288 with 1 Axes>"
      ]
     },
     "metadata": {
      "needs_background": "light"
     },
     "output_type": "display_data"
    }
   ],
   "source": [
    "print(model_fit.history.keys())\n",
    "plt.plot(model_fit.history['accuracy'])\n",
    "plt.plot(model_fit.history['val_accuracy'])\n",
    "plt.title('model accuracy')\n",
    "plt.ylabel('accuracy')\n",
    "plt.xlabel('epoch')\n",
    "plt.legend(['train', 'test'], loc='upper left')\n",
    "plt.show()"
   ]
  },
  {
   "cell_type": "code",
   "execution_count": 17,
   "metadata": {},
   "outputs": [
    {
     "data": {
      "text/html": [
       "<div>\n",
       "<style scoped>\n",
       "    .dataframe tbody tr th:only-of-type {\n",
       "        vertical-align: middle;\n",
       "    }\n",
       "\n",
       "    .dataframe tbody tr th {\n",
       "        vertical-align: top;\n",
       "    }\n",
       "\n",
       "    .dataframe thead th {\n",
       "        text-align: right;\n",
       "    }\n",
       "</style>\n",
       "<table border=\"1\" class=\"dataframe\">\n",
       "  <thead>\n",
       "    <tr style=\"text-align: right;\">\n",
       "      <th></th>\n",
       "      <th>Test accuracy</th>\n",
       "      <th>F1 score</th>\n",
       "      <th>ROC AUC score</th>\n",
       "      <th>Total Loss</th>\n",
       "    </tr>\n",
       "  </thead>\n",
       "  <tbody>\n",
       "    <tr>\n",
       "      <th>0</th>\n",
       "      <td>98.24</td>\n",
       "      <td>0.982</td>\n",
       "      <td>1.0</td>\n",
       "      <td>0.092</td>\n",
       "    </tr>\n",
       "  </tbody>\n",
       "</table>\n",
       "</div>"
      ],
      "text/plain": [
       "   Test accuracy  F1 score  ROC AUC score  Total Loss\n",
       "0          98.24     0.982            1.0       0.092"
      ]
     },
     "metadata": {},
     "output_type": "display_data"
    }
   ],
   "source": [
    "#evaluate the model for testing dataset\n",
    "test_loss = model.evaluate(X_test, y_test, verbose=0)\n",
    "#calculate evaluation parameters\n",
    "f1 = f1_score(y_test, model.predict_classes(X_test), average='micro')\n",
    "roc = roc_auc_score(y_test, model.predict_proba(X_test), multi_class='ovo')\n",
    "#create evaluation dataframe\n",
    "stats = pd.DataFrame({'Test accuracy' :  round(test_loss[1]*100,3),\n",
    "                      'F1 score'      : round(f1,3),\n",
    "                      'ROC AUC score' : round(roc,3),\n",
    "                      'Total Loss'    : round(test_loss[0],3)}, index=[0])\n",
    "#print evaluation dataframe\n",
    "display(stats)"
   ]
  }
 ],
 "metadata": {
  "kernelspec": {
   "display_name": "Python 3",
   "language": "python",
   "name": "python3"
  },
  "language_info": {
   "codemirror_mode": {
    "name": "ipython",
    "version": 3
   },
   "file_extension": ".py",
   "mimetype": "text/x-python",
   "name": "python",
   "nbconvert_exporter": "python",
   "pygments_lexer": "ipython3",
   "version": "3.7.8"
  }
 },
 "nbformat": 4,
 "nbformat_minor": 4
}
